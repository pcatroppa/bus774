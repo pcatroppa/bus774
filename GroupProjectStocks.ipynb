{
  "nbformat": 4,
  "nbformat_minor": 0,
  "metadata": {
    "colab": {
      "provenance": [],
      "machine_shape": "hm",
      "gpuType": "V5E1"
    },
    "kernelspec": {
      "name": "python3",
      "display_name": "Python 3"
    },
    "language_info": {
      "name": "python"
    },
    "accelerator": "TPU"
  },
  "cells": [
    {
      "cell_type": "markdown",
      "source": [
        "# BUS 774: Prediction Modeling Exercise\n",
        "\n",
        "C Kaligotla\n",
        "\n",
        "03-MAR-2025"
      ],
      "metadata": {
        "id": "JsRaVi8--uqT"
      }
    },
    {
      "cell_type": "markdown",
      "source": [
        "## Problem Description\n",
        "\n",
        "Given the scale of daily credit card transactions, detecting Credit Card fraud is challenging and is an ideal use case for ML applications.\n",
        "\n",
        "We have some data about Credit Card fraud from some unnamed institute.\n",
        "\n",
        "Data for training is available here: [Training Data](https://www.dropbox.com/scl/fi/og0ld7ao5d63ofdnkugtd/card_transdata_train.csv?rlkey=ss3wxcp85kwfq4pzgr8enf2if&dl=0)\n",
        "\n",
        "The data has the following Features (Variables):\n",
        "*   *distancefromhome*, numeric - the distance from home where the transaction happened.\n",
        "* *distancefromlast_transaction*, numeric - the distance from last transaction happened.\n",
        "* *ratiotomedianpurchaseprice*, numeric - Ratio of purchased price transaction to median purchase price.\n",
        "* *repeat_retailer*, binary - Is the transaction happened from same retailer.\n",
        "* *used_chip* , binary - Is the transaction through chip (credit card).\n",
        "* *used_pin_number*, binary - Is the transaction happened by using PIN number.\n",
        "* *online_order*, binary - Is the transaction an online order.\n",
        "\n",
        "Target Variable:\n",
        "* *fraud*, binary - Is the transaction fraudulent.\n",
        "\n",
        "**Objective: ***Build an ML algorithm to predict fraudulent transactions.***\n",
        "\n",
        "Data for testing your model performance is available here: [Test Data](https://www.dropbox.com/scl/fi/uk5xgx94oztqok2ef6w9o/card_transdata_test.csv?rlkey=8j7v1lo11dfenibaxxlxxkrf7&dl=1)\n",
        "\n",
        "I asked the following questions:\n",
        "1. What is the best metric to use for evaluating your ML model and why?\n",
        "2. Build and train your model. Use the testing data to evaluate the model. Print out the confusion matrix from your  prediction model on the test data and report chosen metric\n",
        "3. Identify your \"best\" model\n",
        "4. I have new implementation data sets in class post-submission. Calculate your \"best\" model performance on this new implementation data and report your metric.\n",
        " Links:\n",
        " * [OOS_1_Data](https://www.dropbox.com/scl/fi/25tjo6wvwszygrq6kd750/card_OOS1.csv?rlkey=s1yfcjckludqahjf4bzn2u5no&dl=1)\n",
        " * [OOS_2_Data](https://www.dropbox.com/scl/fi/ntfp8rja3b2eofqk0g0ii/card_OOS2.csv?rlkey=0zqir93n37na2ac2o4zagfpd1&dl=1)\n",
        " * [OOS_3_Data](https://www.dropbox.com/scl/fi/o3g5k9aoe5rj6yfovac54/card_OOS3.csv?rlkey=rqail2dcnnc6qv2mv7sbdsnjp&dl=1)\n",
        "\n",
        "\n"
      ],
      "metadata": {
        "id": "vUWhjbeD-4gg"
      }
    },
    {
      "cell_type": "markdown",
      "source": [
        "## Preamble"
      ],
      "metadata": {
        "id": "c1UDHtE7Ccbj"
      }
    },
    {
      "cell_type": "code",
      "source": [
        "import pandas as pd\n",
        "import numpy as np\n",
        "import matplotlib.pyplot as plt\n",
        "import seaborn as sns\n",
        "from sklearn.model_selection import train_test_split, cross_val_score, StratifiedKFold\n",
        "from sklearn.preprocessing import StandardScaler, OneHotEncoder\n",
        "from sklearn.compose import ColumnTransformer\n",
        "from sklearn.impute import SimpleImputer\n",
        "from sklearn.pipeline import Pipeline\n",
        "from sklearn.linear_model import LogisticRegression, RidgeClassifier\n",
        "from sklearn.tree import DecisionTreeClassifier\n",
        "from sklearn.ensemble import RandomForestClassifier\n",
        "from sklearn.neighbors import KNeighborsClassifier\n",
        "from sklearn.linear_model import LassoCV\n",
        "from sklearn.metrics import make_scorer,confusion_matrix, accuracy_score, precision_score, recall_score, f1_score, roc_auc_score"
      ],
      "metadata": {
        "id": "rFFBROrt-2ip"
      },
      "execution_count": 1,
      "outputs": []
    },
    {
      "cell_type": "markdown",
      "source": [
        "## Load Data and Explore"
      ],
      "metadata": {
        "id": "1SWSU-IkChbe"
      }
    },
    {
      "cell_type": "code",
      "source": [
        "train_url = 'https://www.dropbox.com/scl/fi/og0ld7ao5d63ofdnkugtd/card_transdata_train.csv?rlkey=ss3wxcp85kwfq4pzgr8enf2if&e=1&dl=1'\n",
        "test_url= 'https://www.dropbox.com/scl/fi/uk5xgx94oztqok2ef6w9o/card_transdata_test.csv?rlkey=8j7v1lo11dfenibaxxlxxkrf7&dl=1'\n",
        "\n",
        "df=pd.read_csv(train_url)\n",
        "df.head()"
      ],
      "metadata": {
        "colab": {
          "base_uri": "https://localhost:8080/",
          "height": 206
        },
        "id": "0gSZt6KpCjX4",
        "outputId": "bf17e762-557a-4f64-d023-e9f2e9ddafc9"
      },
      "execution_count": 2,
      "outputs": [
        {
          "output_type": "execute_result",
          "data": {
            "text/plain": [
              "   distance_from_home  distance_from_last_transaction  \\\n",
              "0           57.877857                        0.311140   \n",
              "1           10.829943                        0.175592   \n",
              "2            5.091079                        0.805153   \n",
              "3            2.247564                        5.600044   \n",
              "4           44.190936                        0.566486   \n",
              "\n",
              "   ratio_to_median_purchase_price  repeat_retailer  used_chip  \\\n",
              "0                        1.945940                1          1   \n",
              "1                        1.294219                1          0   \n",
              "2                        0.427715                1          0   \n",
              "3                        0.362663                1          1   \n",
              "4                        2.222767                1          1   \n",
              "\n",
              "   used_pin_number  online_order  fraud  \n",
              "0                0             0      0  \n",
              "1                0             0      0  \n",
              "2                0             1      0  \n",
              "3                0             1      0  \n",
              "4                0             1      0  "
            ],
            "text/html": [
              "\n",
              "  <div id=\"df-ee67415c-03fa-4a68-8903-4c697303e38f\" class=\"colab-df-container\">\n",
              "    <div>\n",
              "<style scoped>\n",
              "    .dataframe tbody tr th:only-of-type {\n",
              "        vertical-align: middle;\n",
              "    }\n",
              "\n",
              "    .dataframe tbody tr th {\n",
              "        vertical-align: top;\n",
              "    }\n",
              "\n",
              "    .dataframe thead th {\n",
              "        text-align: right;\n",
              "    }\n",
              "</style>\n",
              "<table border=\"1\" class=\"dataframe\">\n",
              "  <thead>\n",
              "    <tr style=\"text-align: right;\">\n",
              "      <th></th>\n",
              "      <th>distance_from_home</th>\n",
              "      <th>distance_from_last_transaction</th>\n",
              "      <th>ratio_to_median_purchase_price</th>\n",
              "      <th>repeat_retailer</th>\n",
              "      <th>used_chip</th>\n",
              "      <th>used_pin_number</th>\n",
              "      <th>online_order</th>\n",
              "      <th>fraud</th>\n",
              "    </tr>\n",
              "  </thead>\n",
              "  <tbody>\n",
              "    <tr>\n",
              "      <th>0</th>\n",
              "      <td>57.877857</td>\n",
              "      <td>0.311140</td>\n",
              "      <td>1.945940</td>\n",
              "      <td>1</td>\n",
              "      <td>1</td>\n",
              "      <td>0</td>\n",
              "      <td>0</td>\n",
              "      <td>0</td>\n",
              "    </tr>\n",
              "    <tr>\n",
              "      <th>1</th>\n",
              "      <td>10.829943</td>\n",
              "      <td>0.175592</td>\n",
              "      <td>1.294219</td>\n",
              "      <td>1</td>\n",
              "      <td>0</td>\n",
              "      <td>0</td>\n",
              "      <td>0</td>\n",
              "      <td>0</td>\n",
              "    </tr>\n",
              "    <tr>\n",
              "      <th>2</th>\n",
              "      <td>5.091079</td>\n",
              "      <td>0.805153</td>\n",
              "      <td>0.427715</td>\n",
              "      <td>1</td>\n",
              "      <td>0</td>\n",
              "      <td>0</td>\n",
              "      <td>1</td>\n",
              "      <td>0</td>\n",
              "    </tr>\n",
              "    <tr>\n",
              "      <th>3</th>\n",
              "      <td>2.247564</td>\n",
              "      <td>5.600044</td>\n",
              "      <td>0.362663</td>\n",
              "      <td>1</td>\n",
              "      <td>1</td>\n",
              "      <td>0</td>\n",
              "      <td>1</td>\n",
              "      <td>0</td>\n",
              "    </tr>\n",
              "    <tr>\n",
              "      <th>4</th>\n",
              "      <td>44.190936</td>\n",
              "      <td>0.566486</td>\n",
              "      <td>2.222767</td>\n",
              "      <td>1</td>\n",
              "      <td>1</td>\n",
              "      <td>0</td>\n",
              "      <td>1</td>\n",
              "      <td>0</td>\n",
              "    </tr>\n",
              "  </tbody>\n",
              "</table>\n",
              "</div>\n",
              "    <div class=\"colab-df-buttons\">\n",
              "\n",
              "  <div class=\"colab-df-container\">\n",
              "    <button class=\"colab-df-convert\" onclick=\"convertToInteractive('df-ee67415c-03fa-4a68-8903-4c697303e38f')\"\n",
              "            title=\"Convert this dataframe to an interactive table.\"\n",
              "            style=\"display:none;\">\n",
              "\n",
              "  <svg xmlns=\"http://www.w3.org/2000/svg\" height=\"24px\" viewBox=\"0 -960 960 960\">\n",
              "    <path d=\"M120-120v-720h720v720H120Zm60-500h600v-160H180v160Zm220 220h160v-160H400v160Zm0 220h160v-160H400v160ZM180-400h160v-160H180v160Zm440 0h160v-160H620v160ZM180-180h160v-160H180v160Zm440 0h160v-160H620v160Z\"/>\n",
              "  </svg>\n",
              "    </button>\n",
              "\n",
              "  <style>\n",
              "    .colab-df-container {\n",
              "      display:flex;\n",
              "      gap: 12px;\n",
              "    }\n",
              "\n",
              "    .colab-df-convert {\n",
              "      background-color: #E8F0FE;\n",
              "      border: none;\n",
              "      border-radius: 50%;\n",
              "      cursor: pointer;\n",
              "      display: none;\n",
              "      fill: #1967D2;\n",
              "      height: 32px;\n",
              "      padding: 0 0 0 0;\n",
              "      width: 32px;\n",
              "    }\n",
              "\n",
              "    .colab-df-convert:hover {\n",
              "      background-color: #E2EBFA;\n",
              "      box-shadow: 0px 1px 2px rgba(60, 64, 67, 0.3), 0px 1px 3px 1px rgba(60, 64, 67, 0.15);\n",
              "      fill: #174EA6;\n",
              "    }\n",
              "\n",
              "    .colab-df-buttons div {\n",
              "      margin-bottom: 4px;\n",
              "    }\n",
              "\n",
              "    [theme=dark] .colab-df-convert {\n",
              "      background-color: #3B4455;\n",
              "      fill: #D2E3FC;\n",
              "    }\n",
              "\n",
              "    [theme=dark] .colab-df-convert:hover {\n",
              "      background-color: #434B5C;\n",
              "      box-shadow: 0px 1px 3px 1px rgba(0, 0, 0, 0.15);\n",
              "      filter: drop-shadow(0px 1px 2px rgba(0, 0, 0, 0.3));\n",
              "      fill: #FFFFFF;\n",
              "    }\n",
              "  </style>\n",
              "\n",
              "    <script>\n",
              "      const buttonEl =\n",
              "        document.querySelector('#df-ee67415c-03fa-4a68-8903-4c697303e38f button.colab-df-convert');\n",
              "      buttonEl.style.display =\n",
              "        google.colab.kernel.accessAllowed ? 'block' : 'none';\n",
              "\n",
              "      async function convertToInteractive(key) {\n",
              "        const element = document.querySelector('#df-ee67415c-03fa-4a68-8903-4c697303e38f');\n",
              "        const dataTable =\n",
              "          await google.colab.kernel.invokeFunction('convertToInteractive',\n",
              "                                                    [key], {});\n",
              "        if (!dataTable) return;\n",
              "\n",
              "        const docLinkHtml = 'Like what you see? Visit the ' +\n",
              "          '<a target=\"_blank\" href=https://colab.research.google.com/notebooks/data_table.ipynb>data table notebook</a>'\n",
              "          + ' to learn more about interactive tables.';\n",
              "        element.innerHTML = '';\n",
              "        dataTable['output_type'] = 'display_data';\n",
              "        await google.colab.output.renderOutput(dataTable, element);\n",
              "        const docLink = document.createElement('div');\n",
              "        docLink.innerHTML = docLinkHtml;\n",
              "        element.appendChild(docLink);\n",
              "      }\n",
              "    </script>\n",
              "  </div>\n",
              "\n",
              "\n",
              "<div id=\"df-68e1fbfc-ea75-4840-b541-316328f8e806\">\n",
              "  <button class=\"colab-df-quickchart\" onclick=\"quickchart('df-68e1fbfc-ea75-4840-b541-316328f8e806')\"\n",
              "            title=\"Suggest charts\"\n",
              "            style=\"display:none;\">\n",
              "\n",
              "<svg xmlns=\"http://www.w3.org/2000/svg\" height=\"24px\"viewBox=\"0 0 24 24\"\n",
              "     width=\"24px\">\n",
              "    <g>\n",
              "        <path d=\"M19 3H5c-1.1 0-2 .9-2 2v14c0 1.1.9 2 2 2h14c1.1 0 2-.9 2-2V5c0-1.1-.9-2-2-2zM9 17H7v-7h2v7zm4 0h-2V7h2v10zm4 0h-2v-4h2v4z\"/>\n",
              "    </g>\n",
              "</svg>\n",
              "  </button>\n",
              "\n",
              "<style>\n",
              "  .colab-df-quickchart {\n",
              "      --bg-color: #E8F0FE;\n",
              "      --fill-color: #1967D2;\n",
              "      --hover-bg-color: #E2EBFA;\n",
              "      --hover-fill-color: #174EA6;\n",
              "      --disabled-fill-color: #AAA;\n",
              "      --disabled-bg-color: #DDD;\n",
              "  }\n",
              "\n",
              "  [theme=dark] .colab-df-quickchart {\n",
              "      --bg-color: #3B4455;\n",
              "      --fill-color: #D2E3FC;\n",
              "      --hover-bg-color: #434B5C;\n",
              "      --hover-fill-color: #FFFFFF;\n",
              "      --disabled-bg-color: #3B4455;\n",
              "      --disabled-fill-color: #666;\n",
              "  }\n",
              "\n",
              "  .colab-df-quickchart {\n",
              "    background-color: var(--bg-color);\n",
              "    border: none;\n",
              "    border-radius: 50%;\n",
              "    cursor: pointer;\n",
              "    display: none;\n",
              "    fill: var(--fill-color);\n",
              "    height: 32px;\n",
              "    padding: 0;\n",
              "    width: 32px;\n",
              "  }\n",
              "\n",
              "  .colab-df-quickchart:hover {\n",
              "    background-color: var(--hover-bg-color);\n",
              "    box-shadow: 0 1px 2px rgba(60, 64, 67, 0.3), 0 1px 3px 1px rgba(60, 64, 67, 0.15);\n",
              "    fill: var(--button-hover-fill-color);\n",
              "  }\n",
              "\n",
              "  .colab-df-quickchart-complete:disabled,\n",
              "  .colab-df-quickchart-complete:disabled:hover {\n",
              "    background-color: var(--disabled-bg-color);\n",
              "    fill: var(--disabled-fill-color);\n",
              "    box-shadow: none;\n",
              "  }\n",
              "\n",
              "  .colab-df-spinner {\n",
              "    border: 2px solid var(--fill-color);\n",
              "    border-color: transparent;\n",
              "    border-bottom-color: var(--fill-color);\n",
              "    animation:\n",
              "      spin 1s steps(1) infinite;\n",
              "  }\n",
              "\n",
              "  @keyframes spin {\n",
              "    0% {\n",
              "      border-color: transparent;\n",
              "      border-bottom-color: var(--fill-color);\n",
              "      border-left-color: var(--fill-color);\n",
              "    }\n",
              "    20% {\n",
              "      border-color: transparent;\n",
              "      border-left-color: var(--fill-color);\n",
              "      border-top-color: var(--fill-color);\n",
              "    }\n",
              "    30% {\n",
              "      border-color: transparent;\n",
              "      border-left-color: var(--fill-color);\n",
              "      border-top-color: var(--fill-color);\n",
              "      border-right-color: var(--fill-color);\n",
              "    }\n",
              "    40% {\n",
              "      border-color: transparent;\n",
              "      border-right-color: var(--fill-color);\n",
              "      border-top-color: var(--fill-color);\n",
              "    }\n",
              "    60% {\n",
              "      border-color: transparent;\n",
              "      border-right-color: var(--fill-color);\n",
              "    }\n",
              "    80% {\n",
              "      border-color: transparent;\n",
              "      border-right-color: var(--fill-color);\n",
              "      border-bottom-color: var(--fill-color);\n",
              "    }\n",
              "    90% {\n",
              "      border-color: transparent;\n",
              "      border-bottom-color: var(--fill-color);\n",
              "    }\n",
              "  }\n",
              "</style>\n",
              "\n",
              "  <script>\n",
              "    async function quickchart(key) {\n",
              "      const quickchartButtonEl =\n",
              "        document.querySelector('#' + key + ' button');\n",
              "      quickchartButtonEl.disabled = true;  // To prevent multiple clicks.\n",
              "      quickchartButtonEl.classList.add('colab-df-spinner');\n",
              "      try {\n",
              "        const charts = await google.colab.kernel.invokeFunction(\n",
              "            'suggestCharts', [key], {});\n",
              "      } catch (error) {\n",
              "        console.error('Error during call to suggestCharts:', error);\n",
              "      }\n",
              "      quickchartButtonEl.classList.remove('colab-df-spinner');\n",
              "      quickchartButtonEl.classList.add('colab-df-quickchart-complete');\n",
              "    }\n",
              "    (() => {\n",
              "      let quickchartButtonEl =\n",
              "        document.querySelector('#df-68e1fbfc-ea75-4840-b541-316328f8e806 button');\n",
              "      quickchartButtonEl.style.display =\n",
              "        google.colab.kernel.accessAllowed ? 'block' : 'none';\n",
              "    })();\n",
              "  </script>\n",
              "</div>\n",
              "\n",
              "    </div>\n",
              "  </div>\n"
            ],
            "application/vnd.google.colaboratory.intrinsic+json": {
              "type": "dataframe",
              "variable_name": "df"
            }
          },
          "metadata": {},
          "execution_count": 2
        }
      ]
    },
    {
      "cell_type": "code",
      "source": [
        "print(df.shape)\n",
        "df.info()"
      ],
      "metadata": {
        "colab": {
          "base_uri": "https://localhost:8080/"
        },
        "id": "kcppGy93EvKF",
        "outputId": "5675acb9-9979-4425-adc1-64b0f46dc96c"
      },
      "execution_count": 3,
      "outputs": [
        {
          "output_type": "stream",
          "name": "stdout",
          "text": [
            "(399999, 8)\n",
            "<class 'pandas.core.frame.DataFrame'>\n",
            "RangeIndex: 399999 entries, 0 to 399998\n",
            "Data columns (total 8 columns):\n",
            " #   Column                          Non-Null Count   Dtype  \n",
            "---  ------                          --------------   -----  \n",
            " 0   distance_from_home              399999 non-null  float64\n",
            " 1   distance_from_last_transaction  399999 non-null  float64\n",
            " 2   ratio_to_median_purchase_price  399999 non-null  float64\n",
            " 3   repeat_retailer                 399999 non-null  int64  \n",
            " 4   used_chip                       399999 non-null  int64  \n",
            " 5   used_pin_number                 399999 non-null  int64  \n",
            " 6   online_order                    399999 non-null  int64  \n",
            " 7   fraud                           399999 non-null  int64  \n",
            "dtypes: float64(3), int64(5)\n",
            "memory usage: 24.4 MB\n"
          ]
        }
      ]
    },
    {
      "cell_type": "markdown",
      "source": [
        "Note: Everything here is numerical, so we don't have to convert anything.\n",
        "\n",
        "If for instance, fraud was \"Y\" and \"N\" instead of 1 and 0, we'd use code like this:\n",
        "\n",
        "```\n",
        "y = data['fraud'].apply(lambda x: 1 if x == 'Y' else 0)  # Encode target\n",
        "```\n",
        "\n",
        "There's no missing data, so we don't have to worry about imputation."
      ],
      "metadata": {
        "id": "5h8lR-opFI9G"
      }
    },
    {
      "cell_type": "code",
      "source": [
        "df.describe()"
      ],
      "metadata": {
        "colab": {
          "base_uri": "https://localhost:8080/",
          "height": 300
        },
        "id": "545iTQLaEzGG",
        "outputId": "167d1dd1-d15f-4f68-8e8d-a25f4262c37f"
      },
      "execution_count": 4,
      "outputs": [
        {
          "output_type": "execute_result",
          "data": {
            "text/plain": [
              "       distance_from_home  distance_from_last_transaction  \\\n",
              "count       399999.000000                   399999.000000   \n",
              "mean            26.736294                        4.982687   \n",
              "std             66.599017                       22.296888   \n",
              "min              0.004874                        0.000419   \n",
              "25%              3.872526                        0.296428   \n",
              "50%              9.975605                        0.998808   \n",
              "75%             25.779398                        3.338713   \n",
              "max          10632.723672                     2663.513077   \n",
              "\n",
              "       ratio_to_median_purchase_price  repeat_retailer      used_chip  \\\n",
              "count                   399999.000000    399999.000000  399999.000000   \n",
              "mean                         1.819569         0.881702       0.350601   \n",
              "std                          2.794580         0.322961       0.477159   \n",
              "min                          0.004399         0.000000       0.000000   \n",
              "25%                          0.474748         1.000000       0.000000   \n",
              "50%                          0.997292         1.000000       0.000000   \n",
              "75%                          2.095440         1.000000       1.000000   \n",
              "max                        266.689692         1.000000       1.000000   \n",
              "\n",
              "       used_pin_number   online_order          fraud  \n",
              "count    399999.000000  399999.000000  399999.000000  \n",
              "mean          0.101473       0.651657       0.087148  \n",
              "std           0.301954       0.476446       0.282052  \n",
              "min           0.000000       0.000000       0.000000  \n",
              "25%           0.000000       0.000000       0.000000  \n",
              "50%           0.000000       1.000000       0.000000  \n",
              "75%           0.000000       1.000000       0.000000  \n",
              "max           1.000000       1.000000       1.000000  "
            ],
            "text/html": [
              "\n",
              "  <div id=\"df-3260aa17-91de-4f2d-a5dc-80d3c1e88113\" class=\"colab-df-container\">\n",
              "    <div>\n",
              "<style scoped>\n",
              "    .dataframe tbody tr th:only-of-type {\n",
              "        vertical-align: middle;\n",
              "    }\n",
              "\n",
              "    .dataframe tbody tr th {\n",
              "        vertical-align: top;\n",
              "    }\n",
              "\n",
              "    .dataframe thead th {\n",
              "        text-align: right;\n",
              "    }\n",
              "</style>\n",
              "<table border=\"1\" class=\"dataframe\">\n",
              "  <thead>\n",
              "    <tr style=\"text-align: right;\">\n",
              "      <th></th>\n",
              "      <th>distance_from_home</th>\n",
              "      <th>distance_from_last_transaction</th>\n",
              "      <th>ratio_to_median_purchase_price</th>\n",
              "      <th>repeat_retailer</th>\n",
              "      <th>used_chip</th>\n",
              "      <th>used_pin_number</th>\n",
              "      <th>online_order</th>\n",
              "      <th>fraud</th>\n",
              "    </tr>\n",
              "  </thead>\n",
              "  <tbody>\n",
              "    <tr>\n",
              "      <th>count</th>\n",
              "      <td>399999.000000</td>\n",
              "      <td>399999.000000</td>\n",
              "      <td>399999.000000</td>\n",
              "      <td>399999.000000</td>\n",
              "      <td>399999.000000</td>\n",
              "      <td>399999.000000</td>\n",
              "      <td>399999.000000</td>\n",
              "      <td>399999.000000</td>\n",
              "    </tr>\n",
              "    <tr>\n",
              "      <th>mean</th>\n",
              "      <td>26.736294</td>\n",
              "      <td>4.982687</td>\n",
              "      <td>1.819569</td>\n",
              "      <td>0.881702</td>\n",
              "      <td>0.350601</td>\n",
              "      <td>0.101473</td>\n",
              "      <td>0.651657</td>\n",
              "      <td>0.087148</td>\n",
              "    </tr>\n",
              "    <tr>\n",
              "      <th>std</th>\n",
              "      <td>66.599017</td>\n",
              "      <td>22.296888</td>\n",
              "      <td>2.794580</td>\n",
              "      <td>0.322961</td>\n",
              "      <td>0.477159</td>\n",
              "      <td>0.301954</td>\n",
              "      <td>0.476446</td>\n",
              "      <td>0.282052</td>\n",
              "    </tr>\n",
              "    <tr>\n",
              "      <th>min</th>\n",
              "      <td>0.004874</td>\n",
              "      <td>0.000419</td>\n",
              "      <td>0.004399</td>\n",
              "      <td>0.000000</td>\n",
              "      <td>0.000000</td>\n",
              "      <td>0.000000</td>\n",
              "      <td>0.000000</td>\n",
              "      <td>0.000000</td>\n",
              "    </tr>\n",
              "    <tr>\n",
              "      <th>25%</th>\n",
              "      <td>3.872526</td>\n",
              "      <td>0.296428</td>\n",
              "      <td>0.474748</td>\n",
              "      <td>1.000000</td>\n",
              "      <td>0.000000</td>\n",
              "      <td>0.000000</td>\n",
              "      <td>0.000000</td>\n",
              "      <td>0.000000</td>\n",
              "    </tr>\n",
              "    <tr>\n",
              "      <th>50%</th>\n",
              "      <td>9.975605</td>\n",
              "      <td>0.998808</td>\n",
              "      <td>0.997292</td>\n",
              "      <td>1.000000</td>\n",
              "      <td>0.000000</td>\n",
              "      <td>0.000000</td>\n",
              "      <td>1.000000</td>\n",
              "      <td>0.000000</td>\n",
              "    </tr>\n",
              "    <tr>\n",
              "      <th>75%</th>\n",
              "      <td>25.779398</td>\n",
              "      <td>3.338713</td>\n",
              "      <td>2.095440</td>\n",
              "      <td>1.000000</td>\n",
              "      <td>1.000000</td>\n",
              "      <td>0.000000</td>\n",
              "      <td>1.000000</td>\n",
              "      <td>0.000000</td>\n",
              "    </tr>\n",
              "    <tr>\n",
              "      <th>max</th>\n",
              "      <td>10632.723672</td>\n",
              "      <td>2663.513077</td>\n",
              "      <td>266.689692</td>\n",
              "      <td>1.000000</td>\n",
              "      <td>1.000000</td>\n",
              "      <td>1.000000</td>\n",
              "      <td>1.000000</td>\n",
              "      <td>1.000000</td>\n",
              "    </tr>\n",
              "  </tbody>\n",
              "</table>\n",
              "</div>\n",
              "    <div class=\"colab-df-buttons\">\n",
              "\n",
              "  <div class=\"colab-df-container\">\n",
              "    <button class=\"colab-df-convert\" onclick=\"convertToInteractive('df-3260aa17-91de-4f2d-a5dc-80d3c1e88113')\"\n",
              "            title=\"Convert this dataframe to an interactive table.\"\n",
              "            style=\"display:none;\">\n",
              "\n",
              "  <svg xmlns=\"http://www.w3.org/2000/svg\" height=\"24px\" viewBox=\"0 -960 960 960\">\n",
              "    <path d=\"M120-120v-720h720v720H120Zm60-500h600v-160H180v160Zm220 220h160v-160H400v160Zm0 220h160v-160H400v160ZM180-400h160v-160H180v160Zm440 0h160v-160H620v160ZM180-180h160v-160H180v160Zm440 0h160v-160H620v160Z\"/>\n",
              "  </svg>\n",
              "    </button>\n",
              "\n",
              "  <style>\n",
              "    .colab-df-container {\n",
              "      display:flex;\n",
              "      gap: 12px;\n",
              "    }\n",
              "\n",
              "    .colab-df-convert {\n",
              "      background-color: #E8F0FE;\n",
              "      border: none;\n",
              "      border-radius: 50%;\n",
              "      cursor: pointer;\n",
              "      display: none;\n",
              "      fill: #1967D2;\n",
              "      height: 32px;\n",
              "      padding: 0 0 0 0;\n",
              "      width: 32px;\n",
              "    }\n",
              "\n",
              "    .colab-df-convert:hover {\n",
              "      background-color: #E2EBFA;\n",
              "      box-shadow: 0px 1px 2px rgba(60, 64, 67, 0.3), 0px 1px 3px 1px rgba(60, 64, 67, 0.15);\n",
              "      fill: #174EA6;\n",
              "    }\n",
              "\n",
              "    .colab-df-buttons div {\n",
              "      margin-bottom: 4px;\n",
              "    }\n",
              "\n",
              "    [theme=dark] .colab-df-convert {\n",
              "      background-color: #3B4455;\n",
              "      fill: #D2E3FC;\n",
              "    }\n",
              "\n",
              "    [theme=dark] .colab-df-convert:hover {\n",
              "      background-color: #434B5C;\n",
              "      box-shadow: 0px 1px 3px 1px rgba(0, 0, 0, 0.15);\n",
              "      filter: drop-shadow(0px 1px 2px rgba(0, 0, 0, 0.3));\n",
              "      fill: #FFFFFF;\n",
              "    }\n",
              "  </style>\n",
              "\n",
              "    <script>\n",
              "      const buttonEl =\n",
              "        document.querySelector('#df-3260aa17-91de-4f2d-a5dc-80d3c1e88113 button.colab-df-convert');\n",
              "      buttonEl.style.display =\n",
              "        google.colab.kernel.accessAllowed ? 'block' : 'none';\n",
              "\n",
              "      async function convertToInteractive(key) {\n",
              "        const element = document.querySelector('#df-3260aa17-91de-4f2d-a5dc-80d3c1e88113');\n",
              "        const dataTable =\n",
              "          await google.colab.kernel.invokeFunction('convertToInteractive',\n",
              "                                                    [key], {});\n",
              "        if (!dataTable) return;\n",
              "\n",
              "        const docLinkHtml = 'Like what you see? Visit the ' +\n",
              "          '<a target=\"_blank\" href=https://colab.research.google.com/notebooks/data_table.ipynb>data table notebook</a>'\n",
              "          + ' to learn more about interactive tables.';\n",
              "        element.innerHTML = '';\n",
              "        dataTable['output_type'] = 'display_data';\n",
              "        await google.colab.output.renderOutput(dataTable, element);\n",
              "        const docLink = document.createElement('div');\n",
              "        docLink.innerHTML = docLinkHtml;\n",
              "        element.appendChild(docLink);\n",
              "      }\n",
              "    </script>\n",
              "  </div>\n",
              "\n",
              "\n",
              "<div id=\"df-e701431e-cda8-4002-b22e-0b0ef0d737d9\">\n",
              "  <button class=\"colab-df-quickchart\" onclick=\"quickchart('df-e701431e-cda8-4002-b22e-0b0ef0d737d9')\"\n",
              "            title=\"Suggest charts\"\n",
              "            style=\"display:none;\">\n",
              "\n",
              "<svg xmlns=\"http://www.w3.org/2000/svg\" height=\"24px\"viewBox=\"0 0 24 24\"\n",
              "     width=\"24px\">\n",
              "    <g>\n",
              "        <path d=\"M19 3H5c-1.1 0-2 .9-2 2v14c0 1.1.9 2 2 2h14c1.1 0 2-.9 2-2V5c0-1.1-.9-2-2-2zM9 17H7v-7h2v7zm4 0h-2V7h2v10zm4 0h-2v-4h2v4z\"/>\n",
              "    </g>\n",
              "</svg>\n",
              "  </button>\n",
              "\n",
              "<style>\n",
              "  .colab-df-quickchart {\n",
              "      --bg-color: #E8F0FE;\n",
              "      --fill-color: #1967D2;\n",
              "      --hover-bg-color: #E2EBFA;\n",
              "      --hover-fill-color: #174EA6;\n",
              "      --disabled-fill-color: #AAA;\n",
              "      --disabled-bg-color: #DDD;\n",
              "  }\n",
              "\n",
              "  [theme=dark] .colab-df-quickchart {\n",
              "      --bg-color: #3B4455;\n",
              "      --fill-color: #D2E3FC;\n",
              "      --hover-bg-color: #434B5C;\n",
              "      --hover-fill-color: #FFFFFF;\n",
              "      --disabled-bg-color: #3B4455;\n",
              "      --disabled-fill-color: #666;\n",
              "  }\n",
              "\n",
              "  .colab-df-quickchart {\n",
              "    background-color: var(--bg-color);\n",
              "    border: none;\n",
              "    border-radius: 50%;\n",
              "    cursor: pointer;\n",
              "    display: none;\n",
              "    fill: var(--fill-color);\n",
              "    height: 32px;\n",
              "    padding: 0;\n",
              "    width: 32px;\n",
              "  }\n",
              "\n",
              "  .colab-df-quickchart:hover {\n",
              "    background-color: var(--hover-bg-color);\n",
              "    box-shadow: 0 1px 2px rgba(60, 64, 67, 0.3), 0 1px 3px 1px rgba(60, 64, 67, 0.15);\n",
              "    fill: var(--button-hover-fill-color);\n",
              "  }\n",
              "\n",
              "  .colab-df-quickchart-complete:disabled,\n",
              "  .colab-df-quickchart-complete:disabled:hover {\n",
              "    background-color: var(--disabled-bg-color);\n",
              "    fill: var(--disabled-fill-color);\n",
              "    box-shadow: none;\n",
              "  }\n",
              "\n",
              "  .colab-df-spinner {\n",
              "    border: 2px solid var(--fill-color);\n",
              "    border-color: transparent;\n",
              "    border-bottom-color: var(--fill-color);\n",
              "    animation:\n",
              "      spin 1s steps(1) infinite;\n",
              "  }\n",
              "\n",
              "  @keyframes spin {\n",
              "    0% {\n",
              "      border-color: transparent;\n",
              "      border-bottom-color: var(--fill-color);\n",
              "      border-left-color: var(--fill-color);\n",
              "    }\n",
              "    20% {\n",
              "      border-color: transparent;\n",
              "      border-left-color: var(--fill-color);\n",
              "      border-top-color: var(--fill-color);\n",
              "    }\n",
              "    30% {\n",
              "      border-color: transparent;\n",
              "      border-left-color: var(--fill-color);\n",
              "      border-top-color: var(--fill-color);\n",
              "      border-right-color: var(--fill-color);\n",
              "    }\n",
              "    40% {\n",
              "      border-color: transparent;\n",
              "      border-right-color: var(--fill-color);\n",
              "      border-top-color: var(--fill-color);\n",
              "    }\n",
              "    60% {\n",
              "      border-color: transparent;\n",
              "      border-right-color: var(--fill-color);\n",
              "    }\n",
              "    80% {\n",
              "      border-color: transparent;\n",
              "      border-right-color: var(--fill-color);\n",
              "      border-bottom-color: var(--fill-color);\n",
              "    }\n",
              "    90% {\n",
              "      border-color: transparent;\n",
              "      border-bottom-color: var(--fill-color);\n",
              "    }\n",
              "  }\n",
              "</style>\n",
              "\n",
              "  <script>\n",
              "    async function quickchart(key) {\n",
              "      const quickchartButtonEl =\n",
              "        document.querySelector('#' + key + ' button');\n",
              "      quickchartButtonEl.disabled = true;  // To prevent multiple clicks.\n",
              "      quickchartButtonEl.classList.add('colab-df-spinner');\n",
              "      try {\n",
              "        const charts = await google.colab.kernel.invokeFunction(\n",
              "            'suggestCharts', [key], {});\n",
              "      } catch (error) {\n",
              "        console.error('Error during call to suggestCharts:', error);\n",
              "      }\n",
              "      quickchartButtonEl.classList.remove('colab-df-spinner');\n",
              "      quickchartButtonEl.classList.add('colab-df-quickchart-complete');\n",
              "    }\n",
              "    (() => {\n",
              "      let quickchartButtonEl =\n",
              "        document.querySelector('#df-e701431e-cda8-4002-b22e-0b0ef0d737d9 button');\n",
              "      quickchartButtonEl.style.display =\n",
              "        google.colab.kernel.accessAllowed ? 'block' : 'none';\n",
              "    })();\n",
              "  </script>\n",
              "</div>\n",
              "\n",
              "    </div>\n",
              "  </div>\n"
            ],
            "application/vnd.google.colaboratory.intrinsic+json": {
              "type": "dataframe",
              "summary": "{\n  \"name\": \"df\",\n  \"rows\": 8,\n  \"fields\": [\n    {\n      \"column\": \"distance_from_home\",\n      \"properties\": {\n        \"dtype\": \"number\",\n        \"std\": 140926.17458487002,\n        \"min\": 0.004874385,\n        \"max\": 399999.0,\n        \"num_unique_values\": 8,\n        \"samples\": [\n          26.736293868544365,\n          9.975604706,\n          399999.0\n        ],\n        \"semantic_type\": \"\",\n        \"description\": \"\"\n      }\n    },\n    {\n      \"column\": \"distance_from_last_transaction\",\n      \"properties\": {\n        \"dtype\": \"number\",\n        \"std\": 141287.92519583064,\n        \"min\": 0.000418758,\n        \"max\": 399999.0,\n        \"num_unique_values\": 8,\n        \"samples\": [\n          4.982686847918754,\n          0.998808028,\n          399999.0\n        ],\n        \"semantic_type\": \"\",\n        \"description\": \"\"\n      }\n    },\n    {\n      \"column\": \"ratio_to_median_purchase_price\",\n      \"properties\": {\n        \"dtype\": \"number\",\n        \"std\": 141407.1498461272,\n        \"min\": 0.00439924,\n        \"max\": 399999.0,\n        \"num_unique_values\": 8,\n        \"samples\": [\n          1.8195689004971007,\n          0.997291821602012,\n          399999.0\n        ],\n        \"semantic_type\": \"\",\n        \"description\": \"\"\n      }\n    },\n    {\n      \"column\": \"repeat_retailer\",\n      \"properties\": {\n        \"dtype\": \"number\",\n        \"std\": 141420.7398092504,\n        \"min\": 0.0,\n        \"max\": 399999.0,\n        \"num_unique_values\": 5,\n        \"samples\": [\n          0.8817022042555106,\n          1.0,\n          0.32296081500138113\n        ],\n        \"semantic_type\": \"\",\n        \"description\": \"\"\n      }\n    },\n    {\n      \"column\": \"used_chip\",\n      \"properties\": {\n        \"dtype\": \"number\",\n        \"std\": 141420.85986110018,\n        \"min\": 0.0,\n        \"max\": 399999.0,\n        \"num_unique_values\": 5,\n        \"samples\": [\n          0.35060087650219124,\n          1.0,\n          0.47715874832249194\n        ],\n        \"semantic_type\": \"\",\n        \"description\": \"\"\n      }\n    },\n    {\n      \"column\": \"used_pin_number\",\n      \"properties\": {\n        \"dtype\": \"number\",\n        \"std\": 141420.93180057415,\n        \"min\": 0.0,\n        \"max\": 399999.0,\n        \"num_unique_values\": 5,\n        \"samples\": [\n          0.1014727536818842,\n          1.0,\n          0.3019540724734879\n        ],\n        \"semantic_type\": \"\",\n        \"description\": \"\"\n      }\n    },\n    {\n      \"column\": \"online_order\",\n      \"properties\": {\n        \"dtype\": \"number\",\n        \"std\": 141420.79418386266,\n        \"min\": 0.0,\n        \"max\": 399999.0,\n        \"num_unique_values\": 5,\n        \"samples\": [\n          0.6516566291415729,\n          1.0,\n          0.4764460455717102\n        ],\n        \"semantic_type\": \"\",\n        \"description\": \"\"\n      }\n    },\n    {\n      \"column\": \"fraud\",\n      \"properties\": {\n        \"dtype\": \"number\",\n        \"std\": 141420.93352931621,\n        \"min\": 0.0,\n        \"max\": 399999.0,\n        \"num_unique_values\": 5,\n        \"samples\": [\n          0.08714771786929468,\n          1.0,\n          0.2820517541568316\n        ],\n        \"semantic_type\": \"\",\n        \"description\": \"\"\n      }\n    }\n  ]\n}"
            }
          },
          "metadata": {},
          "execution_count": 4
        }
      ]
    },
    {
      "cell_type": "markdown",
      "source": [
        "### # Separate features and target"
      ],
      "metadata": {
        "id": "XpG3OU4-E_P2"
      }
    },
    {
      "cell_type": "code",
      "source": [
        "X = df.drop('fraud', axis=1)\n",
        "y = df['fraud']\n",
        "print(X.head())\n",
        "print(X.shape)\n",
        "print(y.head())\n",
        "print(y.shape)"
      ],
      "metadata": {
        "colab": {
          "base_uri": "https://localhost:8080/"
        },
        "id": "WcSpc5BnFBAD",
        "outputId": "a5b89e64-bff1-4b7e-944c-3456730cbbc9"
      },
      "execution_count": 5,
      "outputs": [
        {
          "output_type": "stream",
          "name": "stdout",
          "text": [
            "   distance_from_home  distance_from_last_transaction  \\\n",
            "0           57.877857                        0.311140   \n",
            "1           10.829943                        0.175592   \n",
            "2            5.091079                        0.805153   \n",
            "3            2.247564                        5.600044   \n",
            "4           44.190936                        0.566486   \n",
            "\n",
            "   ratio_to_median_purchase_price  repeat_retailer  used_chip  \\\n",
            "0                        1.945940                1          1   \n",
            "1                        1.294219                1          0   \n",
            "2                        0.427715                1          0   \n",
            "3                        0.362663                1          1   \n",
            "4                        2.222767                1          1   \n",
            "\n",
            "   used_pin_number  online_order  \n",
            "0                0             0  \n",
            "1                0             0  \n",
            "2                0             1  \n",
            "3                0             1  \n",
            "4                0             1  \n",
            "(399999, 7)\n",
            "0    0\n",
            "1    0\n",
            "2    0\n",
            "3    0\n",
            "4    0\n",
            "Name: fraud, dtype: int64\n",
            "(399999,)\n"
          ]
        }
      ]
    },
    {
      "cell_type": "markdown",
      "source": [
        "Pre-Process the data - Transform (standardization/normalization) and convert to array)\n",
        "\n",
        "See: https://towardsdatascience.com/what-and-why-behind-fit-transform-vs-transform-in-scikit-learn-78f915cf96fe/"
      ],
      "metadata": {
        "id": "_xozLvRAGBcZ"
      }
    },
    {
      "cell_type": "code",
      "source": [
        "X = StandardScaler().fit_transform(X)\n",
        "X[:5] # first 5 rows"
      ],
      "metadata": {
        "colab": {
          "base_uri": "https://localhost:8080/"
        },
        "id": "_4A7vpGYGAKv",
        "outputId": "e94df5f4-6108-4c75-a3ac-c533d8e62155"
      },
      "execution_count": 6,
      "outputs": [
        {
          "output_type": "execute_result",
          "data": {
            "text/plain": [
              "array([[ 0.46759852, -0.2095159 ,  0.04522012,  0.36629194,  1.3609725 ,\n",
              "        -0.33605402, -1.36774657],\n",
              "       [-0.23883793, -0.21559517, -0.18798919,  0.36629194, -0.7347687 ,\n",
              "        -0.33605402, -1.36774657],\n",
              "       [-0.32500842, -0.18735975, -0.49805562,  0.36629194, -0.7347687 ,\n",
              "        -0.33605402,  0.7311296 ],\n",
              "       [-0.36770453,  0.02768806, -0.52133356,  0.36629194,  1.3609725 ,\n",
              "        -0.33605402,  0.7311296 ],\n",
              "       [ 0.26208591, -0.19806379,  0.14427891,  0.36629194,  1.3609725 ,\n",
              "        -0.33605402,  0.7311296 ]])"
            ]
          },
          "metadata": {},
          "execution_count": 6
        }
      ]
    },
    {
      "cell_type": "code",
      "source": [
        "# convert to numpy array - since it's just 0 and 1, i'm not applying a transform\n",
        "y= y.to_numpy()\n",
        "y[:100] #first 100 obs"
      ],
      "metadata": {
        "colab": {
          "base_uri": "https://localhost:8080/"
        },
        "id": "l6WLfHDMHGNe",
        "outputId": "fbe68018-85df-4a32-dd23-c726d0dda363"
      },
      "execution_count": 7,
      "outputs": [
        {
          "output_type": "execute_result",
          "data": {
            "text/plain": [
              "array([0, 0, 0, 0, 0, 0, 0, 0, 0, 0, 0, 0, 0, 1, 0, 0, 0, 0, 0, 0, 0, 0,\n",
              "       0, 0, 1, 0, 0, 0, 0, 1, 0, 0, 0, 0, 0, 1, 1, 0, 0, 0, 0, 0, 0, 0,\n",
              "       0, 0, 0, 1, 1, 0, 0, 0, 0, 0, 1, 0, 0, 0, 0, 0, 0, 0, 0, 0, 0, 0,\n",
              "       0, 0, 0, 0, 0, 0, 0, 0, 0, 0, 0, 0, 0, 0, 0, 0, 0, 0, 0, 0, 0, 0,\n",
              "       0, 0, 0, 0, 0, 0, 0, 0, 0, 0, 0, 0])"
            ]
          },
          "metadata": {},
          "execution_count": 7
        }
      ]
    },
    {
      "cell_type": "markdown",
      "source": [
        "### Test-train Split for internal test data (validation data) to choose our *best* model"
      ],
      "metadata": {
        "id": "bew3WgtkHevD"
      }
    },
    {
      "cell_type": "code",
      "source": [
        "# I'm creating a separate internal test / validation set to choose best model\n",
        "X_train, X_test, y_train, y_test = train_test_split(X, y, test_size=0.2, random_state=42)\n",
        "print(X_train.shape)\n",
        "print(y_train.shape)\n",
        "print(X_test.shape)\n",
        "print(y_test.shape)"
      ],
      "metadata": {
        "colab": {
          "base_uri": "https://localhost:8080/"
        },
        "id": "Swa_Pj8zHjPW",
        "outputId": "1fadefb1-a2d3-47c5-f1f8-e2c594887298"
      },
      "execution_count": 8,
      "outputs": [
        {
          "output_type": "stream",
          "name": "stdout",
          "text": [
            "(319999, 7)\n",
            "(319999,)\n",
            "(80000, 7)\n",
            "(80000,)\n"
          ]
        }
      ]
    },
    {
      "cell_type": "markdown",
      "source": [
        "## Build Models\n",
        "\n",
        "Let's build the following models / classifiers to choose the **Best**\n",
        "1. Logistic Regression\n",
        "2. LASSO Logistic Regression\n",
        "3. Ridge Logistic Regression\n",
        "4. Decision Tree / CART\n",
        "5. Random Forest\n",
        "6. KNN / K-Nearest Neighbors\n",
        "\n",
        "We'll use 5-fold CV to train/fit our models using\n",
        "\n",
        "```\n",
        "# Using StratifiedKFold to maintain the same proportion of classes in each fold\n",
        "kf = StratifiedKFold(n_splits=5, shuffle=True, random_state=42)\n",
        "```\n",
        "\n",
        "**First STEP - WHAT is the RIGHT METRIC to use? and why?**\n",
        "\n",
        "Using f1 here as default.\n",
        "\n",
        "Also showing you prompts to generate code\n"
      ],
      "metadata": {
        "id": "X-fHjjyVCoXC"
      }
    },
    {
      "cell_type": "markdown",
      "source": [
        "***General Workflow:***\n",
        "1. Define classifier (model)\n",
        "2. Define the StratifiedKFold cross-validator (need to do it once)\n",
        "3. Train model using CV on training data, report evaluations across folds)\n",
        "4. Fit model on entire train data and predict on internal test (validation) data\n",
        "5. Report Confusion Matrix and F1 Score"
      ],
      "metadata": {
        "id": "h2ZVqXggQdDb"
      }
    },
    {
      "cell_type": "code",
      "source": [
        "f1_scores_training = {} # to store scores\n"
      ],
      "metadata": {
        "id": "Cg5Oh6CoWS9h"
      },
      "execution_count": 9,
      "outputs": []
    },
    {
      "cell_type": "markdown",
      "source": [
        "### 1. Logistic Regression Model"
      ],
      "metadata": {
        "id": "3QUhvp3MMokf"
      }
    },
    {
      "cell_type": "code",
      "source": [
        "# prompt: Build a logistic regression classifier on X_train and y_train and using  5-fold cv using kf = StratifiedKFold(n_splits=5, shuffle=True, random_state=42).\n",
        "\n",
        "# Define the logistic regression model\n",
        "log_reg = LogisticRegression(max_iter=1000, random_state=42)\n",
        "\n",
        "# Define the StratifiedKFold cross-validator\n",
        "kf = StratifiedKFold(n_splits=5, shuffle=True, random_state=42)\n",
        "\n",
        "# Perform cross-validation\n",
        "cv_scores = cross_val_score(log_reg, X_train, y_train, cv=kf, scoring='f1')\n",
        "\n",
        "# Print the cross-validation scores\n",
        "print(\"Cross-validation scores:\", cv_scores)\n",
        "\n",
        "# Print the mean cross-validation score\n",
        "print(\"Mean cross-validation score:\", np.mean(cv_scores))\n"
      ],
      "metadata": {
        "colab": {
          "base_uri": "https://localhost:8080/"
        },
        "id": "6XHjHeLaCqKM",
        "outputId": "743e0a08-5a7f-4e6e-cf75-db3fbde527ad"
      },
      "execution_count": 10,
      "outputs": [
        {
          "output_type": "stream",
          "name": "stdout",
          "text": [
            "Cross-validation scores: [0.72845981 0.72096757 0.72611869 0.72664732 0.72337676]\n",
            "Mean cross-validation score: 0.7251140305103352\n"
          ]
        }
      ]
    },
    {
      "cell_type": "code",
      "source": [
        "# prompt: Use the best log_reg model on y_test and y_train. Report confusion matrix and f1 score\n",
        "\n",
        "# Fit the best model (log_reg in this case) on the entire training data\n",
        "log_reg.fit(X_train, y_train)\n",
        "\n",
        "# Predict on the test set\n",
        "y_pred = log_reg.predict(X_test)\n",
        "\n",
        "# Calculate the confusion matrix\n",
        "print(confusion_matrix(y_test, y_pred))\n",
        "\n",
        "# Calculate the F1 score\n",
        "print(\"F1 Score:\", f1_score(y_test, y_pred))\n",
        "\n",
        "f1_scores_training['log_reg'] = f1_score(y_test, y_pred)"
      ],
      "metadata": {
        "colab": {
          "base_uri": "https://localhost:8080/"
        },
        "id": "AL_sJFp8Kv5l",
        "outputId": "c773ccf4-17b6-400b-aeed-ed58298ab13b"
      },
      "execution_count": 11,
      "outputs": [
        {
          "output_type": "stream",
          "name": "stdout",
          "text": [
            "[[72440   500]\n",
            " [ 2789  4271]]\n",
            "F1 Score: 0.7220015214267602\n"
          ]
        }
      ]
    },
    {
      "cell_type": "markdown",
      "source": [
        "### 2. LASSO Logistic Regression\n"
      ],
      "metadata": {
        "id": "Q8EbNrm8NIgT"
      }
    },
    {
      "cell_type": "code",
      "source": [
        "# prompt: Repeat the above but using LogisticRegression(penalty='l1', solver='saga', max_iter=1000, random_state=42)\n",
        "\n",
        "from sklearn.metrics import confusion_matrix\n",
        "\n",
        "# Define the LASSO logistic regression model\n",
        "lasso_log_reg = LogisticRegression(penalty='l1', solver='saga', max_iter=1000, random_state=42)\n",
        "\n",
        "# Define the StratifiedKFold cross-validator\n",
        "kf = StratifiedKFold(n_splits=5, shuffle=True, random_state=42)\n",
        "\n",
        "# Perform cross-validation\n",
        "cv_scores = cross_val_score(lasso_log_reg, X_train, y_train, cv=kf, scoring='f1')\n",
        "\n",
        "# Print the cross-validation scores\n",
        "print(\"Cross-validation scores:\", cv_scores)\n",
        "\n",
        "# Print the mean cross-validation score\n",
        "print(\"Mean cross-validation score:\", np.mean(cv_scores))\n",
        "\n",
        "# Fit the model on the entire training data\n",
        "lasso_log_reg.fit(X_train, y_train)\n",
        "\n",
        "# Predict on the test set\n",
        "y_pred = lasso_log_reg.predict(X_test)\n",
        "\n",
        "# Calculate the confusion matrix\n",
        "print(confusion_matrix(y_test, y_pred))\n",
        "\n",
        "# Calculate the F1 score\n",
        "print(\"F1 Score:\", f1_score(y_test, y_pred))\n",
        "\n",
        "f1_scores_training['lasso_log_reg'] = f1_score(y_test, y_pred)"
      ],
      "metadata": {
        "colab": {
          "base_uri": "https://localhost:8080/"
        },
        "id": "vtvOe04xNO2-",
        "outputId": "ae8961c3-2662-4143-b4d6-f73b93b851eb"
      },
      "execution_count": 12,
      "outputs": [
        {
          "output_type": "stream",
          "name": "stdout",
          "text": [
            "Cross-validation scores: [0.72865397 0.72124131 0.72650386 0.72656922 0.72323928]\n",
            "Mean cross-validation score: 0.7252415272736824\n",
            "[[72438   502]\n",
            " [ 2788  4272]]\n",
            "F1 Score: 0.7219874936623288\n"
          ]
        }
      ]
    },
    {
      "cell_type": "markdown",
      "source": [
        "### 3. Ridge Logistic Regression\n"
      ],
      "metadata": {
        "id": "-P1hYbJlNizN"
      }
    },
    {
      "cell_type": "code",
      "source": [
        "# prompt: repeat for Ridge Regression\n",
        "\n",
        "# Define the Ridge logistic regression model\n",
        "ridge_log_reg = RidgeClassifier(random_state=42)\n",
        "\n",
        "# Perform cross-validation\n",
        "cv_scores = cross_val_score(ridge_log_reg, X_train, y_train, cv=kf, scoring='f1')\n",
        "\n",
        "# Print the cross-validation scores\n",
        "print(\"Cross-validation scores:\", cv_scores)\n",
        "\n",
        "# Print the mean cross-validation score\n",
        "print(\"Mean cross-validation score:\", np.mean(cv_scores))\n",
        "\n",
        "# Fit the model on the entire training data\n",
        "ridge_log_reg.fit(X_train, y_train)\n",
        "\n",
        "# Predict on the test set\n",
        "y_pred = ridge_log_reg.predict(X_test)\n",
        "\n",
        "# Calculate the confusion matrix\n",
        "print(confusion_matrix(y_test, y_pred))\n",
        "\n",
        "# Calculate the F1 score\n",
        "print(\"F1 Score:\", f1_score(y_test, y_pred))\n",
        "\n",
        "f1_scores_training['ridge_log_reg'] = f1_score(y_test, y_pred)"
      ],
      "metadata": {
        "colab": {
          "base_uri": "https://localhost:8080/"
        },
        "id": "0_pgi-_nOxwU",
        "outputId": "2edc4a09-a7a3-43d9-dcbe-614c58b9be9a"
      },
      "execution_count": 13,
      "outputs": [
        {
          "output_type": "stream",
          "name": "stdout",
          "text": [
            "Cross-validation scores: [0.26210153 0.27535808 0.26179693 0.26538745 0.27115666]\n",
            "Mean cross-validation score: 0.2671601329977647\n",
            "[[72529   411]\n",
            " [ 5903  1157]]\n",
            "F1 Score: 0.26819656930922575\n"
          ]
        }
      ]
    },
    {
      "cell_type": "markdown",
      "source": [
        "### 4. Decision Tree / CART\n"
      ],
      "metadata": {
        "id": "bylUSsX1Nln8"
      }
    },
    {
      "cell_type": "code",
      "source": [
        "# prompt: Repeat code for DecisionTree/CART using DecisionTreeClassifier(criterion='entropy', max_depth = 10, random_state=42)\n",
        "\n",
        "# Define the Decision Tree Classifier model\n",
        "CART = DecisionTreeClassifier(criterion='entropy', max_depth=10, random_state=42)\n",
        "\n",
        "# Perform cross-validation\n",
        "cv_scores = cross_val_score(CART, X_train, y_train, cv=kf, scoring='f1')\n",
        "\n",
        "# Print the cross-validation scores\n",
        "print(\"Cross-validation scores:\", cv_scores)\n",
        "\n",
        "# Print the mean cross-validation score\n",
        "print(\"Mean cross-validation score:\", np.mean(cv_scores))\n",
        "\n",
        "# Fit the model on the entire training data\n",
        "CART.fit(X_train, y_train)\n",
        "\n",
        "# Predict on the test set\n",
        "y_pred = CART.predict(X_test)\n",
        "\n",
        "# Calculate the confusion matrix\n",
        "print(confusion_matrix(y_test, y_pred))\n",
        "\n",
        "# Calculate the F1 score\n",
        "print(\"F1 Score:\", f1_score(y_test, y_pred))\n",
        "\n",
        "f1_scores_training['CART'] = f1_score(y_test, y_pred)"
      ],
      "metadata": {
        "colab": {
          "base_uri": "https://localhost:8080/"
        },
        "id": "1HxFGeD5PM7-",
        "outputId": "6a2a00a7-aee1-4b86-f68b-99a0e2ab4b67"
      },
      "execution_count": 14,
      "outputs": [
        {
          "output_type": "stream",
          "name": "stdout",
          "text": [
            "Cross-validation scores: [0.99991008 0.99991006 0.99982014 0.99991006 0.99955008]\n",
            "Mean cross-validation score: 0.9998200856219979\n",
            "[[72940     0]\n",
            " [    1  7059]]\n",
            "F1 Score: 0.9999291734542106\n"
          ]
        }
      ]
    },
    {
      "cell_type": "markdown",
      "source": [
        "### 5. Random Forest"
      ],
      "metadata": {
        "id": "6bxIglzWNoIo"
      }
    },
    {
      "cell_type": "code",
      "source": [
        "# prompt: Repeat using RandomForestClassifier(max_depth = 10, random_state=42)\n",
        "\n",
        "# Define the Random Forest Classifier model\n",
        "RF = RandomForestClassifier(max_depth=10, random_state=42)\n",
        "\n",
        "# Perform cross-validation\n",
        "cv_scores = cross_val_score(RF, X_train, y_train, cv=kf, scoring='f1')\n",
        "\n",
        "# Print the cross-validation scores\n",
        "print(\"Cross-validation scores:\", cv_scores)\n",
        "\n",
        "# Print the mean cross-validation score\n",
        "print(\"Mean cross-validation score:\", np.mean(cv_scores))\n",
        "\n",
        "# Fit the model on the entire training data\n",
        "RF.fit(X_train, y_train)\n",
        "\n",
        "# Predict on the test set\n",
        "y_pred = RF.predict(X_test)\n",
        "\n",
        "# Calculate the confusion matrix\n",
        "print(confusion_matrix(y_test, y_pred))\n",
        "\n",
        "# Calculate the F1 score\n",
        "print(\"F1 Score:\", f1_score(y_test, y_pred))\n",
        "\n",
        "f1_scores_training['RandomForest'] = f1_score(y_test, y_pred)"
      ],
      "metadata": {
        "colab": {
          "base_uri": "https://localhost:8080/"
        },
        "id": "8aXe8hLiPxPB",
        "outputId": "ab98d946-6b90-424f-8845-ccd08bb653fe"
      },
      "execution_count": 15,
      "outputs": [
        {
          "output_type": "stream",
          "name": "stdout",
          "text": [
            "Cross-validation scores: [1.         0.99973014 0.99982011 0.99991006 0.99955008]\n",
            "Mean cross-validation score: 0.9998020789793417\n",
            "[[72940     0]\n",
            " [    2  7058]]\n",
            "F1 Score: 0.9998583368749114\n"
          ]
        }
      ]
    },
    {
      "cell_type": "markdown",
      "source": [
        "### 6. KNN / K-Nearest Neighbors\n"
      ],
      "metadata": {
        "id": "-slGxnpANrBa"
      }
    },
    {
      "cell_type": "code",
      "source": [
        "# prompt: Repeat for KNeighborsClassifier(n_neighbors=5)\n",
        "\n",
        "# Define the KNN Classifier model\n",
        "knn = KNeighborsClassifier(n_neighbors=5)\n",
        "\n",
        "# Perform cross-validation\n",
        "cv_scores = cross_val_score(knn, X_train, y_train, cv=kf, scoring='f1')\n",
        "\n",
        "# Print the cross-validation scores\n",
        "print(\"Cross-validation scores:\", cv_scores)\n",
        "\n",
        "# Print the mean cross-validation score\n",
        "print(\"Mean cross-validation score:\", np.mean(cv_scores))\n",
        "\n",
        "# Fit the model on the entire training data\n",
        "knn.fit(X_train, y_train)\n",
        "\n",
        "# Predict on the test set\n",
        "y_pred = knn.predict(X_test)\n",
        "\n",
        "# Calculate the confusion matrix\n",
        "print(confusion_matrix(y_test, y_pred))\n",
        "\n",
        "# Calculate the F1 score\n",
        "print(\"F1 Score:\", f1_score(y_test, y_pred))\n",
        "f1_scores_training['knn'] = f1_score(y_test, y_pred)"
      ],
      "metadata": {
        "colab": {
          "base_uri": "https://localhost:8080/"
        },
        "id": "bGHMX5eXQOOo",
        "outputId": "96e4f203-7c22-4622-ae0b-8f6620e7c83b"
      },
      "execution_count": 16,
      "outputs": [
        {
          "output_type": "stream",
          "name": "stdout",
          "text": [
            "Cross-validation scores: [0.98809309 0.98789302 0.98889391 0.98924731 0.98869494]\n",
            "Mean cross-validation score: 0.988564455343996\n",
            "[[72905    35]\n",
            " [   80  6980]]\n",
            "F1 Score: 0.991829484902309\n"
          ]
        }
      ]
    },
    {
      "cell_type": "code",
      "source": [
        "f1_scores_training"
      ],
      "metadata": {
        "colab": {
          "base_uri": "https://localhost:8080/"
        },
        "id": "MsatcZ-0XRMQ",
        "outputId": "2be3422f-fc5a-4e59-ebd2-3f1f76bb4ef2"
      },
      "execution_count": 17,
      "outputs": [
        {
          "output_type": "execute_result",
          "data": {
            "text/plain": [
              "{'log_reg': 0.7220015214267602,\n",
              " 'lasso_log_reg': 0.7219874936623288,\n",
              " 'ridge_log_reg': 0.26819656930922575,\n",
              " 'CART': 0.9999291734542106,\n",
              " 'RandomForest': 0.9998583368749114,\n",
              " 'knn': 0.991829484902309}"
            ]
          },
          "metadata": {},
          "execution_count": 17
        }
      ]
    },
    {
      "cell_type": "code",
      "source": [
        "# prompt: What is the best model from the 6?\n",
        "\n",
        "# Based on the provided code, the best model is the one with the highest F1 score\n",
        "# on the internal test set.  You would need to manually compare the F1 scores\n",
        "# printed for each model to determine the best one.  The code does not store\n",
        "# these values in a way that allows for automated comparison.\n",
        "\n",
        "# Example of how to compare manually:\n",
        "# Look for the \"F1 Score:\" lines at the end of each model section.\n",
        "# The model with the highest F1 score is considered the best in this scenario.\n",
        "\n",
        "#To compare and find the best model:\n",
        "\n",
        "best_model = max(f1_scores_training, key=f1_scores_training.get)\n",
        "print(f\"Best model based on F1-score is: {best_model} with F1-score {f1_scores_training[best_model]}\")\n"
      ],
      "metadata": {
        "colab": {
          "base_uri": "https://localhost:8080/"
        },
        "id": "zb2qRczeWGPV",
        "outputId": "4bbdb3cc-c231-460c-f555-c8fb7616788b"
      },
      "execution_count": 19,
      "outputs": [
        {
          "output_type": "stream",
          "name": "stdout",
          "text": [
            "Best model based on F1-score is: CART with F1-score 0.9999291734542106\n"
          ]
        }
      ]
    },
    {
      "cell_type": "markdown",
      "source": [
        "## Evaluate Models on Provided Test Data"
      ],
      "metadata": {
        "id": "9jkFabUECq_Q"
      }
    },
    {
      "cell_type": "markdown",
      "source": [
        "### Transform TEST data as needed"
      ],
      "metadata": {
        "id": "oAXETgcMVYze"
      }
    },
    {
      "cell_type": "code",
      "source": [
        "df2 = pd.read_csv(test_url)"
      ],
      "metadata": {
        "id": "QidezwQvT7WD"
      },
      "execution_count": 20,
      "outputs": []
    },
    {
      "cell_type": "code",
      "source": [
        "X_TEST = df2.drop('fraud', axis=1)\n",
        "y_TEST = df2['fraud']\n",
        "print(X_TEST.shape)\n",
        "print(y_TEST.shape)"
      ],
      "metadata": {
        "colab": {
          "base_uri": "https://localhost:8080/"
        },
        "id": "XM-qp_H8UCoi",
        "outputId": "a4226260-5490-4640-986a-f3bef857a914"
      },
      "execution_count": 21,
      "outputs": [
        {
          "output_type": "stream",
          "name": "stdout",
          "text": [
            "(100000, 7)\n",
            "(100000,)\n"
          ]
        }
      ]
    },
    {
      "cell_type": "code",
      "source": [
        "X_TEST = StandardScaler().fit_transform(X_TEST)\n",
        "y_TEST= y_TEST.to_numpy()"
      ],
      "metadata": {
        "id": "pEspezjLUhtP"
      },
      "execution_count": 22,
      "outputs": []
    },
    {
      "cell_type": "markdown",
      "source": [
        "### EVALUATE MODELS ON the provided X_TEST and y_TEST -- models have not been trained on this!"
      ],
      "metadata": {
        "id": "JKjW1BJ6VeRM"
      }
    },
    {
      "cell_type": "code",
      "source": [
        "# prompt: Evaluate all models above on X_TEST and y_TEST. Report f1 scores in a neat table.\n",
        "\n",
        "# Create a list to store the model names and their corresponding f1 scores\n",
        "f1_scores_TEST = []\n",
        "\n",
        "# Evaluate each model on X_TEST and y_TEST and store the f1 scores\n",
        "models = [log_reg, lasso_log_reg, ridge_log_reg, CART, RF, knn]\n",
        "model_names = ['log_reg', 'lasso_log_reg', 'ridge_log_reg', 'CART', 'RandomForest', 'knn'] # Create a list of model names\n",
        "\n",
        "for model in models:\n",
        "    y_pred = model.predict(X_TEST)\n",
        "    f1 = f1_score(y_TEST, y_pred)\n",
        "    f1_scores_TEST.append(f1)"
      ],
      "metadata": {
        "id": "6lMrDrafbJYk"
      },
      "execution_count": 32,
      "outputs": []
    },
    {
      "cell_type": "code",
      "source": [
        "# Create a DataFrame to display the results in a table\n",
        "results_df = pd.DataFrame({\"Model\": model_names, \"F1 Score TEST DATA\": f1_scores_TEST}) # Use model_names here\n",
        "\n",
        "results_df['f1_scores_InternalTesting'] = results_df['Model'].map(f1_scores_training) # Map using 'Model' column\n",
        "# Display the table\n",
        "results_df\n"
      ],
      "metadata": {
        "colab": {
          "base_uri": "https://localhost:8080/",
          "height": 238
        },
        "id": "GtBSJqarCtnw",
        "outputId": "74b0fb8d-25e0-491b-a623-17d3a1f0c679"
      },
      "execution_count": 37,
      "outputs": [
        {
          "output_type": "execute_result",
          "data": {
            "text/plain": [
              "           Model  F1 Score TEST DATA  f1_scores_InternalTesting\n",
              "0        log_reg            0.702917                   0.722002\n",
              "1  lasso_log_reg            0.703179                   0.721987\n",
              "2  ridge_log_reg            0.249364                   0.268197\n",
              "3           CART            0.946805                   0.999929\n",
              "4   RandomForest            0.953962                   0.999858\n",
              "5            knn            0.951592                   0.991829"
            ],
            "text/html": [
              "\n",
              "  <div id=\"df-cd8623f9-6894-405c-b6d3-d0db5c8ab129\" class=\"colab-df-container\">\n",
              "    <div>\n",
              "<style scoped>\n",
              "    .dataframe tbody tr th:only-of-type {\n",
              "        vertical-align: middle;\n",
              "    }\n",
              "\n",
              "    .dataframe tbody tr th {\n",
              "        vertical-align: top;\n",
              "    }\n",
              "\n",
              "    .dataframe thead th {\n",
              "        text-align: right;\n",
              "    }\n",
              "</style>\n",
              "<table border=\"1\" class=\"dataframe\">\n",
              "  <thead>\n",
              "    <tr style=\"text-align: right;\">\n",
              "      <th></th>\n",
              "      <th>Model</th>\n",
              "      <th>F1 Score TEST DATA</th>\n",
              "      <th>f1_scores_InternalTesting</th>\n",
              "    </tr>\n",
              "  </thead>\n",
              "  <tbody>\n",
              "    <tr>\n",
              "      <th>0</th>\n",
              "      <td>log_reg</td>\n",
              "      <td>0.702917</td>\n",
              "      <td>0.722002</td>\n",
              "    </tr>\n",
              "    <tr>\n",
              "      <th>1</th>\n",
              "      <td>lasso_log_reg</td>\n",
              "      <td>0.703179</td>\n",
              "      <td>0.721987</td>\n",
              "    </tr>\n",
              "    <tr>\n",
              "      <th>2</th>\n",
              "      <td>ridge_log_reg</td>\n",
              "      <td>0.249364</td>\n",
              "      <td>0.268197</td>\n",
              "    </tr>\n",
              "    <tr>\n",
              "      <th>3</th>\n",
              "      <td>CART</td>\n",
              "      <td>0.946805</td>\n",
              "      <td>0.999929</td>\n",
              "    </tr>\n",
              "    <tr>\n",
              "      <th>4</th>\n",
              "      <td>RandomForest</td>\n",
              "      <td>0.953962</td>\n",
              "      <td>0.999858</td>\n",
              "    </tr>\n",
              "    <tr>\n",
              "      <th>5</th>\n",
              "      <td>knn</td>\n",
              "      <td>0.951592</td>\n",
              "      <td>0.991829</td>\n",
              "    </tr>\n",
              "  </tbody>\n",
              "</table>\n",
              "</div>\n",
              "    <div class=\"colab-df-buttons\">\n",
              "\n",
              "  <div class=\"colab-df-container\">\n",
              "    <button class=\"colab-df-convert\" onclick=\"convertToInteractive('df-cd8623f9-6894-405c-b6d3-d0db5c8ab129')\"\n",
              "            title=\"Convert this dataframe to an interactive table.\"\n",
              "            style=\"display:none;\">\n",
              "\n",
              "  <svg xmlns=\"http://www.w3.org/2000/svg\" height=\"24px\" viewBox=\"0 -960 960 960\">\n",
              "    <path d=\"M120-120v-720h720v720H120Zm60-500h600v-160H180v160Zm220 220h160v-160H400v160Zm0 220h160v-160H400v160ZM180-400h160v-160H180v160Zm440 0h160v-160H620v160ZM180-180h160v-160H180v160Zm440 0h160v-160H620v160Z\"/>\n",
              "  </svg>\n",
              "    </button>\n",
              "\n",
              "  <style>\n",
              "    .colab-df-container {\n",
              "      display:flex;\n",
              "      gap: 12px;\n",
              "    }\n",
              "\n",
              "    .colab-df-convert {\n",
              "      background-color: #E8F0FE;\n",
              "      border: none;\n",
              "      border-radius: 50%;\n",
              "      cursor: pointer;\n",
              "      display: none;\n",
              "      fill: #1967D2;\n",
              "      height: 32px;\n",
              "      padding: 0 0 0 0;\n",
              "      width: 32px;\n",
              "    }\n",
              "\n",
              "    .colab-df-convert:hover {\n",
              "      background-color: #E2EBFA;\n",
              "      box-shadow: 0px 1px 2px rgba(60, 64, 67, 0.3), 0px 1px 3px 1px rgba(60, 64, 67, 0.15);\n",
              "      fill: #174EA6;\n",
              "    }\n",
              "\n",
              "    .colab-df-buttons div {\n",
              "      margin-bottom: 4px;\n",
              "    }\n",
              "\n",
              "    [theme=dark] .colab-df-convert {\n",
              "      background-color: #3B4455;\n",
              "      fill: #D2E3FC;\n",
              "    }\n",
              "\n",
              "    [theme=dark] .colab-df-convert:hover {\n",
              "      background-color: #434B5C;\n",
              "      box-shadow: 0px 1px 3px 1px rgba(0, 0, 0, 0.15);\n",
              "      filter: drop-shadow(0px 1px 2px rgba(0, 0, 0, 0.3));\n",
              "      fill: #FFFFFF;\n",
              "    }\n",
              "  </style>\n",
              "\n",
              "    <script>\n",
              "      const buttonEl =\n",
              "        document.querySelector('#df-cd8623f9-6894-405c-b6d3-d0db5c8ab129 button.colab-df-convert');\n",
              "      buttonEl.style.display =\n",
              "        google.colab.kernel.accessAllowed ? 'block' : 'none';\n",
              "\n",
              "      async function convertToInteractive(key) {\n",
              "        const element = document.querySelector('#df-cd8623f9-6894-405c-b6d3-d0db5c8ab129');\n",
              "        const dataTable =\n",
              "          await google.colab.kernel.invokeFunction('convertToInteractive',\n",
              "                                                    [key], {});\n",
              "        if (!dataTable) return;\n",
              "\n",
              "        const docLinkHtml = 'Like what you see? Visit the ' +\n",
              "          '<a target=\"_blank\" href=https://colab.research.google.com/notebooks/data_table.ipynb>data table notebook</a>'\n",
              "          + ' to learn more about interactive tables.';\n",
              "        element.innerHTML = '';\n",
              "        dataTable['output_type'] = 'display_data';\n",
              "        await google.colab.output.renderOutput(dataTable, element);\n",
              "        const docLink = document.createElement('div');\n",
              "        docLink.innerHTML = docLinkHtml;\n",
              "        element.appendChild(docLink);\n",
              "      }\n",
              "    </script>\n",
              "  </div>\n",
              "\n",
              "\n",
              "<div id=\"df-f7d51e0b-5cad-4944-a258-6afd849740ba\">\n",
              "  <button class=\"colab-df-quickchart\" onclick=\"quickchart('df-f7d51e0b-5cad-4944-a258-6afd849740ba')\"\n",
              "            title=\"Suggest charts\"\n",
              "            style=\"display:none;\">\n",
              "\n",
              "<svg xmlns=\"http://www.w3.org/2000/svg\" height=\"24px\"viewBox=\"0 0 24 24\"\n",
              "     width=\"24px\">\n",
              "    <g>\n",
              "        <path d=\"M19 3H5c-1.1 0-2 .9-2 2v14c0 1.1.9 2 2 2h14c1.1 0 2-.9 2-2V5c0-1.1-.9-2-2-2zM9 17H7v-7h2v7zm4 0h-2V7h2v10zm4 0h-2v-4h2v4z\"/>\n",
              "    </g>\n",
              "</svg>\n",
              "  </button>\n",
              "\n",
              "<style>\n",
              "  .colab-df-quickchart {\n",
              "      --bg-color: #E8F0FE;\n",
              "      --fill-color: #1967D2;\n",
              "      --hover-bg-color: #E2EBFA;\n",
              "      --hover-fill-color: #174EA6;\n",
              "      --disabled-fill-color: #AAA;\n",
              "      --disabled-bg-color: #DDD;\n",
              "  }\n",
              "\n",
              "  [theme=dark] .colab-df-quickchart {\n",
              "      --bg-color: #3B4455;\n",
              "      --fill-color: #D2E3FC;\n",
              "      --hover-bg-color: #434B5C;\n",
              "      --hover-fill-color: #FFFFFF;\n",
              "      --disabled-bg-color: #3B4455;\n",
              "      --disabled-fill-color: #666;\n",
              "  }\n",
              "\n",
              "  .colab-df-quickchart {\n",
              "    background-color: var(--bg-color);\n",
              "    border: none;\n",
              "    border-radius: 50%;\n",
              "    cursor: pointer;\n",
              "    display: none;\n",
              "    fill: var(--fill-color);\n",
              "    height: 32px;\n",
              "    padding: 0;\n",
              "    width: 32px;\n",
              "  }\n",
              "\n",
              "  .colab-df-quickchart:hover {\n",
              "    background-color: var(--hover-bg-color);\n",
              "    box-shadow: 0 1px 2px rgba(60, 64, 67, 0.3), 0 1px 3px 1px rgba(60, 64, 67, 0.15);\n",
              "    fill: var(--button-hover-fill-color);\n",
              "  }\n",
              "\n",
              "  .colab-df-quickchart-complete:disabled,\n",
              "  .colab-df-quickchart-complete:disabled:hover {\n",
              "    background-color: var(--disabled-bg-color);\n",
              "    fill: var(--disabled-fill-color);\n",
              "    box-shadow: none;\n",
              "  }\n",
              "\n",
              "  .colab-df-spinner {\n",
              "    border: 2px solid var(--fill-color);\n",
              "    border-color: transparent;\n",
              "    border-bottom-color: var(--fill-color);\n",
              "    animation:\n",
              "      spin 1s steps(1) infinite;\n",
              "  }\n",
              "\n",
              "  @keyframes spin {\n",
              "    0% {\n",
              "      border-color: transparent;\n",
              "      border-bottom-color: var(--fill-color);\n",
              "      border-left-color: var(--fill-color);\n",
              "    }\n",
              "    20% {\n",
              "      border-color: transparent;\n",
              "      border-left-color: var(--fill-color);\n",
              "      border-top-color: var(--fill-color);\n",
              "    }\n",
              "    30% {\n",
              "      border-color: transparent;\n",
              "      border-left-color: var(--fill-color);\n",
              "      border-top-color: var(--fill-color);\n",
              "      border-right-color: var(--fill-color);\n",
              "    }\n",
              "    40% {\n",
              "      border-color: transparent;\n",
              "      border-right-color: var(--fill-color);\n",
              "      border-top-color: var(--fill-color);\n",
              "    }\n",
              "    60% {\n",
              "      border-color: transparent;\n",
              "      border-right-color: var(--fill-color);\n",
              "    }\n",
              "    80% {\n",
              "      border-color: transparent;\n",
              "      border-right-color: var(--fill-color);\n",
              "      border-bottom-color: var(--fill-color);\n",
              "    }\n",
              "    90% {\n",
              "      border-color: transparent;\n",
              "      border-bottom-color: var(--fill-color);\n",
              "    }\n",
              "  }\n",
              "</style>\n",
              "\n",
              "  <script>\n",
              "    async function quickchart(key) {\n",
              "      const quickchartButtonEl =\n",
              "        document.querySelector('#' + key + ' button');\n",
              "      quickchartButtonEl.disabled = true;  // To prevent multiple clicks.\n",
              "      quickchartButtonEl.classList.add('colab-df-spinner');\n",
              "      try {\n",
              "        const charts = await google.colab.kernel.invokeFunction(\n",
              "            'suggestCharts', [key], {});\n",
              "      } catch (error) {\n",
              "        console.error('Error during call to suggestCharts:', error);\n",
              "      }\n",
              "      quickchartButtonEl.classList.remove('colab-df-spinner');\n",
              "      quickchartButtonEl.classList.add('colab-df-quickchart-complete');\n",
              "    }\n",
              "    (() => {\n",
              "      let quickchartButtonEl =\n",
              "        document.querySelector('#df-f7d51e0b-5cad-4944-a258-6afd849740ba button');\n",
              "      quickchartButtonEl.style.display =\n",
              "        google.colab.kernel.accessAllowed ? 'block' : 'none';\n",
              "    })();\n",
              "  </script>\n",
              "</div>\n",
              "\n",
              "  <div id=\"id_debfecf6-2ca1-4fa2-a84e-217fcf06972e\">\n",
              "    <style>\n",
              "      .colab-df-generate {\n",
              "        background-color: #E8F0FE;\n",
              "        border: none;\n",
              "        border-radius: 50%;\n",
              "        cursor: pointer;\n",
              "        display: none;\n",
              "        fill: #1967D2;\n",
              "        height: 32px;\n",
              "        padding: 0 0 0 0;\n",
              "        width: 32px;\n",
              "      }\n",
              "\n",
              "      .colab-df-generate:hover {\n",
              "        background-color: #E2EBFA;\n",
              "        box-shadow: 0px 1px 2px rgba(60, 64, 67, 0.3), 0px 1px 3px 1px rgba(60, 64, 67, 0.15);\n",
              "        fill: #174EA6;\n",
              "      }\n",
              "\n",
              "      [theme=dark] .colab-df-generate {\n",
              "        background-color: #3B4455;\n",
              "        fill: #D2E3FC;\n",
              "      }\n",
              "\n",
              "      [theme=dark] .colab-df-generate:hover {\n",
              "        background-color: #434B5C;\n",
              "        box-shadow: 0px 1px 3px 1px rgba(0, 0, 0, 0.15);\n",
              "        filter: drop-shadow(0px 1px 2px rgba(0, 0, 0, 0.3));\n",
              "        fill: #FFFFFF;\n",
              "      }\n",
              "    </style>\n",
              "    <button class=\"colab-df-generate\" onclick=\"generateWithVariable('results_df')\"\n",
              "            title=\"Generate code using this dataframe.\"\n",
              "            style=\"display:none;\">\n",
              "\n",
              "  <svg xmlns=\"http://www.w3.org/2000/svg\" height=\"24px\"viewBox=\"0 0 24 24\"\n",
              "       width=\"24px\">\n",
              "    <path d=\"M7,19H8.4L18.45,9,17,7.55,7,17.6ZM5,21V16.75L18.45,3.32a2,2,0,0,1,2.83,0l1.4,1.43a1.91,1.91,0,0,1,.58,1.4,1.91,1.91,0,0,1-.58,1.4L9.25,21ZM18.45,9,17,7.55Zm-12,3A5.31,5.31,0,0,0,4.9,8.1,5.31,5.31,0,0,0,1,6.5,5.31,5.31,0,0,0,4.9,4.9,5.31,5.31,0,0,0,6.5,1,5.31,5.31,0,0,0,8.1,4.9,5.31,5.31,0,0,0,12,6.5,5.46,5.46,0,0,0,6.5,12Z\"/>\n",
              "  </svg>\n",
              "    </button>\n",
              "    <script>\n",
              "      (() => {\n",
              "      const buttonEl =\n",
              "        document.querySelector('#id_debfecf6-2ca1-4fa2-a84e-217fcf06972e button.colab-df-generate');\n",
              "      buttonEl.style.display =\n",
              "        google.colab.kernel.accessAllowed ? 'block' : 'none';\n",
              "\n",
              "      buttonEl.onclick = () => {\n",
              "        google.colab.notebook.generateWithVariable('results_df');\n",
              "      }\n",
              "      })();\n",
              "    </script>\n",
              "  </div>\n",
              "\n",
              "    </div>\n",
              "  </div>\n"
            ],
            "application/vnd.google.colaboratory.intrinsic+json": {
              "type": "dataframe",
              "variable_name": "results_df",
              "summary": "{\n  \"name\": \"results_df\",\n  \"rows\": 6,\n  \"fields\": [\n    {\n      \"column\": \"Model\",\n      \"properties\": {\n        \"dtype\": \"string\",\n        \"num_unique_values\": 6,\n        \"samples\": [\n          \"log_reg\",\n          \"lasso_log_reg\",\n          \"knn\"\n        ],\n        \"semantic_type\": \"\",\n        \"description\": \"\"\n      }\n    },\n    {\n      \"column\": \"F1 Score TEST DATA\",\n      \"properties\": {\n        \"dtype\": \"number\",\n        \"std\": 0.27422863842341166,\n        \"min\": 0.24936434692532253,\n        \"max\": 0.9539616444783298,\n        \"num_unique_values\": 6,\n        \"samples\": [\n          0.7029166666666666,\n          0.7031792308760239,\n          0.9515920573375631\n        ],\n        \"semantic_type\": \"\",\n        \"description\": \"\"\n      }\n    },\n    {\n      \"column\": \"f1_scores_InternalTesting\",\n      \"properties\": {\n        \"dtype\": \"number\",\n        \"std\": 0.28641084450349585,\n        \"min\": 0.26819656930922575,\n        \"max\": 0.9999291734542106,\n        \"num_unique_values\": 6,\n        \"samples\": [\n          0.7220015214267602,\n          0.7219874936623288,\n          0.991829484902309\n        ],\n        \"semantic_type\": \"\",\n        \"description\": \"\"\n      }\n    }\n  ]\n}"
            }
          },
          "metadata": {},
          "execution_count": 37
        }
      ]
    },
    {
      "cell_type": "markdown",
      "source": [
        "## Choose \"Best Model\" and Fine-Tune if needed"
      ],
      "metadata": {
        "id": "XBYbyxAMCwq4"
      }
    },
    {
      "cell_type": "markdown",
      "source": [
        "Assume RandomForest Wins.\n",
        "We can fine-tune (play around hyperparameters to see if we can improve), or at least, train the model on full data"
      ],
      "metadata": {
        "id": "M9YUzDjDcJlP"
      }
    },
    {
      "cell_type": "code",
      "source": [
        "# prompt: combine X and X_TEST\n",
        "\n",
        "# Combine X and X_TEST\n",
        "combined_X = np.concatenate((X, X_TEST), axis=0)\n",
        "combined_y = np.concatenate((y, y_TEST), axis=0)\n",
        "\n",
        "print(combined_X.shape)\n",
        "combined_y.shape\n"
      ],
      "metadata": {
        "colab": {
          "base_uri": "https://localhost:8080/"
        },
        "id": "azQ5L_nsC2ew",
        "outputId": "ec83cdf1-5bee-4055-d630-419699f08ad9"
      },
      "execution_count": 40,
      "outputs": [
        {
          "output_type": "stream",
          "name": "stdout",
          "text": [
            "(499999, 7)\n"
          ]
        },
        {
          "output_type": "execute_result",
          "data": {
            "text/plain": [
              "(499999,)"
            ]
          },
          "metadata": {},
          "execution_count": 40
        }
      ]
    },
    {
      "cell_type": "code",
      "source": [
        "# Retrain the Random Forest model on the entire dataset\n",
        "RF_final = RandomForestClassifier(max_depth=10, random_state=42)\n",
        "RF_final.fit(X, y)\n"
      ],
      "metadata": {
        "colab": {
          "base_uri": "https://localhost:8080/",
          "height": 81
        },
        "id": "q64lQt5Ac1_v",
        "outputId": "c5f96530-9091-4a54-9bcf-dc7c8a256257"
      },
      "execution_count": 41,
      "outputs": [
        {
          "output_type": "execute_result",
          "data": {
            "text/plain": [
              "RandomForestClassifier(max_depth=10, random_state=42)"
            ],
            "text/html": [
              "<style>#sk-container-id-1 {\n",
              "  /* Definition of color scheme common for light and dark mode */\n",
              "  --sklearn-color-text: #000;\n",
              "  --sklearn-color-text-muted: #666;\n",
              "  --sklearn-color-line: gray;\n",
              "  /* Definition of color scheme for unfitted estimators */\n",
              "  --sklearn-color-unfitted-level-0: #fff5e6;\n",
              "  --sklearn-color-unfitted-level-1: #f6e4d2;\n",
              "  --sklearn-color-unfitted-level-2: #ffe0b3;\n",
              "  --sklearn-color-unfitted-level-3: chocolate;\n",
              "  /* Definition of color scheme for fitted estimators */\n",
              "  --sklearn-color-fitted-level-0: #f0f8ff;\n",
              "  --sklearn-color-fitted-level-1: #d4ebff;\n",
              "  --sklearn-color-fitted-level-2: #b3dbfd;\n",
              "  --sklearn-color-fitted-level-3: cornflowerblue;\n",
              "\n",
              "  /* Specific color for light theme */\n",
              "  --sklearn-color-text-on-default-background: var(--sg-text-color, var(--theme-code-foreground, var(--jp-content-font-color1, black)));\n",
              "  --sklearn-color-background: var(--sg-background-color, var(--theme-background, var(--jp-layout-color0, white)));\n",
              "  --sklearn-color-border-box: var(--sg-text-color, var(--theme-code-foreground, var(--jp-content-font-color1, black)));\n",
              "  --sklearn-color-icon: #696969;\n",
              "\n",
              "  @media (prefers-color-scheme: dark) {\n",
              "    /* Redefinition of color scheme for dark theme */\n",
              "    --sklearn-color-text-on-default-background: var(--sg-text-color, var(--theme-code-foreground, var(--jp-content-font-color1, white)));\n",
              "    --sklearn-color-background: var(--sg-background-color, var(--theme-background, var(--jp-layout-color0, #111)));\n",
              "    --sklearn-color-border-box: var(--sg-text-color, var(--theme-code-foreground, var(--jp-content-font-color1, white)));\n",
              "    --sklearn-color-icon: #878787;\n",
              "  }\n",
              "}\n",
              "\n",
              "#sk-container-id-1 {\n",
              "  color: var(--sklearn-color-text);\n",
              "}\n",
              "\n",
              "#sk-container-id-1 pre {\n",
              "  padding: 0;\n",
              "}\n",
              "\n",
              "#sk-container-id-1 input.sk-hidden--visually {\n",
              "  border: 0;\n",
              "  clip: rect(1px 1px 1px 1px);\n",
              "  clip: rect(1px, 1px, 1px, 1px);\n",
              "  height: 1px;\n",
              "  margin: -1px;\n",
              "  overflow: hidden;\n",
              "  padding: 0;\n",
              "  position: absolute;\n",
              "  width: 1px;\n",
              "}\n",
              "\n",
              "#sk-container-id-1 div.sk-dashed-wrapped {\n",
              "  border: 1px dashed var(--sklearn-color-line);\n",
              "  margin: 0 0.4em 0.5em 0.4em;\n",
              "  box-sizing: border-box;\n",
              "  padding-bottom: 0.4em;\n",
              "  background-color: var(--sklearn-color-background);\n",
              "}\n",
              "\n",
              "#sk-container-id-1 div.sk-container {\n",
              "  /* jupyter's `normalize.less` sets `[hidden] { display: none; }`\n",
              "     but bootstrap.min.css set `[hidden] { display: none !important; }`\n",
              "     so we also need the `!important` here to be able to override the\n",
              "     default hidden behavior on the sphinx rendered scikit-learn.org.\n",
              "     See: https://github.com/scikit-learn/scikit-learn/issues/21755 */\n",
              "  display: inline-block !important;\n",
              "  position: relative;\n",
              "}\n",
              "\n",
              "#sk-container-id-1 div.sk-text-repr-fallback {\n",
              "  display: none;\n",
              "}\n",
              "\n",
              "div.sk-parallel-item,\n",
              "div.sk-serial,\n",
              "div.sk-item {\n",
              "  /* draw centered vertical line to link estimators */\n",
              "  background-image: linear-gradient(var(--sklearn-color-text-on-default-background), var(--sklearn-color-text-on-default-background));\n",
              "  background-size: 2px 100%;\n",
              "  background-repeat: no-repeat;\n",
              "  background-position: center center;\n",
              "}\n",
              "\n",
              "/* Parallel-specific style estimator block */\n",
              "\n",
              "#sk-container-id-1 div.sk-parallel-item::after {\n",
              "  content: \"\";\n",
              "  width: 100%;\n",
              "  border-bottom: 2px solid var(--sklearn-color-text-on-default-background);\n",
              "  flex-grow: 1;\n",
              "}\n",
              "\n",
              "#sk-container-id-1 div.sk-parallel {\n",
              "  display: flex;\n",
              "  align-items: stretch;\n",
              "  justify-content: center;\n",
              "  background-color: var(--sklearn-color-background);\n",
              "  position: relative;\n",
              "}\n",
              "\n",
              "#sk-container-id-1 div.sk-parallel-item {\n",
              "  display: flex;\n",
              "  flex-direction: column;\n",
              "}\n",
              "\n",
              "#sk-container-id-1 div.sk-parallel-item:first-child::after {\n",
              "  align-self: flex-end;\n",
              "  width: 50%;\n",
              "}\n",
              "\n",
              "#sk-container-id-1 div.sk-parallel-item:last-child::after {\n",
              "  align-self: flex-start;\n",
              "  width: 50%;\n",
              "}\n",
              "\n",
              "#sk-container-id-1 div.sk-parallel-item:only-child::after {\n",
              "  width: 0;\n",
              "}\n",
              "\n",
              "/* Serial-specific style estimator block */\n",
              "\n",
              "#sk-container-id-1 div.sk-serial {\n",
              "  display: flex;\n",
              "  flex-direction: column;\n",
              "  align-items: center;\n",
              "  background-color: var(--sklearn-color-background);\n",
              "  padding-right: 1em;\n",
              "  padding-left: 1em;\n",
              "}\n",
              "\n",
              "\n",
              "/* Toggleable style: style used for estimator/Pipeline/ColumnTransformer box that is\n",
              "clickable and can be expanded/collapsed.\n",
              "- Pipeline and ColumnTransformer use this feature and define the default style\n",
              "- Estimators will overwrite some part of the style using the `sk-estimator` class\n",
              "*/\n",
              "\n",
              "/* Pipeline and ColumnTransformer style (default) */\n",
              "\n",
              "#sk-container-id-1 div.sk-toggleable {\n",
              "  /* Default theme specific background. It is overwritten whether we have a\n",
              "  specific estimator or a Pipeline/ColumnTransformer */\n",
              "  background-color: var(--sklearn-color-background);\n",
              "}\n",
              "\n",
              "/* Toggleable label */\n",
              "#sk-container-id-1 label.sk-toggleable__label {\n",
              "  cursor: pointer;\n",
              "  display: flex;\n",
              "  width: 100%;\n",
              "  margin-bottom: 0;\n",
              "  padding: 0.5em;\n",
              "  box-sizing: border-box;\n",
              "  text-align: center;\n",
              "  align-items: start;\n",
              "  justify-content: space-between;\n",
              "  gap: 0.5em;\n",
              "}\n",
              "\n",
              "#sk-container-id-1 label.sk-toggleable__label .caption {\n",
              "  font-size: 0.6rem;\n",
              "  font-weight: lighter;\n",
              "  color: var(--sklearn-color-text-muted);\n",
              "}\n",
              "\n",
              "#sk-container-id-1 label.sk-toggleable__label-arrow:before {\n",
              "  /* Arrow on the left of the label */\n",
              "  content: \"▸\";\n",
              "  float: left;\n",
              "  margin-right: 0.25em;\n",
              "  color: var(--sklearn-color-icon);\n",
              "}\n",
              "\n",
              "#sk-container-id-1 label.sk-toggleable__label-arrow:hover:before {\n",
              "  color: var(--sklearn-color-text);\n",
              "}\n",
              "\n",
              "/* Toggleable content - dropdown */\n",
              "\n",
              "#sk-container-id-1 div.sk-toggleable__content {\n",
              "  max-height: 0;\n",
              "  max-width: 0;\n",
              "  overflow: hidden;\n",
              "  text-align: left;\n",
              "  /* unfitted */\n",
              "  background-color: var(--sklearn-color-unfitted-level-0);\n",
              "}\n",
              "\n",
              "#sk-container-id-1 div.sk-toggleable__content.fitted {\n",
              "  /* fitted */\n",
              "  background-color: var(--sklearn-color-fitted-level-0);\n",
              "}\n",
              "\n",
              "#sk-container-id-1 div.sk-toggleable__content pre {\n",
              "  margin: 0.2em;\n",
              "  border-radius: 0.25em;\n",
              "  color: var(--sklearn-color-text);\n",
              "  /* unfitted */\n",
              "  background-color: var(--sklearn-color-unfitted-level-0);\n",
              "}\n",
              "\n",
              "#sk-container-id-1 div.sk-toggleable__content.fitted pre {\n",
              "  /* unfitted */\n",
              "  background-color: var(--sklearn-color-fitted-level-0);\n",
              "}\n",
              "\n",
              "#sk-container-id-1 input.sk-toggleable__control:checked~div.sk-toggleable__content {\n",
              "  /* Expand drop-down */\n",
              "  max-height: 200px;\n",
              "  max-width: 100%;\n",
              "  overflow: auto;\n",
              "}\n",
              "\n",
              "#sk-container-id-1 input.sk-toggleable__control:checked~label.sk-toggleable__label-arrow:before {\n",
              "  content: \"▾\";\n",
              "}\n",
              "\n",
              "/* Pipeline/ColumnTransformer-specific style */\n",
              "\n",
              "#sk-container-id-1 div.sk-label input.sk-toggleable__control:checked~label.sk-toggleable__label {\n",
              "  color: var(--sklearn-color-text);\n",
              "  background-color: var(--sklearn-color-unfitted-level-2);\n",
              "}\n",
              "\n",
              "#sk-container-id-1 div.sk-label.fitted input.sk-toggleable__control:checked~label.sk-toggleable__label {\n",
              "  background-color: var(--sklearn-color-fitted-level-2);\n",
              "}\n",
              "\n",
              "/* Estimator-specific style */\n",
              "\n",
              "/* Colorize estimator box */\n",
              "#sk-container-id-1 div.sk-estimator input.sk-toggleable__control:checked~label.sk-toggleable__label {\n",
              "  /* unfitted */\n",
              "  background-color: var(--sklearn-color-unfitted-level-2);\n",
              "}\n",
              "\n",
              "#sk-container-id-1 div.sk-estimator.fitted input.sk-toggleable__control:checked~label.sk-toggleable__label {\n",
              "  /* fitted */\n",
              "  background-color: var(--sklearn-color-fitted-level-2);\n",
              "}\n",
              "\n",
              "#sk-container-id-1 div.sk-label label.sk-toggleable__label,\n",
              "#sk-container-id-1 div.sk-label label {\n",
              "  /* The background is the default theme color */\n",
              "  color: var(--sklearn-color-text-on-default-background);\n",
              "}\n",
              "\n",
              "/* On hover, darken the color of the background */\n",
              "#sk-container-id-1 div.sk-label:hover label.sk-toggleable__label {\n",
              "  color: var(--sklearn-color-text);\n",
              "  background-color: var(--sklearn-color-unfitted-level-2);\n",
              "}\n",
              "\n",
              "/* Label box, darken color on hover, fitted */\n",
              "#sk-container-id-1 div.sk-label.fitted:hover label.sk-toggleable__label.fitted {\n",
              "  color: var(--sklearn-color-text);\n",
              "  background-color: var(--sklearn-color-fitted-level-2);\n",
              "}\n",
              "\n",
              "/* Estimator label */\n",
              "\n",
              "#sk-container-id-1 div.sk-label label {\n",
              "  font-family: monospace;\n",
              "  font-weight: bold;\n",
              "  display: inline-block;\n",
              "  line-height: 1.2em;\n",
              "}\n",
              "\n",
              "#sk-container-id-1 div.sk-label-container {\n",
              "  text-align: center;\n",
              "}\n",
              "\n",
              "/* Estimator-specific */\n",
              "#sk-container-id-1 div.sk-estimator {\n",
              "  font-family: monospace;\n",
              "  border: 1px dotted var(--sklearn-color-border-box);\n",
              "  border-radius: 0.25em;\n",
              "  box-sizing: border-box;\n",
              "  margin-bottom: 0.5em;\n",
              "  /* unfitted */\n",
              "  background-color: var(--sklearn-color-unfitted-level-0);\n",
              "}\n",
              "\n",
              "#sk-container-id-1 div.sk-estimator.fitted {\n",
              "  /* fitted */\n",
              "  background-color: var(--sklearn-color-fitted-level-0);\n",
              "}\n",
              "\n",
              "/* on hover */\n",
              "#sk-container-id-1 div.sk-estimator:hover {\n",
              "  /* unfitted */\n",
              "  background-color: var(--sklearn-color-unfitted-level-2);\n",
              "}\n",
              "\n",
              "#sk-container-id-1 div.sk-estimator.fitted:hover {\n",
              "  /* fitted */\n",
              "  background-color: var(--sklearn-color-fitted-level-2);\n",
              "}\n",
              "\n",
              "/* Specification for estimator info (e.g. \"i\" and \"?\") */\n",
              "\n",
              "/* Common style for \"i\" and \"?\" */\n",
              "\n",
              ".sk-estimator-doc-link,\n",
              "a:link.sk-estimator-doc-link,\n",
              "a:visited.sk-estimator-doc-link {\n",
              "  float: right;\n",
              "  font-size: smaller;\n",
              "  line-height: 1em;\n",
              "  font-family: monospace;\n",
              "  background-color: var(--sklearn-color-background);\n",
              "  border-radius: 1em;\n",
              "  height: 1em;\n",
              "  width: 1em;\n",
              "  text-decoration: none !important;\n",
              "  margin-left: 0.5em;\n",
              "  text-align: center;\n",
              "  /* unfitted */\n",
              "  border: var(--sklearn-color-unfitted-level-1) 1pt solid;\n",
              "  color: var(--sklearn-color-unfitted-level-1);\n",
              "}\n",
              "\n",
              ".sk-estimator-doc-link.fitted,\n",
              "a:link.sk-estimator-doc-link.fitted,\n",
              "a:visited.sk-estimator-doc-link.fitted {\n",
              "  /* fitted */\n",
              "  border: var(--sklearn-color-fitted-level-1) 1pt solid;\n",
              "  color: var(--sklearn-color-fitted-level-1);\n",
              "}\n",
              "\n",
              "/* On hover */\n",
              "div.sk-estimator:hover .sk-estimator-doc-link:hover,\n",
              ".sk-estimator-doc-link:hover,\n",
              "div.sk-label-container:hover .sk-estimator-doc-link:hover,\n",
              ".sk-estimator-doc-link:hover {\n",
              "  /* unfitted */\n",
              "  background-color: var(--sklearn-color-unfitted-level-3);\n",
              "  color: var(--sklearn-color-background);\n",
              "  text-decoration: none;\n",
              "}\n",
              "\n",
              "div.sk-estimator.fitted:hover .sk-estimator-doc-link.fitted:hover,\n",
              ".sk-estimator-doc-link.fitted:hover,\n",
              "div.sk-label-container:hover .sk-estimator-doc-link.fitted:hover,\n",
              ".sk-estimator-doc-link.fitted:hover {\n",
              "  /* fitted */\n",
              "  background-color: var(--sklearn-color-fitted-level-3);\n",
              "  color: var(--sklearn-color-background);\n",
              "  text-decoration: none;\n",
              "}\n",
              "\n",
              "/* Span, style for the box shown on hovering the info icon */\n",
              ".sk-estimator-doc-link span {\n",
              "  display: none;\n",
              "  z-index: 9999;\n",
              "  position: relative;\n",
              "  font-weight: normal;\n",
              "  right: .2ex;\n",
              "  padding: .5ex;\n",
              "  margin: .5ex;\n",
              "  width: min-content;\n",
              "  min-width: 20ex;\n",
              "  max-width: 50ex;\n",
              "  color: var(--sklearn-color-text);\n",
              "  box-shadow: 2pt 2pt 4pt #999;\n",
              "  /* unfitted */\n",
              "  background: var(--sklearn-color-unfitted-level-0);\n",
              "  border: .5pt solid var(--sklearn-color-unfitted-level-3);\n",
              "}\n",
              "\n",
              ".sk-estimator-doc-link.fitted span {\n",
              "  /* fitted */\n",
              "  background: var(--sklearn-color-fitted-level-0);\n",
              "  border: var(--sklearn-color-fitted-level-3);\n",
              "}\n",
              "\n",
              ".sk-estimator-doc-link:hover span {\n",
              "  display: block;\n",
              "}\n",
              "\n",
              "/* \"?\"-specific style due to the `<a>` HTML tag */\n",
              "\n",
              "#sk-container-id-1 a.estimator_doc_link {\n",
              "  float: right;\n",
              "  font-size: 1rem;\n",
              "  line-height: 1em;\n",
              "  font-family: monospace;\n",
              "  background-color: var(--sklearn-color-background);\n",
              "  border-radius: 1rem;\n",
              "  height: 1rem;\n",
              "  width: 1rem;\n",
              "  text-decoration: none;\n",
              "  /* unfitted */\n",
              "  color: var(--sklearn-color-unfitted-level-1);\n",
              "  border: var(--sklearn-color-unfitted-level-1) 1pt solid;\n",
              "}\n",
              "\n",
              "#sk-container-id-1 a.estimator_doc_link.fitted {\n",
              "  /* fitted */\n",
              "  border: var(--sklearn-color-fitted-level-1) 1pt solid;\n",
              "  color: var(--sklearn-color-fitted-level-1);\n",
              "}\n",
              "\n",
              "/* On hover */\n",
              "#sk-container-id-1 a.estimator_doc_link:hover {\n",
              "  /* unfitted */\n",
              "  background-color: var(--sklearn-color-unfitted-level-3);\n",
              "  color: var(--sklearn-color-background);\n",
              "  text-decoration: none;\n",
              "}\n",
              "\n",
              "#sk-container-id-1 a.estimator_doc_link.fitted:hover {\n",
              "  /* fitted */\n",
              "  background-color: var(--sklearn-color-fitted-level-3);\n",
              "}\n",
              "</style><div id=\"sk-container-id-1\" class=\"sk-top-container\"><div class=\"sk-text-repr-fallback\"><pre>RandomForestClassifier(max_depth=10, random_state=42)</pre><b>In a Jupyter environment, please rerun this cell to show the HTML representation or trust the notebook. <br />On GitHub, the HTML representation is unable to render, please try loading this page with nbviewer.org.</b></div><div class=\"sk-container\" hidden><div class=\"sk-item\"><div class=\"sk-estimator fitted sk-toggleable\"><input class=\"sk-toggleable__control sk-hidden--visually\" id=\"sk-estimator-id-1\" type=\"checkbox\" checked><label for=\"sk-estimator-id-1\" class=\"sk-toggleable__label fitted sk-toggleable__label-arrow\"><div><div>RandomForestClassifier</div></div><div><a class=\"sk-estimator-doc-link fitted\" rel=\"noreferrer\" target=\"_blank\" href=\"https://scikit-learn.org/1.6/modules/generated/sklearn.ensemble.RandomForestClassifier.html\">?<span>Documentation for RandomForestClassifier</span></a><span class=\"sk-estimator-doc-link fitted\">i<span>Fitted</span></span></div></label><div class=\"sk-toggleable__content fitted\"><pre>RandomForestClassifier(max_depth=10, random_state=42)</pre></div> </div></div></div></div>"
            ]
          },
          "metadata": {},
          "execution_count": 41
        }
      ]
    },
    {
      "cell_type": "markdown",
      "source": [
        "## Evaluate \"Best Model\" on provided Implementation/OOS DataSets"
      ],
      "metadata": {
        "id": "eWy6IuoDC3tm"
      }
    },
    {
      "cell_type": "code",
      "source": [
        "oos1_url = 'https://www.dropbox.com/scl/fi/25tjo6wvwszygrq6kd750/card_OOS1.csv?rlkey=s1yfcjckludqahjf4bzn2u5no&dl=1'\n",
        "oos2_url = 'https://www.dropbox.com/scl/fi/ntfp8rja3b2eofqk0g0ii/card_OOS2.csv?rlkey=0zqir93n37na2ac2o4zagfpd1&dl=1'\n",
        "oos3_url = 'https://www.dropbox.com/scl/fi/o3g5k9aoe5rj6yfovac54/card_OOS3.csv?rlkey=rqail2dcnnc6qv2mv7sbdsnjp&dl=1'"
      ],
      "metadata": {
        "id": "i4r4GS1RC93i"
      },
      "execution_count": 42,
      "outputs": []
    },
    {
      "cell_type": "code",
      "source": [
        "oos1 = pd.read_csv(oos1_url)\n",
        "oos2 = pd.read_csv(oos2_url)\n",
        "oos3 = pd.read_csv(oos3_url)"
      ],
      "metadata": {
        "id": "8B6VBD2XdAKM"
      },
      "execution_count": 43,
      "outputs": []
    },
    {
      "cell_type": "code",
      "source": [
        "print(oos1.shape)\n",
        "print(oos2.shape)\n",
        "print(oos3.shape)"
      ],
      "metadata": {
        "colab": {
          "base_uri": "https://localhost:8080/"
        },
        "id": "bYG6RwpKdlRJ",
        "outputId": "323258da-5622-4388-8f58-f712a3a6d05c"
      },
      "execution_count": 44,
      "outputs": [
        {
          "output_type": "stream",
          "name": "stdout",
          "text": [
            "(500, 8)\n",
            "(1000, 8)\n",
            "(499, 8)\n"
          ]
        }
      ]
    },
    {
      "cell_type": "code",
      "source": [
        "#Apply scalar transforms to all OOS like before\n",
        "\n",
        "X_oos1 = oos1.drop('fraud', axis=1)\n",
        "y_oos1 = oos1['fraud']\n",
        "X_oos1 = StandardScaler().fit_transform(X_oos1)\n",
        "y_oos1 = y_oos1.to_numpy()\n",
        "\n",
        "X_oos2 = oos2.drop('fraud', axis=1)\n",
        "y_oos2 = oos2['fraud']\n",
        "X_oos2 = StandardScaler().fit_transform(X_oos2)\n",
        "y_oos2 = y_oos2.to_numpy()\n",
        "\n",
        "X_oos3 = oos3.drop('fraud', axis=1)\n",
        "y_oos3 = oos3['fraud']\n",
        "X_oos3 = StandardScaler().fit_transform(X_oos3)\n",
        "y_oos3 = y_oos3.to_numpy()"
      ],
      "metadata": {
        "id": "o7XphIw7dqyh"
      },
      "execution_count": 46,
      "outputs": []
    },
    {
      "cell_type": "markdown",
      "source": [
        "### EVALUATION TIME!"
      ],
      "metadata": {
        "id": "C0E5m5qCeXP8"
      }
    },
    {
      "cell_type": "code",
      "source": [
        "# prompt: Run RF_final.fit on X_oos1 and y_oos1. Report confusion matrix and f1 score\n",
        "\n",
        "y_pred_oos1 = RF_final.predict(X_oos1)\n",
        "print(confusion_matrix(y_oos1, y_pred_oos1))\n",
        "print(\"F1 Score:\", f1_score(y_oos1, y_pred_oos1))\n"
      ],
      "metadata": {
        "colab": {
          "base_uri": "https://localhost:8080/"
        },
        "id": "UdEODUAReISw",
        "outputId": "99d4de96-aebd-4e38-ece9-3363886289f6"
      },
      "execution_count": 47,
      "outputs": [
        {
          "output_type": "stream",
          "name": "stdout",
          "text": [
            "[[235  15]\n",
            " [189  61]]\n",
            "F1 Score: 0.37423312883435583\n"
          ]
        }
      ]
    },
    {
      "cell_type": "code",
      "source": [
        "y_pred_oos2 = RF_final.predict(X_oos2)\n",
        "print(confusion_matrix(y_oos2, y_pred_oos2))\n",
        "print(\"F1 Score:\", f1_score(y_oos2, y_pred_oos2))"
      ],
      "metadata": {
        "colab": {
          "base_uri": "https://localhost:8080/"
        },
        "id": "Gk_apovweafG",
        "outputId": "21850a7d-769f-45ab-a983-778a418d581d"
      },
      "execution_count": 48,
      "outputs": [
        {
          "output_type": "stream",
          "name": "stdout",
          "text": [
            "[[440  60]\n",
            " [375 125]]\n",
            "F1 Score: 0.36496350364963503\n"
          ]
        }
      ]
    },
    {
      "cell_type": "code",
      "source": [
        "y_pred_oos3 = RF_final.predict(X_oos3)\n",
        "print(confusion_matrix(y_oos3, y_pred_oos3))\n",
        "print(\"F1 Score:\", f1_score(y_oos3, y_pred_oos3))\n"
      ],
      "metadata": {
        "colab": {
          "base_uri": "https://localhost:8080/"
        },
        "id": "yrda55n6ec72",
        "outputId": "71a7bd6d-7502-497d-c836-568e3f87d9bb"
      },
      "execution_count": 49,
      "outputs": [
        {
          "output_type": "stream",
          "name": "stdout",
          "text": [
            "[[341   0]\n",
            " [150   8]]\n",
            "F1 Score: 0.0963855421686747\n"
          ]
        }
      ]
    },
    {
      "cell_type": "markdown",
      "source": [
        "WTH!"
      ],
      "metadata": {
        "id": "fsMxSRAwejUz"
      }
    },
    {
      "cell_type": "markdown",
      "source": [
        "\n",
        "\n",
        "---\n",
        "\n",
        "Maybe another model was right. Maybe the RF without re-training on all data\n",
        "\n",
        "\n",
        "---\n",
        "\n"
      ],
      "metadata": {
        "id": "drh07L4ZellE"
      }
    },
    {
      "cell_type": "code",
      "source": [
        "y_pred_oos1 = RF.predict(X_oos1)\n",
        "print(confusion_matrix(y_oos1, y_pred_oos1))\n",
        "print(\"F1 Score: OOS1\", f1_score(y_oos1, y_pred_oos1))\n",
        "y_pred_oos2 = RF.predict(X_oos2)\n",
        "print(confusion_matrix(y_oos2, y_pred_oos2))\n",
        "print(\"F1 Score: OOS2\", f1_score(y_oos2, y_pred_oos2))\n",
        "y_pred_oos3 = RF.predict(X_oos3)\n",
        "print(confusion_matrix(y_oos3, y_pred_oos3))\n",
        "print(\"F1 Score: OOS3\", f1_score(y_oos3, y_pred_oos3))"
      ],
      "metadata": {
        "colab": {
          "base_uri": "https://localhost:8080/"
        },
        "id": "Fn_Qhz1-ekY3",
        "outputId": "dd172a2a-c7c5-4249-83c0-b90452a49454"
      },
      "execution_count": 54,
      "outputs": [
        {
          "output_type": "stream",
          "name": "stdout",
          "text": [
            "[[235  15]\n",
            " [189  61]]\n",
            "F1 Score: OOS1 0.37423312883435583\n",
            "[[440  60]\n",
            " [375 125]]\n",
            "F1 Score: OOS2 0.36496350364963503\n",
            "[[341   0]\n",
            " [150   8]]\n",
            "F1 Score: OOS3 0.0963855421686747\n"
          ]
        }
      ]
    },
    {
      "cell_type": "code",
      "source": [
        "y_pred_oos1 = CART.predict(X_oos1)\n",
        "print(confusion_matrix(y_oos1, y_pred_oos1))\n",
        "print(\"F1 Score: OOS1\", f1_score(y_oos1, y_pred_oos1))\n",
        "y_pred_oos2 = CART.predict(X_oos2)\n",
        "print(confusion_matrix(y_oos2, y_pred_oos2))\n",
        "print(\"F1 Score: OOS2\", f1_score(y_oos2, y_pred_oos2))\n",
        "y_pred_oos3 = CART.predict(X_oos3)\n",
        "print(confusion_matrix(y_oos3, y_pred_oos3))\n",
        "print(\"F1 Score: OOS3\", f1_score(y_oos3, y_pred_oos3))"
      ],
      "metadata": {
        "colab": {
          "base_uri": "https://localhost:8080/"
        },
        "id": "nJQHtozgfZtq",
        "outputId": "a2117f1e-3b44-4bfc-85d3-8735052991a1"
      },
      "execution_count": 55,
      "outputs": [
        {
          "output_type": "stream",
          "name": "stdout",
          "text": [
            "[[235  15]\n",
            " [189  61]]\n",
            "F1 Score: OOS1 0.37423312883435583\n",
            "[[440  60]\n",
            " [375 125]]\n",
            "F1 Score: OOS2 0.36496350364963503\n",
            "[[341   0]\n",
            " [150   8]]\n",
            "F1 Score: OOS3 0.0963855421686747\n"
          ]
        }
      ]
    },
    {
      "cell_type": "code",
      "source": [
        "y_pred_oos1 = knn.predict(X_oos1)\n",
        "print(confusion_matrix(y_oos1, y_pred_oos1))\n",
        "print(\"F1 Score: OOS1\", f1_score(y_oos1, y_pred_oos1))\n",
        "y_pred_oos2 = knn.predict(X_oos2)\n",
        "print(confusion_matrix(y_oos2, y_pred_oos2))\n",
        "print(\"F1 Score: OOS2\", f1_score(y_oos2, y_pred_oos2))\n",
        "y_pred_oos3 = knn.predict(X_oos3)\n",
        "print(confusion_matrix(y_oos3, y_pred_oos3))\n",
        "print(\"F1 Score: OOS3\", f1_score(y_oos3, y_pred_oos3))"
      ],
      "metadata": {
        "colab": {
          "base_uri": "https://localhost:8080/"
        },
        "id": "JbB9Uvzdfg2b",
        "outputId": "340e56c7-82d4-4911-8d28-556170be57c0"
      },
      "execution_count": 56,
      "outputs": [
        {
          "output_type": "stream",
          "name": "stdout",
          "text": [
            "[[235  15]\n",
            " [190  60]]\n",
            "F1 Score: OOS1 0.36923076923076925\n",
            "[[437  63]\n",
            " [377 123]]\n",
            "F1 Score: OOS2 0.358600583090379\n",
            "[[341   0]\n",
            " [149   9]]\n",
            "F1 Score: OOS3 0.10778443113772455\n"
          ]
        }
      ]
    },
    {
      "cell_type": "code",
      "source": [
        "y_pred_oos1 = ridge_log_reg.predict(X_oos1)\n",
        "print(confusion_matrix(y_oos1, y_pred_oos1))\n",
        "print(\"F1 Score: OOS1\", f1_score(y_oos1, y_pred_oos1))\n",
        "y_pred_oos2 = ridge_log_reg.predict(X_oos2)\n",
        "print(confusion_matrix(y_oos2, y_pred_oos2))\n",
        "print(\"F1 Score: OOS2\", f1_score(y_oos2, y_pred_oos2))\n",
        "y_pred_oos3 = ridge_log_reg.predict(X_oos3)\n",
        "print(confusion_matrix(y_oos3, y_pred_oos3))\n",
        "print(\"F1 Score: OOS3\", f1_score(y_oos3, y_pred_oos3))"
      ],
      "metadata": {
        "colab": {
          "base_uri": "https://localhost:8080/"
        },
        "id": "R0JPCe-6fsJK",
        "outputId": "c688e706-49f7-4257-e551-f080cac9e754"
      },
      "execution_count": 58,
      "outputs": [
        {
          "output_type": "stream",
          "name": "stdout",
          "text": [
            "[[250   0]\n",
            " [238  12]]\n",
            "F1 Score: OOS1 0.0916030534351145\n",
            "[[495   5]\n",
            " [480  20]]\n",
            "F1 Score: OOS2 0.0761904761904762\n",
            "[[337   4]\n",
            " [150   8]]\n",
            "F1 Score: OOS3 0.09411764705882353\n"
          ]
        }
      ]
    },
    {
      "cell_type": "code",
      "source": [
        "y_pred_oos1 = lasso_log_reg.predict(X_oos1)\n",
        "print(confusion_matrix(y_oos1, y_pred_oos1))\n",
        "print(\"F1 Score: OOS1\", f1_score(y_oos1, y_pred_oos1))\n",
        "y_pred_oos2 = lasso_log_reg.predict(X_oos2)\n",
        "print(confusion_matrix(y_oos2, y_pred_oos2))\n",
        "print(\"F1 Score: OOS2\", f1_score(y_oos2, y_pred_oos2))\n",
        "y_pred_oos3 = lasso_log_reg.predict(X_oos3)\n",
        "print(confusion_matrix(y_oos3, y_pred_oos3))\n",
        "print(\"F1 Score: OOS3\", f1_score(y_oos3, y_pred_oos3))"
      ],
      "metadata": {
        "colab": {
          "base_uri": "https://localhost:8080/"
        },
        "id": "-0d97xWHf21D",
        "outputId": "a6c95a00-7ca3-46c4-f1ec-60a163410dfa"
      },
      "execution_count": 60,
      "outputs": [
        {
          "output_type": "stream",
          "name": "stdout",
          "text": [
            "[[250   0]\n",
            " [189  61]]\n",
            "F1 Score: OOS1 0.39228295819935693\n",
            "[[496   4]\n",
            " [390 110]]\n",
            "F1 Score: OOS2 0.3583061889250814\n",
            "[[333   8]\n",
            " [150   8]]\n",
            "F1 Score: OOS3 0.09195402298850575\n"
          ]
        }
      ]
    },
    {
      "cell_type": "code",
      "source": [
        "y_pred_oos1 = log_reg.predict(X_oos1)\n",
        "print(confusion_matrix(y_oos1, y_pred_oos1))\n",
        "print(\"F1 Score: OOS1\", f1_score(y_oos1, y_pred_oos1))\n",
        "y_pred_oos2 = log_reg.predict(X_oos2)\n",
        "print(confusion_matrix(y_oos2, y_pred_oos2))\n",
        "print(\"F1 Score: OOS2\", f1_score(y_oos2, y_pred_oos2))\n",
        "y_pred_oos3 = log_reg.predict(X_oos3)\n",
        "print(confusion_matrix(y_oos3, y_pred_oos3))\n",
        "print(\"F1 Score: OOS3\", f1_score(y_oos3, y_pred_oos3))"
      ],
      "metadata": {
        "colab": {
          "base_uri": "https://localhost:8080/"
        },
        "id": "lnwaOV2Rf_GG",
        "outputId": "c987628b-3866-4604-98d8-1cb5cbb648c8"
      },
      "execution_count": 61,
      "outputs": [
        {
          "output_type": "stream",
          "name": "stdout",
          "text": [
            "[[250   0]\n",
            " [189  61]]\n",
            "F1 Score: OOS1 0.39228295819935693\n",
            "[[496   4]\n",
            " [390 110]]\n",
            "F1 Score: OOS2 0.3583061889250814\n",
            "[[333   8]\n",
            " [150   8]]\n",
            "F1 Score: OOS3 0.09195402298850575\n"
          ]
        }
      ]
    },
    {
      "cell_type": "markdown",
      "source": [
        "\n",
        "\n",
        "---\n",
        "\n",
        "***DO AT HOME: Now make a Neural Network on this data -- How does that perform and compare?***\n",
        "\n",
        "---\n",
        "\n"
      ],
      "metadata": {
        "id": "HAInEPHCgKvJ"
      }
    }
  ]
}
