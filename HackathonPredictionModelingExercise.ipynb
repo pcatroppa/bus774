{
  "cells": [
    {
      "cell_type": "markdown",
      "metadata": {
        "id": "JsRaVi8--uqT"
      },
      "source": [
        "# BUS 774: Prediction Modeling Exercise\n",
        "\n",
        "C Kaligotla\n",
        "\n",
        "03-MAR-2025"
      ]
    },
    {
      "cell_type": "markdown",
      "metadata": {
        "id": "vUWhjbeD-4gg"
      },
      "source": [
        "## Problem Description\n",
        "\n",
        "Given the scale of daily credit card transactions, detecting Credit Card fraud is challenging and is an ideal use case for ML applications.\n",
        "\n",
        "We have some data about Credit Card fraud from some unnamed institute.\n",
        "\n",
        "Data for training is available here: [Training Data](https://www.dropbox.com/scl/fi/og0ld7ao5d63ofdnkugtd/card_transdata_train.csv?rlkey=ss3wxcp85kwfq4pzgr8enf2if&dl=0)\n",
        "\n",
        "The data has the following Features (Variables):\n",
        "*   *distancefromhome*, numeric - the distance from home where the transaction happened.\n",
        "* *distancefromlast_transaction*, numeric - the distance from last transaction happened.\n",
        "* *ratiotomedianpurchaseprice*, numeric - Ratio of purchased price transaction to median purchase price.\n",
        "* *repeat_retailer*, binary - Is the transaction happened from same retailer.\n",
        "* *used_chip* , binary - Is the transaction through chip (credit card).\n",
        "* *used_pin_number*, binary - Is the transaction happened by using PIN number.\n",
        "* *online_order*, binary - Is the transaction an online order.\n",
        "\n",
        "Target Variable:\n",
        "* *fraud*, binary - Is the transaction fraudulent.\n",
        "\n",
        "**Objective: ***Build an ML algorithm to predict fraudulent transactions.***\n",
        "\n",
        "Data for testing your model performance is available here: [Test Data](https://www.dropbox.com/scl/fi/uk5xgx94oztqok2ef6w9o/card_transdata_test.csv?rlkey=8j7v1lo11dfenibaxxlxxkrf7&dl=1)\n",
        "\n",
        "I asked the following questions:\n",
        "1. What is the best metric to use for evaluating your ML model and why?\n",
        "2. Build and train your model. Use the testing data to evaluate the model. Print out the confusion matrix from your  prediction model on the test data and report chosen metric\n",
        "3. Identify your \"best\" model\n",
        "4. I have new implementation data sets in class post-submission. Calculate your \"best\" model performance on this new implementation data and report your metric.\n",
        " Links:\n",
        " * [OOS_1_Data](https://www.dropbox.com/scl/fi/25tjo6wvwszygrq6kd750/card_OOS1.csv?rlkey=s1yfcjckludqahjf4bzn2u5no&dl=1)\n",
        " * [OOS_2_Data](https://www.dropbox.com/scl/fi/ntfp8rja3b2eofqk0g0ii/card_OOS2.csv?rlkey=0zqir93n37na2ac2o4zagfpd1&dl=1)\n",
        " * [OOS_3_Data](https://www.dropbox.com/scl/fi/o3g5k9aoe5rj6yfovac54/card_OOS3.csv?rlkey=rqail2dcnnc6qv2mv7sbdsnjp&dl=1)\n",
        "\n",
        "\n"
      ]
    },
    {
      "cell_type": "markdown",
      "metadata": {
        "id": "c1UDHtE7Ccbj"
      },
      "source": [
        "## Preamble"
      ]
    },
    {
      "cell_type": "code",
      "execution_count": 22,
      "metadata": {
        "id": "rFFBROrt-2ip"
      },
      "outputs": [],
      "source": [
        "import pandas as pd\n",
        "import numpy as np\n",
        "import matplotlib.pyplot as plt\n",
        "import seaborn as sns\n",
        "from sklearn.model_selection import train_test_split, cross_val_score, StratifiedKFold\n",
        "from sklearn.preprocessing import StandardScaler, OneHotEncoder\n",
        "from sklearn.compose import ColumnTransformer\n",
        "from sklearn.impute import SimpleImputer\n",
        "from sklearn.pipeline import Pipeline\n",
        "from sklearn.linear_model import LogisticRegression, RidgeClassifier\n",
        "from sklearn.tree import DecisionTreeClassifier\n",
        "from sklearn.ensemble import RandomForestClassifier\n",
        "from sklearn.neighbors import KNeighborsClassifier\n",
        "from sklearn.linear_model import LassoCV\n",
        "from sklearn.metrics import make_scorer,confusion_matrix, accuracy_score, precision_score, recall_score, f1_score, roc_auc_score\n",
        "from xgboost import XGBClassifier\n"
      ]
    },
    {
      "cell_type": "markdown",
      "metadata": {
        "id": "1SWSU-IkChbe"
      },
      "source": [
        "## Load Data and Explore"
      ]
    },
    {
      "cell_type": "code",
      "execution_count": 23,
      "metadata": {
        "colab": {
          "base_uri": "https://localhost:8080/",
          "height": 206
        },
        "id": "0gSZt6KpCjX4",
        "outputId": "bf17e762-557a-4f64-d023-e9f2e9ddafc9"
      },
      "outputs": [
        {
          "data": {
            "application/vnd.microsoft.datawrangler.viewer.v0+json": {
              "columns": [
                {
                  "name": "index",
                  "rawType": "int64",
                  "type": "integer"
                },
                {
                  "name": "admin_support",
                  "rawType": "int64",
                  "type": "integer"
                },
                {
                  "name": "age",
                  "rawType": "int64",
                  "type": "integer"
                },
                {
                  "name": "boss_survey",
                  "rawType": "float64",
                  "type": "float"
                },
                {
                  "name": "boss_tenure",
                  "rawType": "int64",
                  "type": "integer"
                },
                {
                  "name": "city_size",
                  "rawType": "float64",
                  "type": "float"
                },
                {
                  "name": "clock_in",
                  "rawType": "int64",
                  "type": "integer"
                },
                {
                  "name": "core",
                  "rawType": "int64",
                  "type": "integer"
                },
                {
                  "name": "education",
                  "rawType": "int64",
                  "type": "integer"
                },
                {
                  "name": "gender",
                  "rawType": "int64",
                  "type": "integer"
                },
                {
                  "name": "half_day_leaves",
                  "rawType": "int64",
                  "type": "integer"
                },
                {
                  "name": "high_potential",
                  "rawType": "int64",
                  "type": "integer"
                },
                {
                  "name": "job_satisfaction",
                  "rawType": "float64",
                  "type": "float"
                },
                {
                  "name": "kpi_performance",
                  "rawType": "float64",
                  "type": "float"
                },
                {
                  "name": "local",
                  "rawType": "int64",
                  "type": "integer"
                },
                {
                  "name": "part_time",
                  "rawType": "int64",
                  "type": "integer"
                },
                {
                  "name": "rank",
                  "rawType": "int64",
                  "type": "integer"
                },
                {
                  "name": "remote",
                  "rawType": "int64",
                  "type": "integer"
                },
                {
                  "name": "salary",
                  "rawType": "float64",
                  "type": "float"
                },
                {
                  "name": "subordinates",
                  "rawType": "int64",
                  "type": "integer"
                },
                {
                  "name": "team_size",
                  "rawType": "int64",
                  "type": "integer"
                },
                {
                  "name": "tenure",
                  "rawType": "int64",
                  "type": "integer"
                },
                {
                  "name": "tenure_unit",
                  "rawType": "int64",
                  "type": "integer"
                },
                {
                  "name": "training",
                  "rawType": "int64",
                  "type": "integer"
                },
                {
                  "name": "variable_pay",
                  "rawType": "int64",
                  "type": "integer"
                },
                {
                  "name": "years_since_promotion",
                  "rawType": "int64",
                  "type": "integer"
                },
                {
                  "name": "exit",
                  "rawType": "int64",
                  "type": "integer"
                }
              ],
              "conversionMethod": "pd.DataFrame",
              "ref": "a8d32878-aded-4ff6-a5cb-699880431014",
              "rows": [
                [
                  "0",
                  "2",
                  "35",
                  "0.65544415",
                  "3",
                  "6.0999999",
                  "1",
                  "1",
                  "2",
                  "1",
                  "4",
                  "0",
                  "0.55074137",
                  "0.85617352",
                  "1",
                  "0",
                  "3",
                  "0",
                  "53.894035",
                  "0",
                  "9",
                  "3",
                  "3",
                  "3",
                  "11",
                  "3",
                  "0"
                ],
                [
                  "1",
                  "0",
                  "33",
                  "0.53345531",
                  "4",
                  "9.3999996",
                  "0",
                  "1",
                  "2",
                  "0",
                  "5",
                  "0",
                  "0.86257821",
                  "0.55159938",
                  "0",
                  "0",
                  "1",
                  "0",
                  "35.606964",
                  "0",
                  "6",
                  "1",
                  "1",
                  "3",
                  "1",
                  "3",
                  "0"
                ],
                [
                  "2",
                  "0",
                  "32",
                  "0.48656765",
                  "5",
                  "2.2",
                  "0",
                  "1",
                  "1",
                  "0",
                  "4",
                  "0",
                  "0.41687843",
                  "0.74016309",
                  "0",
                  "0",
                  "1",
                  "0",
                  "27.40036",
                  "0",
                  "10",
                  "2",
                  "2",
                  "3",
                  "1",
                  "4",
                  "0"
                ],
                [
                  "3",
                  "0",
                  "40",
                  "0.477364",
                  "4",
                  "4.3000002",
                  "0",
                  "1",
                  "3",
                  "0",
                  "4",
                  "0",
                  "0.30989289",
                  "0.91464549",
                  "0",
                  "0",
                  "1",
                  "0",
                  "36.138199",
                  "0",
                  "8",
                  "1",
                  "1",
                  "3",
                  "0",
                  "4",
                  "0"
                ],
                [
                  "4",
                  "2",
                  "47",
                  "0.60323",
                  "4",
                  "2.2",
                  "0",
                  "1",
                  "1",
                  "1",
                  "5",
                  "0",
                  "0.94780219",
                  "0.51647699",
                  "1",
                  "0",
                  "4",
                  "0",
                  "42.77858",
                  "1",
                  "9",
                  "1",
                  "1",
                  "2",
                  "11",
                  "4",
                  "1"
                ]
              ],
              "shape": {
                "columns": 26,
                "rows": 5
              }
            },
            "text/html": [
              "<div>\n",
              "<style scoped>\n",
              "    .dataframe tbody tr th:only-of-type {\n",
              "        vertical-align: middle;\n",
              "    }\n",
              "\n",
              "    .dataframe tbody tr th {\n",
              "        vertical-align: top;\n",
              "    }\n",
              "\n",
              "    .dataframe thead th {\n",
              "        text-align: right;\n",
              "    }\n",
              "</style>\n",
              "<table border=\"1\" class=\"dataframe\">\n",
              "  <thead>\n",
              "    <tr style=\"text-align: right;\">\n",
              "      <th></th>\n",
              "      <th>admin_support</th>\n",
              "      <th>age</th>\n",
              "      <th>boss_survey</th>\n",
              "      <th>boss_tenure</th>\n",
              "      <th>city_size</th>\n",
              "      <th>clock_in</th>\n",
              "      <th>core</th>\n",
              "      <th>education</th>\n",
              "      <th>gender</th>\n",
              "      <th>half_day_leaves</th>\n",
              "      <th>...</th>\n",
              "      <th>remote</th>\n",
              "      <th>salary</th>\n",
              "      <th>subordinates</th>\n",
              "      <th>team_size</th>\n",
              "      <th>tenure</th>\n",
              "      <th>tenure_unit</th>\n",
              "      <th>training</th>\n",
              "      <th>variable_pay</th>\n",
              "      <th>years_since_promotion</th>\n",
              "      <th>exit</th>\n",
              "    </tr>\n",
              "  </thead>\n",
              "  <tbody>\n",
              "    <tr>\n",
              "      <th>0</th>\n",
              "      <td>2</td>\n",
              "      <td>35</td>\n",
              "      <td>0.655444</td>\n",
              "      <td>3</td>\n",
              "      <td>6.1</td>\n",
              "      <td>1</td>\n",
              "      <td>1</td>\n",
              "      <td>2</td>\n",
              "      <td>1</td>\n",
              "      <td>4</td>\n",
              "      <td>...</td>\n",
              "      <td>0</td>\n",
              "      <td>53.894035</td>\n",
              "      <td>0</td>\n",
              "      <td>9</td>\n",
              "      <td>3</td>\n",
              "      <td>3</td>\n",
              "      <td>3</td>\n",
              "      <td>11</td>\n",
              "      <td>3</td>\n",
              "      <td>0</td>\n",
              "    </tr>\n",
              "    <tr>\n",
              "      <th>1</th>\n",
              "      <td>0</td>\n",
              "      <td>33</td>\n",
              "      <td>0.533455</td>\n",
              "      <td>4</td>\n",
              "      <td>9.4</td>\n",
              "      <td>0</td>\n",
              "      <td>1</td>\n",
              "      <td>2</td>\n",
              "      <td>0</td>\n",
              "      <td>5</td>\n",
              "      <td>...</td>\n",
              "      <td>0</td>\n",
              "      <td>35.606964</td>\n",
              "      <td>0</td>\n",
              "      <td>6</td>\n",
              "      <td>1</td>\n",
              "      <td>1</td>\n",
              "      <td>3</td>\n",
              "      <td>1</td>\n",
              "      <td>3</td>\n",
              "      <td>0</td>\n",
              "    </tr>\n",
              "    <tr>\n",
              "      <th>2</th>\n",
              "      <td>0</td>\n",
              "      <td>32</td>\n",
              "      <td>0.486568</td>\n",
              "      <td>5</td>\n",
              "      <td>2.2</td>\n",
              "      <td>0</td>\n",
              "      <td>1</td>\n",
              "      <td>1</td>\n",
              "      <td>0</td>\n",
              "      <td>4</td>\n",
              "      <td>...</td>\n",
              "      <td>0</td>\n",
              "      <td>27.400360</td>\n",
              "      <td>0</td>\n",
              "      <td>10</td>\n",
              "      <td>2</td>\n",
              "      <td>2</td>\n",
              "      <td>3</td>\n",
              "      <td>1</td>\n",
              "      <td>4</td>\n",
              "      <td>0</td>\n",
              "    </tr>\n",
              "    <tr>\n",
              "      <th>3</th>\n",
              "      <td>0</td>\n",
              "      <td>40</td>\n",
              "      <td>0.477364</td>\n",
              "      <td>4</td>\n",
              "      <td>4.3</td>\n",
              "      <td>0</td>\n",
              "      <td>1</td>\n",
              "      <td>3</td>\n",
              "      <td>0</td>\n",
              "      <td>4</td>\n",
              "      <td>...</td>\n",
              "      <td>0</td>\n",
              "      <td>36.138199</td>\n",
              "      <td>0</td>\n",
              "      <td>8</td>\n",
              "      <td>1</td>\n",
              "      <td>1</td>\n",
              "      <td>3</td>\n",
              "      <td>0</td>\n",
              "      <td>4</td>\n",
              "      <td>0</td>\n",
              "    </tr>\n",
              "    <tr>\n",
              "      <th>4</th>\n",
              "      <td>2</td>\n",
              "      <td>47</td>\n",
              "      <td>0.603230</td>\n",
              "      <td>4</td>\n",
              "      <td>2.2</td>\n",
              "      <td>0</td>\n",
              "      <td>1</td>\n",
              "      <td>1</td>\n",
              "      <td>1</td>\n",
              "      <td>5</td>\n",
              "      <td>...</td>\n",
              "      <td>0</td>\n",
              "      <td>42.778580</td>\n",
              "      <td>1</td>\n",
              "      <td>9</td>\n",
              "      <td>1</td>\n",
              "      <td>1</td>\n",
              "      <td>2</td>\n",
              "      <td>11</td>\n",
              "      <td>4</td>\n",
              "      <td>1</td>\n",
              "    </tr>\n",
              "  </tbody>\n",
              "</table>\n",
              "<p>5 rows × 26 columns</p>\n",
              "</div>"
            ],
            "text/plain": [
              "   admin_support  age  boss_survey  boss_tenure  city_size  clock_in  core  \\\n",
              "0              2   35     0.655444            3        6.1         1     1   \n",
              "1              0   33     0.533455            4        9.4         0     1   \n",
              "2              0   32     0.486568            5        2.2         0     1   \n",
              "3              0   40     0.477364            4        4.3         0     1   \n",
              "4              2   47     0.603230            4        2.2         0     1   \n",
              "\n",
              "   education  gender  half_day_leaves  ...  remote     salary  subordinates  \\\n",
              "0          2       1                4  ...       0  53.894035             0   \n",
              "1          2       0                5  ...       0  35.606964             0   \n",
              "2          1       0                4  ...       0  27.400360             0   \n",
              "3          3       0                4  ...       0  36.138199             0   \n",
              "4          1       1                5  ...       0  42.778580             1   \n",
              "\n",
              "   team_size  tenure  tenure_unit  training  variable_pay  \\\n",
              "0          9       3            3         3            11   \n",
              "1          6       1            1         3             1   \n",
              "2         10       2            2         3             1   \n",
              "3          8       1            1         3             0   \n",
              "4          9       1            1         2            11   \n",
              "\n",
              "   years_since_promotion  exit  \n",
              "0                      3     0  \n",
              "1                      3     0  \n",
              "2                      4     0  \n",
              "3                      4     0  \n",
              "4                      4     1  \n",
              "\n",
              "[5 rows x 26 columns]"
            ]
          },
          "execution_count": 23,
          "metadata": {},
          "output_type": "execute_result"
        }
      ],
      "source": [
        "#train_url = 'https://www.dropbox.com/scl/fi/og0ld7ao5d63ofdnkugtd/card_transdata_train.csv?rlkey=ss3wxcp85kwfq4pzgr8enf2if&e=1&dl=1'\n",
        "#test_url= 'https://www.dropbox.com/scl/fi/uk5xgx94oztqok2ef6w9o/card_transdata_test.csv?rlkey=8j7v1lo11dfenibaxxlxxkrf7&dl=1'\n",
        "train_url = 'https://www.dropbox.com/scl/fi/x211gqhiufa0top7d7c8m/chimera_data_train.csv?rlkey=suz0x2x9frdhvlmz5m5on98hk&dl=1'\n",
        "test_url= 'https://www.dropbox.com/scl/fi/ig42vp9mnq3axaosvikxt/chimera_data_test.csv?rlkey=a3llsve82mxxbq6uc54gffa55&dl=1'\n",
        "\n",
        "df=pd.read_csv(train_url)\n",
        "df.head()"
      ]
    },
    {
      "cell_type": "code",
      "execution_count": 24,
      "metadata": {
        "colab": {
          "base_uri": "https://localhost:8080/"
        },
        "id": "kcppGy93EvKF",
        "outputId": "5675acb9-9979-4425-adc1-64b0f46dc96c"
      },
      "outputs": [
        {
          "name": "stdout",
          "output_type": "stream",
          "text": [
            "(14505, 26)\n",
            "<class 'pandas.core.frame.DataFrame'>\n",
            "RangeIndex: 14505 entries, 0 to 14504\n",
            "Data columns (total 26 columns):\n",
            " #   Column                 Non-Null Count  Dtype  \n",
            "---  ------                 --------------  -----  \n",
            " 0   admin_support          14505 non-null  int64  \n",
            " 1   age                    14505 non-null  int64  \n",
            " 2   boss_survey            14505 non-null  float64\n",
            " 3   boss_tenure            14505 non-null  int64  \n",
            " 4   city_size              14505 non-null  float64\n",
            " 5   clock_in               14505 non-null  int64  \n",
            " 6   core                   14505 non-null  int64  \n",
            " 7   education              14505 non-null  int64  \n",
            " 8   gender                 14505 non-null  int64  \n",
            " 9   half_day_leaves        14505 non-null  int64  \n",
            " 10  high_potential         14505 non-null  int64  \n",
            " 11  job_satisfaction       14505 non-null  float64\n",
            " 12  kpi_performance        14505 non-null  float64\n",
            " 13  local                  14505 non-null  int64  \n",
            " 14  part_time              14505 non-null  int64  \n",
            " 15  rank                   14505 non-null  int64  \n",
            " 16  remote                 14505 non-null  int64  \n",
            " 17  salary                 14505 non-null  float64\n",
            " 18  subordinates           14505 non-null  int64  \n",
            " 19  team_size              14505 non-null  int64  \n",
            " 20  tenure                 14505 non-null  int64  \n",
            " 21  tenure_unit            14505 non-null  int64  \n",
            " 22  training               14505 non-null  int64  \n",
            " 23  variable_pay           14505 non-null  int64  \n",
            " 24  years_since_promotion  14505 non-null  int64  \n",
            " 25  exit                   14505 non-null  int64  \n",
            "dtypes: float64(5), int64(21)\n",
            "memory usage: 2.9 MB\n"
          ]
        }
      ],
      "source": [
        "print(df.shape)\n",
        "df.info()"
      ]
    },
    {
      "cell_type": "markdown",
      "metadata": {
        "id": "5h8lR-opFI9G"
      },
      "source": [
        "Note: Everything here is numerical, so we don't have to convert anything.\n",
        "\n",
        "If for instance, fraud was \"Y\" and \"N\" instead of 1 and 0, we'd use code like this:\n",
        "\n",
        "```\n",
        "y = data['fraud'].apply(lambda x: 1 if x == 'Y' else 0)  # Encode target\n",
        "```\n",
        "\n",
        "There's no missing data, so we don't have to worry about imputation."
      ]
    },
    {
      "cell_type": "code",
      "execution_count": 25,
      "metadata": {
        "colab": {
          "base_uri": "https://localhost:8080/",
          "height": 300
        },
        "id": "545iTQLaEzGG",
        "outputId": "167d1dd1-d15f-4f68-8e8d-a25f4262c37f"
      },
      "outputs": [
        {
          "data": {
            "application/vnd.microsoft.datawrangler.viewer.v0+json": {
              "columns": [
                {
                  "name": "index",
                  "rawType": "object",
                  "type": "string"
                },
                {
                  "name": "admin_support",
                  "rawType": "float64",
                  "type": "float"
                },
                {
                  "name": "age",
                  "rawType": "float64",
                  "type": "float"
                },
                {
                  "name": "boss_survey",
                  "rawType": "float64",
                  "type": "float"
                },
                {
                  "name": "boss_tenure",
                  "rawType": "float64",
                  "type": "float"
                },
                {
                  "name": "city_size",
                  "rawType": "float64",
                  "type": "float"
                },
                {
                  "name": "clock_in",
                  "rawType": "float64",
                  "type": "float"
                },
                {
                  "name": "core",
                  "rawType": "float64",
                  "type": "float"
                },
                {
                  "name": "education",
                  "rawType": "float64",
                  "type": "float"
                },
                {
                  "name": "gender",
                  "rawType": "float64",
                  "type": "float"
                },
                {
                  "name": "half_day_leaves",
                  "rawType": "float64",
                  "type": "float"
                },
                {
                  "name": "high_potential",
                  "rawType": "float64",
                  "type": "float"
                },
                {
                  "name": "job_satisfaction",
                  "rawType": "float64",
                  "type": "float"
                },
                {
                  "name": "kpi_performance",
                  "rawType": "float64",
                  "type": "float"
                },
                {
                  "name": "local",
                  "rawType": "float64",
                  "type": "float"
                },
                {
                  "name": "part_time",
                  "rawType": "float64",
                  "type": "float"
                },
                {
                  "name": "rank",
                  "rawType": "float64",
                  "type": "float"
                },
                {
                  "name": "remote",
                  "rawType": "float64",
                  "type": "float"
                },
                {
                  "name": "salary",
                  "rawType": "float64",
                  "type": "float"
                },
                {
                  "name": "subordinates",
                  "rawType": "float64",
                  "type": "float"
                },
                {
                  "name": "team_size",
                  "rawType": "float64",
                  "type": "float"
                },
                {
                  "name": "tenure",
                  "rawType": "float64",
                  "type": "float"
                },
                {
                  "name": "tenure_unit",
                  "rawType": "float64",
                  "type": "float"
                },
                {
                  "name": "training",
                  "rawType": "float64",
                  "type": "float"
                },
                {
                  "name": "variable_pay",
                  "rawType": "float64",
                  "type": "float"
                },
                {
                  "name": "years_since_promotion",
                  "rawType": "float64",
                  "type": "float"
                },
                {
                  "name": "exit",
                  "rawType": "float64",
                  "type": "float"
                }
              ],
              "conversionMethod": "pd.DataFrame",
              "ref": "ec453416-3f98-46f0-96da-4ae28d3af05c",
              "rows": [
                [
                  "count",
                  "14505.0",
                  "14505.0",
                  "14505.0",
                  "14505.0",
                  "14505.0",
                  "14505.0",
                  "14505.0",
                  "14505.0",
                  "14505.0",
                  "14505.0",
                  "14505.0",
                  "14505.0",
                  "14505.0",
                  "14505.0",
                  "14505.0",
                  "14505.0",
                  "14505.0",
                  "14505.0",
                  "14505.0",
                  "14505.0",
                  "14505.0",
                  "14505.0",
                  "14505.0",
                  "14505.0",
                  "14505.0",
                  "14505.0"
                ],
                [
                  "mean",
                  "0.603791795932437",
                  "37.88066184074457",
                  "0.5000077022637711",
                  "3.61923474663909",
                  "5.407280167696657",
                  "0.3509134781109962",
                  "0.8008962426749396",
                  "1.3768355739400207",
                  "0.6310927266459841",
                  "4.601792485349879",
                  "0.10637711134091693",
                  "0.5998139951187866",
                  "0.6996671945556706",
                  "0.6007583591864875",
                  "0.21061702861082385",
                  "1.7696656325405034",
                  "0.30024129610479144",
                  "38.98051305604964",
                  "1.8281971733884868",
                  "7.121130644605309",
                  "1.5873836608066183",
                  "1.3920716994139952",
                  "2.5960013788348846",
                  "7.026818338503964",
                  "3.610203378145467",
                  "0.13485005170630818"
                ],
                [
                  "std",
                  "0.7340880295931322",
                  "4.736379327843812",
                  "0.1998569835762338",
                  "1.0501107519692974",
                  "2.802392129014473",
                  "0.4772723678949243",
                  "0.3993400123361662",
                  "0.6583408142801824",
                  "0.48252538666732503",
                  "1.2314244001090817",
                  "0.3083303028379851",
                  "0.19978983284396787",
                  "0.10002544891583233",
                  "0.48975942024279373",
                  "0.40776090879582555",
                  "0.9963202041208424",
                  "0.45837860512155165",
                  "6.938193937118742",
                  "2.545285749663677",
                  "2.0176444083957383",
                  "1.015105547521764",
                  "0.8831045843716734",
                  "0.581864649155992",
                  "5.887543337567212",
                  "0.7579369469895657",
                  "0.3415751146377215"
                ],
                [
                  "min",
                  "0.0",
                  "19.0",
                  "-0.27705804",
                  "3.0",
                  "0.89999998",
                  "0.0",
                  "0.0",
                  "1.0",
                  "0.0",
                  "0.0",
                  "0.0",
                  "-0.23049125",
                  "0.32698262",
                  "0.0",
                  "0.0",
                  "1.0",
                  "0.0",
                  "21.664703",
                  "0.0",
                  "1.0",
                  "1.0",
                  "1.0",
                  "1.0",
                  "0.0",
                  "1.0",
                  "0.0"
                ],
                [
                  "25%",
                  "0.0",
                  "35.0",
                  "0.36511311",
                  "3.0",
                  "2.2",
                  "0.0",
                  "1.0",
                  "1.0",
                  "0.0",
                  "4.0",
                  "0.0",
                  "0.46396613",
                  "0.63222814",
                  "0.0",
                  "0.0",
                  "1.0",
                  "0.0",
                  "34.15358",
                  "0.0",
                  "6.0",
                  "1.0",
                  "1.0",
                  "2.0",
                  "2.0",
                  "3.0",
                  "0.0"
                ],
                [
                  "50%",
                  "0.0",
                  "38.0",
                  "0.50047803",
                  "3.0",
                  "4.3000002",
                  "0.0",
                  "1.0",
                  "1.0",
                  "1.0",
                  "5.0",
                  "0.0",
                  "0.59947145",
                  "0.70016909",
                  "1.0",
                  "0.0",
                  "1.0",
                  "0.0",
                  "38.191643",
                  "0.0",
                  "7.0",
                  "1.0",
                  "1.0",
                  "3.0",
                  "5.0",
                  "4.0",
                  "0.0"
                ],
                [
                  "75%",
                  "1.0",
                  "41.0",
                  "0.6339305",
                  "4.0",
                  "9.3999996",
                  "1.0",
                  "1.0",
                  "2.0",
                  "1.0",
                  "5.0",
                  "0.0",
                  "0.73206007",
                  "0.76731879",
                  "1.0",
                  "0.0",
                  "2.0",
                  "1.0",
                  "42.637604",
                  "4.0",
                  "8.0",
                  "2.0",
                  "2.0",
                  "3.0",
                  "12.0",
                  "4.0",
                  "0.0"
                ],
                [
                  "max",
                  "2.0",
                  "56.0",
                  "1.2769527",
                  "32.0",
                  "9.3999996",
                  "1.0",
                  "1.0",
                  "3.0",
                  "1.0",
                  "9.0",
                  "1.0",
                  "1.3169713",
                  "1.1285816",
                  "1.0",
                  "1.0",
                  "5.0",
                  "1.0",
                  "93.252998",
                  "8.0",
                  "15.0",
                  "32.0",
                  "32.0",
                  "4.0",
                  "20.0",
                  "6.0",
                  "1.0"
                ]
              ],
              "shape": {
                "columns": 26,
                "rows": 8
              }
            },
            "text/html": [
              "<div>\n",
              "<style scoped>\n",
              "    .dataframe tbody tr th:only-of-type {\n",
              "        vertical-align: middle;\n",
              "    }\n",
              "\n",
              "    .dataframe tbody tr th {\n",
              "        vertical-align: top;\n",
              "    }\n",
              "\n",
              "    .dataframe thead th {\n",
              "        text-align: right;\n",
              "    }\n",
              "</style>\n",
              "<table border=\"1\" class=\"dataframe\">\n",
              "  <thead>\n",
              "    <tr style=\"text-align: right;\">\n",
              "      <th></th>\n",
              "      <th>admin_support</th>\n",
              "      <th>age</th>\n",
              "      <th>boss_survey</th>\n",
              "      <th>boss_tenure</th>\n",
              "      <th>city_size</th>\n",
              "      <th>clock_in</th>\n",
              "      <th>core</th>\n",
              "      <th>education</th>\n",
              "      <th>gender</th>\n",
              "      <th>half_day_leaves</th>\n",
              "      <th>...</th>\n",
              "      <th>remote</th>\n",
              "      <th>salary</th>\n",
              "      <th>subordinates</th>\n",
              "      <th>team_size</th>\n",
              "      <th>tenure</th>\n",
              "      <th>tenure_unit</th>\n",
              "      <th>training</th>\n",
              "      <th>variable_pay</th>\n",
              "      <th>years_since_promotion</th>\n",
              "      <th>exit</th>\n",
              "    </tr>\n",
              "  </thead>\n",
              "  <tbody>\n",
              "    <tr>\n",
              "      <th>count</th>\n",
              "      <td>14505.000000</td>\n",
              "      <td>14505.000000</td>\n",
              "      <td>14505.000000</td>\n",
              "      <td>14505.000000</td>\n",
              "      <td>14505.000000</td>\n",
              "      <td>14505.000000</td>\n",
              "      <td>14505.000000</td>\n",
              "      <td>14505.000000</td>\n",
              "      <td>14505.000000</td>\n",
              "      <td>14505.000000</td>\n",
              "      <td>...</td>\n",
              "      <td>14505.000000</td>\n",
              "      <td>14505.000000</td>\n",
              "      <td>14505.000000</td>\n",
              "      <td>14505.000000</td>\n",
              "      <td>14505.000000</td>\n",
              "      <td>14505.000000</td>\n",
              "      <td>14505.000000</td>\n",
              "      <td>14505.000000</td>\n",
              "      <td>14505.000000</td>\n",
              "      <td>14505.000000</td>\n",
              "    </tr>\n",
              "    <tr>\n",
              "      <th>mean</th>\n",
              "      <td>0.603792</td>\n",
              "      <td>37.880662</td>\n",
              "      <td>0.500008</td>\n",
              "      <td>3.619235</td>\n",
              "      <td>5.407280</td>\n",
              "      <td>0.350913</td>\n",
              "      <td>0.800896</td>\n",
              "      <td>1.376836</td>\n",
              "      <td>0.631093</td>\n",
              "      <td>4.601792</td>\n",
              "      <td>...</td>\n",
              "      <td>0.300241</td>\n",
              "      <td>38.980513</td>\n",
              "      <td>1.828197</td>\n",
              "      <td>7.121131</td>\n",
              "      <td>1.587384</td>\n",
              "      <td>1.392072</td>\n",
              "      <td>2.596001</td>\n",
              "      <td>7.026818</td>\n",
              "      <td>3.610203</td>\n",
              "      <td>0.134850</td>\n",
              "    </tr>\n",
              "    <tr>\n",
              "      <th>std</th>\n",
              "      <td>0.734088</td>\n",
              "      <td>4.736379</td>\n",
              "      <td>0.199857</td>\n",
              "      <td>1.050111</td>\n",
              "      <td>2.802392</td>\n",
              "      <td>0.477272</td>\n",
              "      <td>0.399340</td>\n",
              "      <td>0.658341</td>\n",
              "      <td>0.482525</td>\n",
              "      <td>1.231424</td>\n",
              "      <td>...</td>\n",
              "      <td>0.458379</td>\n",
              "      <td>6.938194</td>\n",
              "      <td>2.545286</td>\n",
              "      <td>2.017644</td>\n",
              "      <td>1.015106</td>\n",
              "      <td>0.883105</td>\n",
              "      <td>0.581865</td>\n",
              "      <td>5.887543</td>\n",
              "      <td>0.757937</td>\n",
              "      <td>0.341575</td>\n",
              "    </tr>\n",
              "    <tr>\n",
              "      <th>min</th>\n",
              "      <td>0.000000</td>\n",
              "      <td>19.000000</td>\n",
              "      <td>-0.277058</td>\n",
              "      <td>3.000000</td>\n",
              "      <td>0.900000</td>\n",
              "      <td>0.000000</td>\n",
              "      <td>0.000000</td>\n",
              "      <td>1.000000</td>\n",
              "      <td>0.000000</td>\n",
              "      <td>0.000000</td>\n",
              "      <td>...</td>\n",
              "      <td>0.000000</td>\n",
              "      <td>21.664703</td>\n",
              "      <td>0.000000</td>\n",
              "      <td>1.000000</td>\n",
              "      <td>1.000000</td>\n",
              "      <td>1.000000</td>\n",
              "      <td>1.000000</td>\n",
              "      <td>0.000000</td>\n",
              "      <td>1.000000</td>\n",
              "      <td>0.000000</td>\n",
              "    </tr>\n",
              "    <tr>\n",
              "      <th>25%</th>\n",
              "      <td>0.000000</td>\n",
              "      <td>35.000000</td>\n",
              "      <td>0.365113</td>\n",
              "      <td>3.000000</td>\n",
              "      <td>2.200000</td>\n",
              "      <td>0.000000</td>\n",
              "      <td>1.000000</td>\n",
              "      <td>1.000000</td>\n",
              "      <td>0.000000</td>\n",
              "      <td>4.000000</td>\n",
              "      <td>...</td>\n",
              "      <td>0.000000</td>\n",
              "      <td>34.153580</td>\n",
              "      <td>0.000000</td>\n",
              "      <td>6.000000</td>\n",
              "      <td>1.000000</td>\n",
              "      <td>1.000000</td>\n",
              "      <td>2.000000</td>\n",
              "      <td>2.000000</td>\n",
              "      <td>3.000000</td>\n",
              "      <td>0.000000</td>\n",
              "    </tr>\n",
              "    <tr>\n",
              "      <th>50%</th>\n",
              "      <td>0.000000</td>\n",
              "      <td>38.000000</td>\n",
              "      <td>0.500478</td>\n",
              "      <td>3.000000</td>\n",
              "      <td>4.300000</td>\n",
              "      <td>0.000000</td>\n",
              "      <td>1.000000</td>\n",
              "      <td>1.000000</td>\n",
              "      <td>1.000000</td>\n",
              "      <td>5.000000</td>\n",
              "      <td>...</td>\n",
              "      <td>0.000000</td>\n",
              "      <td>38.191643</td>\n",
              "      <td>0.000000</td>\n",
              "      <td>7.000000</td>\n",
              "      <td>1.000000</td>\n",
              "      <td>1.000000</td>\n",
              "      <td>3.000000</td>\n",
              "      <td>5.000000</td>\n",
              "      <td>4.000000</td>\n",
              "      <td>0.000000</td>\n",
              "    </tr>\n",
              "    <tr>\n",
              "      <th>75%</th>\n",
              "      <td>1.000000</td>\n",
              "      <td>41.000000</td>\n",
              "      <td>0.633930</td>\n",
              "      <td>4.000000</td>\n",
              "      <td>9.400000</td>\n",
              "      <td>1.000000</td>\n",
              "      <td>1.000000</td>\n",
              "      <td>2.000000</td>\n",
              "      <td>1.000000</td>\n",
              "      <td>5.000000</td>\n",
              "      <td>...</td>\n",
              "      <td>1.000000</td>\n",
              "      <td>42.637604</td>\n",
              "      <td>4.000000</td>\n",
              "      <td>8.000000</td>\n",
              "      <td>2.000000</td>\n",
              "      <td>2.000000</td>\n",
              "      <td>3.000000</td>\n",
              "      <td>12.000000</td>\n",
              "      <td>4.000000</td>\n",
              "      <td>0.000000</td>\n",
              "    </tr>\n",
              "    <tr>\n",
              "      <th>max</th>\n",
              "      <td>2.000000</td>\n",
              "      <td>56.000000</td>\n",
              "      <td>1.276953</td>\n",
              "      <td>32.000000</td>\n",
              "      <td>9.400000</td>\n",
              "      <td>1.000000</td>\n",
              "      <td>1.000000</td>\n",
              "      <td>3.000000</td>\n",
              "      <td>1.000000</td>\n",
              "      <td>9.000000</td>\n",
              "      <td>...</td>\n",
              "      <td>1.000000</td>\n",
              "      <td>93.252998</td>\n",
              "      <td>8.000000</td>\n",
              "      <td>15.000000</td>\n",
              "      <td>32.000000</td>\n",
              "      <td>32.000000</td>\n",
              "      <td>4.000000</td>\n",
              "      <td>20.000000</td>\n",
              "      <td>6.000000</td>\n",
              "      <td>1.000000</td>\n",
              "    </tr>\n",
              "  </tbody>\n",
              "</table>\n",
              "<p>8 rows × 26 columns</p>\n",
              "</div>"
            ],
            "text/plain": [
              "       admin_support           age   boss_survey   boss_tenure     city_size  \\\n",
              "count   14505.000000  14505.000000  14505.000000  14505.000000  14505.000000   \n",
              "mean        0.603792     37.880662      0.500008      3.619235      5.407280   \n",
              "std         0.734088      4.736379      0.199857      1.050111      2.802392   \n",
              "min         0.000000     19.000000     -0.277058      3.000000      0.900000   \n",
              "25%         0.000000     35.000000      0.365113      3.000000      2.200000   \n",
              "50%         0.000000     38.000000      0.500478      3.000000      4.300000   \n",
              "75%         1.000000     41.000000      0.633930      4.000000      9.400000   \n",
              "max         2.000000     56.000000      1.276953     32.000000      9.400000   \n",
              "\n",
              "           clock_in          core     education        gender  \\\n",
              "count  14505.000000  14505.000000  14505.000000  14505.000000   \n",
              "mean       0.350913      0.800896      1.376836      0.631093   \n",
              "std        0.477272      0.399340      0.658341      0.482525   \n",
              "min        0.000000      0.000000      1.000000      0.000000   \n",
              "25%        0.000000      1.000000      1.000000      0.000000   \n",
              "50%        0.000000      1.000000      1.000000      1.000000   \n",
              "75%        1.000000      1.000000      2.000000      1.000000   \n",
              "max        1.000000      1.000000      3.000000      1.000000   \n",
              "\n",
              "       half_day_leaves  ...        remote        salary  subordinates  \\\n",
              "count     14505.000000  ...  14505.000000  14505.000000  14505.000000   \n",
              "mean          4.601792  ...      0.300241     38.980513      1.828197   \n",
              "std           1.231424  ...      0.458379      6.938194      2.545286   \n",
              "min           0.000000  ...      0.000000     21.664703      0.000000   \n",
              "25%           4.000000  ...      0.000000     34.153580      0.000000   \n",
              "50%           5.000000  ...      0.000000     38.191643      0.000000   \n",
              "75%           5.000000  ...      1.000000     42.637604      4.000000   \n",
              "max           9.000000  ...      1.000000     93.252998      8.000000   \n",
              "\n",
              "          team_size        tenure   tenure_unit      training  variable_pay  \\\n",
              "count  14505.000000  14505.000000  14505.000000  14505.000000  14505.000000   \n",
              "mean       7.121131      1.587384      1.392072      2.596001      7.026818   \n",
              "std        2.017644      1.015106      0.883105      0.581865      5.887543   \n",
              "min        1.000000      1.000000      1.000000      1.000000      0.000000   \n",
              "25%        6.000000      1.000000      1.000000      2.000000      2.000000   \n",
              "50%        7.000000      1.000000      1.000000      3.000000      5.000000   \n",
              "75%        8.000000      2.000000      2.000000      3.000000     12.000000   \n",
              "max       15.000000     32.000000     32.000000      4.000000     20.000000   \n",
              "\n",
              "       years_since_promotion          exit  \n",
              "count           14505.000000  14505.000000  \n",
              "mean                3.610203      0.134850  \n",
              "std                 0.757937      0.341575  \n",
              "min                 1.000000      0.000000  \n",
              "25%                 3.000000      0.000000  \n",
              "50%                 4.000000      0.000000  \n",
              "75%                 4.000000      0.000000  \n",
              "max                 6.000000      1.000000  \n",
              "\n",
              "[8 rows x 26 columns]"
            ]
          },
          "execution_count": 25,
          "metadata": {},
          "output_type": "execute_result"
        }
      ],
      "source": [
        "df.describe()"
      ]
    },
    {
      "cell_type": "markdown",
      "metadata": {
        "id": "XpG3OU4-E_P2"
      },
      "source": [
        "### # Separate features and target"
      ]
    },
    {
      "cell_type": "code",
      "execution_count": 26,
      "metadata": {
        "colab": {
          "base_uri": "https://localhost:8080/"
        },
        "id": "WcSpc5BnFBAD",
        "outputId": "a5b89e64-bff1-4b7e-944c-3456730cbbc9"
      },
      "outputs": [
        {
          "name": "stdout",
          "output_type": "stream",
          "text": [
            "   admin_support  age  boss_survey  boss_tenure  city_size  clock_in  core  \\\n",
            "0              2   35     0.655444            3        6.1         1     1   \n",
            "1              0   33     0.533455            4        9.4         0     1   \n",
            "2              0   32     0.486568            5        2.2         0     1   \n",
            "3              0   40     0.477364            4        4.3         0     1   \n",
            "4              2   47     0.603230            4        2.2         0     1   \n",
            "\n",
            "   education  gender  half_day_leaves  ...  rank  remote     salary  \\\n",
            "0          2       1                4  ...     3       0  53.894035   \n",
            "1          2       0                5  ...     1       0  35.606964   \n",
            "2          1       0                4  ...     1       0  27.400360   \n",
            "3          3       0                4  ...     1       0  36.138199   \n",
            "4          1       1                5  ...     4       0  42.778580   \n",
            "\n",
            "   subordinates  team_size  tenure  tenure_unit  training  variable_pay  \\\n",
            "0             0          9       3            3         3            11   \n",
            "1             0          6       1            1         3             1   \n",
            "2             0         10       2            2         3             1   \n",
            "3             0          8       1            1         3             0   \n",
            "4             1          9       1            1         2            11   \n",
            "\n",
            "   years_since_promotion  \n",
            "0                      3  \n",
            "1                      3  \n",
            "2                      4  \n",
            "3                      4  \n",
            "4                      4  \n",
            "\n",
            "[5 rows x 25 columns]\n",
            "(14505, 25)\n",
            "0    0\n",
            "1    0\n",
            "2    0\n",
            "3    0\n",
            "4    1\n",
            "Name: exit, dtype: int64\n",
            "(14505,)\n"
          ]
        }
      ],
      "source": [
        "X = df.drop('exit', axis=1)\n",
        "y = df['exit']\n",
        "print(X.head())\n",
        "print(X.shape)\n",
        "print(y.head())\n",
        "print(y.shape)"
      ]
    },
    {
      "cell_type": "markdown",
      "metadata": {
        "id": "_xozLvRAGBcZ"
      },
      "source": [
        "Pre-Process the data - Transform (standardization/normalization) and convert to array)\n",
        "\n",
        "See: https://towardsdatascience.com/what-and-why-behind-fit-transform-vs-transform-in-scikit-learn-78f915cf96fe/"
      ]
    },
    {
      "cell_type": "code",
      "execution_count": 27,
      "metadata": {
        "colab": {
          "base_uri": "https://localhost:8080/"
        },
        "id": "_4A7vpGYGAKv",
        "outputId": "e94df5f4-6108-4c75-a3ac-c533d8e62155"
      },
      "outputs": [
        {
          "data": {
            "text/plain": [
              "array([[ 1.90202847, -0.60822011,  0.7777652 , -0.58970551,  0.24719724,\n",
              "         1.36003871,  0.49859923,  0.94660075,  0.76456079, -0.4887131 ,\n",
              "        -0.34502213, -0.2456297 ,  1.564719  ,  0.8152072 , -0.5165387 ,\n",
              "         1.23492104, -0.6550298 ,  2.14955595, -0.71829271,  0.93125137,\n",
              "         1.3916435 ,  1.82083046,  0.69434111,  0.67486868, -0.80511237],\n",
              "       [-0.82253434, -1.03049814,  0.16736348,  0.36260783,  1.42480313,\n",
              "        -0.73527319,  0.49859923,  0.94660075, -1.30794047,  0.32338261,\n",
              "        -0.34502213,  1.31524848, -1.48035245, -1.22668201, -0.5165387 ,\n",
              "        -0.77253494, -0.6550298 , -0.48624547, -0.71829271, -0.5556823 ,\n",
              "        -0.57866289, -0.44398503,  0.69434111, -1.02369117, -0.80511237],\n",
              "       [-0.82253434, -1.24163716, -0.06725067,  1.31492116, -1.14451889,\n",
              "        -0.73527319,  0.49859923, -0.57242169, -1.30794047, -0.4887131 ,\n",
              "        -0.34502213, -0.91567158,  0.40486988, -1.22668201, -0.5165387 ,\n",
              "        -0.77253494, -0.6550298 , -1.66910184, -0.71829271,  1.42689593,\n",
              "         0.4064903 ,  0.68842272,  0.69434111, -1.02369117,  0.51430407],\n",
              "       [-0.82253434,  0.44747497, -0.11330344,  0.36260783, -0.39513319,\n",
              "        -0.73527319,  0.49859923,  2.46562319, -1.30794047, -0.4887131 ,\n",
              "        -0.34502213, -1.45118045,  2.14931009, -1.22668201, -0.5165387 ,\n",
              "        -0.77253494, -0.6550298 , -0.40967607, -0.71829271,  0.43560681,\n",
              "        -0.57866289, -0.44398503,  0.69434111, -1.19354715,  0.51430407],\n",
              "       [ 1.90202847,  1.92544809,  0.51649862,  0.36260783, -1.14451889,\n",
              "        -0.73527319,  0.49859923, -0.57242169,  0.76456079,  0.32338261,\n",
              "        -0.34502213,  1.74183133, -1.8314991 ,  0.8152072 , -0.5165387 ,\n",
              "         2.23864902, -0.6550298 ,  0.54743322, -0.32539597,  0.93125137,\n",
              "        -0.57866289, -0.44398503, -1.02433087,  0.67486868,  0.51430407]])"
            ]
          },
          "execution_count": 27,
          "metadata": {},
          "output_type": "execute_result"
        }
      ],
      "source": [
        "X = StandardScaler().fit_transform(X)\n",
        "X[:5] # first 5 rows"
      ]
    },
    {
      "cell_type": "code",
      "execution_count": 28,
      "metadata": {
        "colab": {
          "base_uri": "https://localhost:8080/"
        },
        "id": "l6WLfHDMHGNe",
        "outputId": "fbe68018-85df-4a32-dd23-c726d0dda363"
      },
      "outputs": [
        {
          "data": {
            "text/plain": [
              "array([0, 0, 0, 0, 1, 1, 0, 0, 0, 0, 0, 0, 0, 0, 0, 1, 0, 0, 0, 0, 0, 0,\n",
              "       0, 0, 0, 0, 0, 1, 0, 0, 0, 1, 0, 0, 0, 0, 0, 1, 0, 1, 0, 0, 0, 0,\n",
              "       0, 1, 0, 0, 0, 0, 0, 0, 0, 0, 0, 0, 1, 1, 0, 1, 0, 0, 1, 1, 0, 0,\n",
              "       0, 0, 0, 0, 0, 0, 1, 0, 1, 0, 0, 0, 1, 0, 0, 0, 1, 0, 0, 0, 0, 0,\n",
              "       1, 1, 1, 1, 0, 0, 0, 0, 0, 0, 0, 0])"
            ]
          },
          "execution_count": 28,
          "metadata": {},
          "output_type": "execute_result"
        }
      ],
      "source": [
        "# convert to numpy array - since it's just 0 and 1, i'm not applying a transform\n",
        "y= y.to_numpy()\n",
        "y[:100] #first 100 obs"
      ]
    },
    {
      "cell_type": "markdown",
      "metadata": {
        "id": "bew3WgtkHevD"
      },
      "source": [
        "### Test-train Split for internal test data (validation data) to choose our *best* model"
      ]
    },
    {
      "cell_type": "code",
      "execution_count": 29,
      "metadata": {
        "colab": {
          "base_uri": "https://localhost:8080/"
        },
        "id": "Swa_Pj8zHjPW",
        "outputId": "1fadefb1-a2d3-47c5-f1f8-e2c594887298"
      },
      "outputs": [
        {
          "name": "stdout",
          "output_type": "stream",
          "text": [
            "(11604, 25)\n",
            "(11604,)\n",
            "(2901, 25)\n",
            "(2901,)\n"
          ]
        }
      ],
      "source": [
        "# I'm creating a separate internal test / validation set to choose best model\n",
        "X_train, X_test, y_train, y_test = train_test_split(X, y, test_size=0.2, random_state=42)\n",
        "print(X_train.shape)\n",
        "print(y_train.shape)\n",
        "print(X_test.shape)\n",
        "print(y_test.shape)"
      ]
    },
    {
      "cell_type": "markdown",
      "metadata": {
        "id": "X-fHjjyVCoXC"
      },
      "source": [
        "## Build Models\n",
        "\n",
        "Let's build the following models / classifiers to choose the **Best**\n",
        "1. Logistic Regression\n",
        "2. LASSO Logistic Regression\n",
        "3. Ridge Logistic Regression\n",
        "4. Decision Tree / CART\n",
        "5. Random Forest\n",
        "6. KNN / K-Nearest Neighbors\n",
        "\n",
        "We'll use 5-fold CV to train/fit our models using\n",
        "\n",
        "```\n",
        "# Using StratifiedKFold to maintain the same proportion of classes in each fold\n",
        "kf = StratifiedKFold(n_splits=5, shuffle=True, random_state=42)\n",
        "```\n",
        "\n",
        "**First STEP - WHAT is the RIGHT METRIC to use? and why?**\n",
        "\n",
        "Using f1 here as default.\n",
        "\n",
        "Also showing you prompts to generate code\n"
      ]
    },
    {
      "cell_type": "markdown",
      "metadata": {
        "id": "h2ZVqXggQdDb"
      },
      "source": [
        "***General Workflow:***\n",
        "1. Define classifier (model)\n",
        "2. Define the StratifiedKFold cross-validator (need to do it once)\n",
        "3. Train model using CV on training data, report evaluations across folds)\n",
        "4. Fit model on entire train data and predict on internal test (validation) data\n",
        "5. Report Confusion Matrix and F1 Score"
      ]
    },
    {
      "cell_type": "code",
      "execution_count": 30,
      "metadata": {
        "id": "Cg5Oh6CoWS9h"
      },
      "outputs": [],
      "source": [
        "f1_scores_training = {} # to store scores\n"
      ]
    },
    {
      "cell_type": "markdown",
      "metadata": {
        "id": "3QUhvp3MMokf"
      },
      "source": [
        "### 1. Logistic Regression Model"
      ]
    },
    {
      "cell_type": "code",
      "execution_count": 31,
      "metadata": {
        "colab": {
          "base_uri": "https://localhost:8080/"
        },
        "id": "6XHjHeLaCqKM",
        "outputId": "743e0a08-5a7f-4e6e-cf75-db3fbde527ad"
      },
      "outputs": [
        {
          "name": "stdout",
          "output_type": "stream",
          "text": [
            "Cross-validation scores: [0.3862069  0.31353919 0.36744186 0.29256595 0.40816327]\n",
            "Mean cross-validation score: 0.35358343239284384\n"
          ]
        }
      ],
      "source": [
        "# prompt: Build a logistic regression classifier on X_train and y_train and using  5-fold cv using kf = StratifiedKFold(n_splits=5, shuffle=True, random_state=42).\n",
        "\n",
        "# Define the logistic regression model\n",
        "log_reg = LogisticRegression(max_iter=1000, random_state=42)\n",
        "\n",
        "# Define the StratifiedKFold cross-validator\n",
        "kf = StratifiedKFold(n_splits=5, shuffle=True, random_state=42)\n",
        "\n",
        "# Perform cross-validation\n",
        "cv_scores = cross_val_score(log_reg, X_train, y_train, cv=kf, scoring='f1')\n",
        "\n",
        "# Print the cross-validation scores\n",
        "print(\"Cross-validation scores:\", cv_scores)\n",
        "\n",
        "# Print the mean cross-validation score\n",
        "print(\"Mean cross-validation score:\", np.mean(cv_scores))\n"
      ]
    },
    {
      "cell_type": "code",
      "execution_count": 32,
      "metadata": {
        "colab": {
          "base_uri": "https://localhost:8080/"
        },
        "id": "AL_sJFp8Kv5l",
        "outputId": "c773ccf4-17b6-400b-aeed-ed58298ab13b"
      },
      "outputs": [
        {
          "name": "stdout",
          "output_type": "stream",
          "text": [
            "[[2462   54]\n",
            " [ 297   88]]\n",
            "F1 Score: 0.33396584440227706\n"
          ]
        }
      ],
      "source": [
        "# prompt: Use the best log_reg model on y_test and y_train. Report confusion matrix and f1 score\n",
        "\n",
        "# Fit the best model (log_reg in this case) on the entire training data\n",
        "log_reg.fit(X_train, y_train)\n",
        "\n",
        "# Predict on the test set\n",
        "y_pred = log_reg.predict(X_test)\n",
        "\n",
        "# Calculate the confusion matrix\n",
        "print(confusion_matrix(y_test, y_pred))\n",
        "\n",
        "# Calculate the F1 score\n",
        "print(\"F1 Score:\", f1_score(y_test, y_pred))\n",
        "\n",
        "f1_scores_training['log_reg'] = f1_score(y_test, y_pred)"
      ]
    },
    {
      "cell_type": "markdown",
      "metadata": {
        "id": "Q8EbNrm8NIgT"
      },
      "source": [
        "### 2. LASSO Logistic Regression\n"
      ]
    },
    {
      "cell_type": "code",
      "execution_count": 33,
      "metadata": {
        "colab": {
          "base_uri": "https://localhost:8080/"
        },
        "id": "vtvOe04xNO2-",
        "outputId": "ae8961c3-2662-4143-b4d6-f73b93b851eb"
      },
      "outputs": [
        {
          "name": "stdout",
          "output_type": "stream",
          "text": [
            "Cross-validation scores: [0.37875289 0.31753555 0.3712297  0.29256595 0.40454545]\n",
            "Mean cross-validation score: 0.35292590640465105\n",
            "[[2463   53]\n",
            " [ 297   88]]\n",
            "F1 Score: 0.33460076045627374\n"
          ]
        }
      ],
      "source": [
        "# prompt: Repeat the above but using LogisticRegression(penalty='l1', solver='saga', max_iter=1000, random_state=42)\n",
        "\n",
        "from sklearn.metrics import confusion_matrix\n",
        "\n",
        "# Define the LASSO logistic regression model\n",
        "lasso_log_reg = LogisticRegression(penalty='l1', solver='saga', max_iter=1000, random_state=42)\n",
        "\n",
        "# Define the StratifiedKFold cross-validator\n",
        "kf = StratifiedKFold(n_splits=5, shuffle=True, random_state=42)\n",
        "\n",
        "# Perform cross-validation\n",
        "cv_scores = cross_val_score(lasso_log_reg, X_train, y_train, cv=kf, scoring='f1')\n",
        "\n",
        "# Print the cross-validation scores\n",
        "print(\"Cross-validation scores:\", cv_scores)\n",
        "\n",
        "# Print the mean cross-validation score\n",
        "print(\"Mean cross-validation score:\", np.mean(cv_scores))\n",
        "\n",
        "# Fit the model on the entire training data\n",
        "lasso_log_reg.fit(X_train, y_train)\n",
        "\n",
        "# Predict on the test set\n",
        "y_pred = lasso_log_reg.predict(X_test)\n",
        "\n",
        "# Calculate the confusion matrix\n",
        "print(confusion_matrix(y_test, y_pred))\n",
        "\n",
        "# Calculate the F1 score\n",
        "print(\"F1 Score:\", f1_score(y_test, y_pred))\n",
        "\n",
        "f1_scores_training['lasso_log_reg'] = f1_score(y_test, y_pred)"
      ]
    },
    {
      "cell_type": "markdown",
      "metadata": {
        "id": "-P1hYbJlNizN"
      },
      "source": [
        "### 3. Ridge Logistic Regression\n"
      ]
    },
    {
      "cell_type": "code",
      "execution_count": 34,
      "metadata": {
        "colab": {
          "base_uri": "https://localhost:8080/"
        },
        "id": "0_pgi-_nOxwU",
        "outputId": "2edc4a09-a7a3-43d9-dcbe-614c58b9be9a"
      },
      "outputs": [
        {
          "name": "stdout",
          "output_type": "stream",
          "text": [
            "Cross-validation scores: [0.06748466 0.05572755 0.07926829 0.06116208 0.06153846]\n",
            "Mean cross-validation score: 0.06503621009766908\n",
            "[[2512    4]\n",
            " [ 377    8]]\n",
            "F1 Score: 0.04030226700251889\n"
          ]
        }
      ],
      "source": [
        "# prompt: repeat for Ridge Regression\n",
        "\n",
        "# Define the Ridge logistic regression model\n",
        "ridge_log_reg = RidgeClassifier(random_state=42)\n",
        "\n",
        "# Perform cross-validation\n",
        "cv_scores = cross_val_score(ridge_log_reg, X_train, y_train, cv=kf, scoring='f1')\n",
        "\n",
        "# Print the cross-validation scores\n",
        "print(\"Cross-validation scores:\", cv_scores)\n",
        "\n",
        "# Print the mean cross-validation score\n",
        "print(\"Mean cross-validation score:\", np.mean(cv_scores))\n",
        "\n",
        "# Fit the model on the entire training data\n",
        "ridge_log_reg.fit(X_train, y_train)\n",
        "\n",
        "# Predict on the test set\n",
        "y_pred = ridge_log_reg.predict(X_test)\n",
        "\n",
        "# Calculate the confusion matrix\n",
        "print(confusion_matrix(y_test, y_pred))\n",
        "\n",
        "# Calculate the F1 score\n",
        "print(\"F1 Score:\", f1_score(y_test, y_pred))\n",
        "\n",
        "f1_scores_training['ridge_log_reg'] = f1_score(y_test, y_pred)"
      ]
    },
    {
      "cell_type": "markdown",
      "metadata": {
        "id": "bylUSsX1Nln8"
      },
      "source": [
        "### 4. Decision Tree / CART\n"
      ]
    },
    {
      "cell_type": "code",
      "execution_count": 35,
      "metadata": {
        "colab": {
          "base_uri": "https://localhost:8080/"
        },
        "id": "1HxFGeD5PM7-",
        "outputId": "6a2a00a7-aee1-4b86-f68b-99a0e2ab4b67"
      },
      "outputs": [
        {
          "name": "stdout",
          "output_type": "stream",
          "text": [
            "Cross-validation scores: [0.34730539 0.29535865 0.31101512 0.30078125 0.36978131]\n",
            "Mean cross-validation score: 0.324848343985664\n",
            "[[2415  101]\n",
            " [ 308   77]]\n",
            "F1 Score: 0.27353463587921845\n"
          ]
        }
      ],
      "source": [
        "# prompt: Repeat code for DecisionTree/CART using DecisionTreeClassifier(criterion='entropy', max_depth = 10, random_state=42)\n",
        "\n",
        "# Define the Decision Tree Classifier model\n",
        "CART = DecisionTreeClassifier(criterion='entropy', max_depth=10, random_state=42)\n",
        "\n",
        "# Perform cross-validation\n",
        "cv_scores = cross_val_score(CART, X_train, y_train, cv=kf, scoring='f1')\n",
        "\n",
        "# Print the cross-validation scores\n",
        "print(\"Cross-validation scores:\", cv_scores)\n",
        "\n",
        "# Print the mean cross-validation score\n",
        "print(\"Mean cross-validation score:\", np.mean(cv_scores))\n",
        "\n",
        "# Fit the model on the entire training data\n",
        "CART.fit(X_train, y_train)\n",
        "\n",
        "# Predict on the test set\n",
        "y_pred = CART.predict(X_test)\n",
        "\n",
        "# Calculate the confusion matrix\n",
        "print(confusion_matrix(y_test, y_pred))\n",
        "\n",
        "# Calculate the F1 score\n",
        "print(\"F1 Score:\", f1_score(y_test, y_pred))\n",
        "\n",
        "f1_scores_training['CART'] = f1_score(y_test, y_pred)"
      ]
    },
    {
      "cell_type": "markdown",
      "metadata": {
        "id": "6bxIglzWNoIo"
      },
      "source": [
        "### 5. Random Forest"
      ]
    },
    {
      "cell_type": "code",
      "execution_count": 36,
      "metadata": {
        "colab": {
          "base_uri": "https://localhost:8080/"
        },
        "id": "8aXe8hLiPxPB",
        "outputId": "ab98d946-6b90-424f-8845-ccd08bb653fe"
      },
      "outputs": [
        {
          "name": "stdout",
          "output_type": "stream",
          "text": [
            "Cross-validation scores: [0.29411765 0.31578947 0.3062201  0.28855721 0.37176471]\n",
            "Mean cross-validation score: 0.31528982724990307\n",
            "[[2474   42]\n",
            " [ 309   76]]\n",
            "F1 Score: 0.30218687872763417\n"
          ]
        }
      ],
      "source": [
        "# prompt: Repeat using RandomForestClassifier(max_depth = 10, random_state=42)\n",
        "\n",
        "# Define the Random Forest Classifier model\n",
        "RF = RandomForestClassifier(max_depth=10, random_state=42)\n",
        "\n",
        "# Perform cross-validation\n",
        "cv_scores = cross_val_score(RF, X_train, y_train, cv=kf, scoring='f1')\n",
        "\n",
        "# Print the cross-validation scores\n",
        "print(\"Cross-validation scores:\", cv_scores)\n",
        "\n",
        "# Print the mean cross-validation score\n",
        "print(\"Mean cross-validation score:\", np.mean(cv_scores))\n",
        "\n",
        "# Fit the model on the entire training data\n",
        "RF.fit(X_train, y_train)\n",
        "\n",
        "# Predict on the test set\n",
        "y_pred = RF.predict(X_test)\n",
        "\n",
        "# Calculate the confusion matrix\n",
        "print(confusion_matrix(y_test, y_pred))\n",
        "\n",
        "# Calculate the F1 score\n",
        "print(\"F1 Score:\", f1_score(y_test, y_pred))\n",
        "\n",
        "f1_scores_training['RandomForest'] = f1_score(y_test, y_pred)"
      ]
    },
    {
      "cell_type": "markdown",
      "metadata": {
        "id": "-slGxnpANrBa"
      },
      "source": [
        "### 6. KNN / K-Nearest Neighbors\n"
      ]
    },
    {
      "cell_type": "code",
      "execution_count": 37,
      "metadata": {
        "colab": {
          "base_uri": "https://localhost:8080/"
        },
        "id": "bGHMX5eXQOOo",
        "outputId": "96e4f203-7c22-4622-ae0b-8f6620e7c83b"
      },
      "outputs": [
        {
          "name": "stdout",
          "output_type": "stream",
          "text": [
            "Cross-validation scores: [0.14507772 0.13756614 0.16243655 0.13299233 0.14210526]\n",
            "Mean cross-validation score: 0.14403559930407306\n",
            "[[2455   61]\n",
            " [ 335   50]]\n",
            "F1 Score: 0.20161290322580644\n"
          ]
        }
      ],
      "source": [
        "# prompt: Repeat for KNeighborsClassifier(n_neighbors=5)\n",
        "\n",
        "# Define the KNN Classifier model\n",
        "knn = KNeighborsClassifier(n_neighbors=5)\n",
        "\n",
        "# Perform cross-validation\n",
        "cv_scores = cross_val_score(knn, X_train, y_train, cv=kf, scoring='f1')\n",
        "\n",
        "# Print the cross-validation scores\n",
        "print(\"Cross-validation scores:\", cv_scores)\n",
        "\n",
        "# Print the mean cross-validation score\n",
        "print(\"Mean cross-validation score:\", np.mean(cv_scores))\n",
        "\n",
        "# Fit the model on the entire training data\n",
        "knn.fit(X_train, y_train)\n",
        "\n",
        "# Predict on the test set\n",
        "y_pred = knn.predict(X_test)\n",
        "\n",
        "# Calculate the confusion matrix\n",
        "print(confusion_matrix(y_test, y_pred))\n",
        "\n",
        "# Calculate the F1 score\n",
        "print(\"F1 Score:\", f1_score(y_test, y_pred))\n",
        "f1_scores_training['knn'] = f1_score(y_test, y_pred)"
      ]
    },
    {
      "cell_type": "markdown",
      "metadata": {},
      "source": [
        "Adding in XGBOOST HERE"
      ]
    },
    {
      "cell_type": "code",
      "execution_count": 38,
      "metadata": {},
      "outputs": [
        {
          "name": "stdout",
          "output_type": "stream",
          "text": [
            "Cross-validation scores: [0.14507772 0.13756614 0.16243655 0.13299233 0.14210526]\n",
            "Mean cross-validation score: 0.14403559930407306\n"
          ]
        },
        {
          "name": "stderr",
          "output_type": "stream",
          "text": [
            "c:\\Python311\\Lib\\site-packages\\xgboost\\core.py:158: UserWarning: [16:31:57] WARNING: C:\\buildkite-agent\\builds\\buildkite-windows-cpu-autoscaling-group-i-08cbc0333d8d4aae1-1\\xgboost\\xgboost-ci-windows\\src\\learner.cc:740: \n",
            "Parameters: { \"use_label_encoder\" } are not used.\n",
            "\n",
            "  warnings.warn(smsg, UserWarning)\n"
          ]
        },
        {
          "name": "stdout",
          "output_type": "stream",
          "text": [
            "[[2409  107]\n",
            " [ 279  106]]\n",
            "F1 Score: 0.35451505016722407\n"
          ]
        }
      ],
      "source": [
        "# Define the KNN Classifier model\n",
        "xgb = XGBClassifier(n_estimators=100, use_label_encoder=False, eval_metric='logloss', random_state=42)\n",
        "\n",
        "# Perform cross-validation\n",
        "cv_scores = cross_val_score(knn, X_train, y_train, cv=kf, scoring='f1')\n",
        "\n",
        "# Print the cross-validation scores\n",
        "print(\"Cross-validation scores:\", cv_scores)\n",
        "\n",
        "# Print the mean cross-validation score\n",
        "print(\"Mean cross-validation score:\", np.mean(cv_scores))\n",
        "\n",
        "# Fit the model on the entire training data\n",
        "xgb.fit(X_train, y_train)\n",
        "\n",
        "# Predict on the test set\n",
        "y_pred = xgb.predict(X_test)\n",
        "\n",
        "# Calculate the confusion matrix\n",
        "print(confusion_matrix(y_test, y_pred))\n",
        "\n",
        "# Calculate the F1 score\n",
        "print(\"F1 Score:\", f1_score(y_test, y_pred))\n",
        "f1_scores_training['xgb'] = f1_score(y_test, y_pred)"
      ]
    },
    {
      "cell_type": "code",
      "execution_count": 39,
      "metadata": {
        "colab": {
          "base_uri": "https://localhost:8080/"
        },
        "id": "MsatcZ-0XRMQ",
        "outputId": "2be3422f-fc5a-4e59-ebd2-3f1f76bb4ef2"
      },
      "outputs": [
        {
          "data": {
            "text/plain": [
              "{'log_reg': 0.33396584440227706,\n",
              " 'lasso_log_reg': 0.33460076045627374,\n",
              " 'ridge_log_reg': 0.04030226700251889,\n",
              " 'CART': 0.27353463587921845,\n",
              " 'RandomForest': 0.30218687872763417,\n",
              " 'knn': 0.20161290322580644,\n",
              " 'xgb': 0.35451505016722407}"
            ]
          },
          "execution_count": 39,
          "metadata": {},
          "output_type": "execute_result"
        }
      ],
      "source": [
        "f1_scores_training"
      ]
    },
    {
      "cell_type": "code",
      "execution_count": 40,
      "metadata": {
        "colab": {
          "base_uri": "https://localhost:8080/"
        },
        "id": "zb2qRczeWGPV",
        "outputId": "4bbdb3cc-c231-460c-f555-c8fb7616788b"
      },
      "outputs": [
        {
          "name": "stdout",
          "output_type": "stream",
          "text": [
            "Best model based on F1-score is: xgb with F1-score 0.35451505016722407\n"
          ]
        }
      ],
      "source": [
        "# prompt: What is the best model from the 6?\n",
        "\n",
        "# Based on the provided code, the best model is the one with the highest F1 score\n",
        "# on the internal test set.  You would need to manually compare the F1 scores\n",
        "# printed for each model to determine the best one.  The code does not store\n",
        "# these values in a way that allows for automated comparison.\n",
        "\n",
        "# Example of how to compare manually:\n",
        "# Look for the \"F1 Score:\" lines at the end of each model section.\n",
        "# The model with the highest F1 score is considered the best in this scenario.\n",
        "\n",
        "#To compare and find the best model:\n",
        "\n",
        "best_model = max(f1_scores_training, key=f1_scores_training.get)\n",
        "print(f\"Best model based on F1-score is: {best_model} with F1-score {f1_scores_training[best_model]}\")\n"
      ]
    },
    {
      "cell_type": "markdown",
      "metadata": {
        "id": "9jkFabUECq_Q"
      },
      "source": [
        "## Evaluate Models on Provided Test Data"
      ]
    },
    {
      "cell_type": "markdown",
      "metadata": {
        "id": "oAXETgcMVYze"
      },
      "source": [
        "### Transform TEST data as needed"
      ]
    },
    {
      "cell_type": "code",
      "execution_count": 41,
      "metadata": {
        "id": "QidezwQvT7WD"
      },
      "outputs": [],
      "source": [
        "df2 = pd.read_csv(test_url)"
      ]
    },
    {
      "cell_type": "code",
      "execution_count": 42,
      "metadata": {
        "colab": {
          "base_uri": "https://localhost:8080/"
        },
        "id": "XM-qp_H8UCoi",
        "outputId": "a4226260-5490-4640-986a-f3bef857a914"
      },
      "outputs": [
        {
          "ename": "KeyError",
          "evalue": "\"['fraud'] not found in axis\"",
          "output_type": "error",
          "traceback": [
            "\u001b[1;31m---------------------------------------------------------------------------\u001b[0m",
            "\u001b[1;31mKeyError\u001b[0m                                  Traceback (most recent call last)",
            "Cell \u001b[1;32mIn[42], line 1\u001b[0m\n\u001b[1;32m----> 1\u001b[0m X_TEST \u001b[38;5;241m=\u001b[39m \u001b[43mdf2\u001b[49m\u001b[38;5;241;43m.\u001b[39;49m\u001b[43mdrop\u001b[49m\u001b[43m(\u001b[49m\u001b[38;5;124;43m'\u001b[39;49m\u001b[38;5;124;43mfraud\u001b[39;49m\u001b[38;5;124;43m'\u001b[39;49m\u001b[43m,\u001b[49m\u001b[43m \u001b[49m\u001b[43maxis\u001b[49m\u001b[38;5;241;43m=\u001b[39;49m\u001b[38;5;241;43m1\u001b[39;49m\u001b[43m)\u001b[49m\n\u001b[0;32m      2\u001b[0m y_TEST \u001b[38;5;241m=\u001b[39m df2[\u001b[38;5;124m'\u001b[39m\u001b[38;5;124mfraud\u001b[39m\u001b[38;5;124m'\u001b[39m]\n\u001b[0;32m      3\u001b[0m \u001b[38;5;28mprint\u001b[39m(X_TEST\u001b[38;5;241m.\u001b[39mshape)\n",
            "File \u001b[1;32mc:\\Python311\\Lib\\site-packages\\pandas\\core\\frame.py:5581\u001b[0m, in \u001b[0;36mDataFrame.drop\u001b[1;34m(self, labels, axis, index, columns, level, inplace, errors)\u001b[0m\n\u001b[0;32m   5433\u001b[0m \u001b[38;5;28;01mdef\u001b[39;00m\u001b[38;5;250m \u001b[39m\u001b[38;5;21mdrop\u001b[39m(\n\u001b[0;32m   5434\u001b[0m     \u001b[38;5;28mself\u001b[39m,\n\u001b[0;32m   5435\u001b[0m     labels: IndexLabel \u001b[38;5;241m|\u001b[39m \u001b[38;5;28;01mNone\u001b[39;00m \u001b[38;5;241m=\u001b[39m \u001b[38;5;28;01mNone\u001b[39;00m,\n\u001b[1;32m   (...)\u001b[0m\n\u001b[0;32m   5442\u001b[0m     errors: IgnoreRaise \u001b[38;5;241m=\u001b[39m \u001b[38;5;124m\"\u001b[39m\u001b[38;5;124mraise\u001b[39m\u001b[38;5;124m\"\u001b[39m,\n\u001b[0;32m   5443\u001b[0m ) \u001b[38;5;241m-\u001b[39m\u001b[38;5;241m>\u001b[39m DataFrame \u001b[38;5;241m|\u001b[39m \u001b[38;5;28;01mNone\u001b[39;00m:\n\u001b[0;32m   5444\u001b[0m \u001b[38;5;250m    \u001b[39m\u001b[38;5;124;03m\"\"\"\u001b[39;00m\n\u001b[0;32m   5445\u001b[0m \u001b[38;5;124;03m    Drop specified labels from rows or columns.\u001b[39;00m\n\u001b[0;32m   5446\u001b[0m \n\u001b[1;32m   (...)\u001b[0m\n\u001b[0;32m   5579\u001b[0m \u001b[38;5;124;03m            weight  1.0     0.8\u001b[39;00m\n\u001b[0;32m   5580\u001b[0m \u001b[38;5;124;03m    \"\"\"\u001b[39;00m\n\u001b[1;32m-> 5581\u001b[0m     \u001b[38;5;28;01mreturn\u001b[39;00m \u001b[38;5;28;43msuper\u001b[39;49m\u001b[43m(\u001b[49m\u001b[43m)\u001b[49m\u001b[38;5;241;43m.\u001b[39;49m\u001b[43mdrop\u001b[49m\u001b[43m(\u001b[49m\n\u001b[0;32m   5582\u001b[0m \u001b[43m        \u001b[49m\u001b[43mlabels\u001b[49m\u001b[38;5;241;43m=\u001b[39;49m\u001b[43mlabels\u001b[49m\u001b[43m,\u001b[49m\n\u001b[0;32m   5583\u001b[0m \u001b[43m        \u001b[49m\u001b[43maxis\u001b[49m\u001b[38;5;241;43m=\u001b[39;49m\u001b[43maxis\u001b[49m\u001b[43m,\u001b[49m\n\u001b[0;32m   5584\u001b[0m \u001b[43m        \u001b[49m\u001b[43mindex\u001b[49m\u001b[38;5;241;43m=\u001b[39;49m\u001b[43mindex\u001b[49m\u001b[43m,\u001b[49m\n\u001b[0;32m   5585\u001b[0m \u001b[43m        \u001b[49m\u001b[43mcolumns\u001b[49m\u001b[38;5;241;43m=\u001b[39;49m\u001b[43mcolumns\u001b[49m\u001b[43m,\u001b[49m\n\u001b[0;32m   5586\u001b[0m \u001b[43m        \u001b[49m\u001b[43mlevel\u001b[49m\u001b[38;5;241;43m=\u001b[39;49m\u001b[43mlevel\u001b[49m\u001b[43m,\u001b[49m\n\u001b[0;32m   5587\u001b[0m \u001b[43m        \u001b[49m\u001b[43minplace\u001b[49m\u001b[38;5;241;43m=\u001b[39;49m\u001b[43minplace\u001b[49m\u001b[43m,\u001b[49m\n\u001b[0;32m   5588\u001b[0m \u001b[43m        \u001b[49m\u001b[43merrors\u001b[49m\u001b[38;5;241;43m=\u001b[39;49m\u001b[43merrors\u001b[49m\u001b[43m,\u001b[49m\n\u001b[0;32m   5589\u001b[0m \u001b[43m    \u001b[49m\u001b[43m)\u001b[49m\n",
            "File \u001b[1;32mc:\\Python311\\Lib\\site-packages\\pandas\\core\\generic.py:4788\u001b[0m, in \u001b[0;36mNDFrame.drop\u001b[1;34m(self, labels, axis, index, columns, level, inplace, errors)\u001b[0m\n\u001b[0;32m   4786\u001b[0m \u001b[38;5;28;01mfor\u001b[39;00m axis, labels \u001b[38;5;129;01min\u001b[39;00m axes\u001b[38;5;241m.\u001b[39mitems():\n\u001b[0;32m   4787\u001b[0m     \u001b[38;5;28;01mif\u001b[39;00m labels \u001b[38;5;129;01mis\u001b[39;00m \u001b[38;5;129;01mnot\u001b[39;00m \u001b[38;5;28;01mNone\u001b[39;00m:\n\u001b[1;32m-> 4788\u001b[0m         obj \u001b[38;5;241m=\u001b[39m \u001b[43mobj\u001b[49m\u001b[38;5;241;43m.\u001b[39;49m\u001b[43m_drop_axis\u001b[49m\u001b[43m(\u001b[49m\u001b[43mlabels\u001b[49m\u001b[43m,\u001b[49m\u001b[43m \u001b[49m\u001b[43maxis\u001b[49m\u001b[43m,\u001b[49m\u001b[43m \u001b[49m\u001b[43mlevel\u001b[49m\u001b[38;5;241;43m=\u001b[39;49m\u001b[43mlevel\u001b[49m\u001b[43m,\u001b[49m\u001b[43m \u001b[49m\u001b[43merrors\u001b[49m\u001b[38;5;241;43m=\u001b[39;49m\u001b[43merrors\u001b[49m\u001b[43m)\u001b[49m\n\u001b[0;32m   4790\u001b[0m \u001b[38;5;28;01mif\u001b[39;00m inplace:\n\u001b[0;32m   4791\u001b[0m     \u001b[38;5;28mself\u001b[39m\u001b[38;5;241m.\u001b[39m_update_inplace(obj)\n",
            "File \u001b[1;32mc:\\Python311\\Lib\\site-packages\\pandas\\core\\generic.py:4830\u001b[0m, in \u001b[0;36mNDFrame._drop_axis\u001b[1;34m(self, labels, axis, level, errors, only_slice)\u001b[0m\n\u001b[0;32m   4828\u001b[0m         new_axis \u001b[38;5;241m=\u001b[39m axis\u001b[38;5;241m.\u001b[39mdrop(labels, level\u001b[38;5;241m=\u001b[39mlevel, errors\u001b[38;5;241m=\u001b[39merrors)\n\u001b[0;32m   4829\u001b[0m     \u001b[38;5;28;01melse\u001b[39;00m:\n\u001b[1;32m-> 4830\u001b[0m         new_axis \u001b[38;5;241m=\u001b[39m \u001b[43maxis\u001b[49m\u001b[38;5;241;43m.\u001b[39;49m\u001b[43mdrop\u001b[49m\u001b[43m(\u001b[49m\u001b[43mlabels\u001b[49m\u001b[43m,\u001b[49m\u001b[43m \u001b[49m\u001b[43merrors\u001b[49m\u001b[38;5;241;43m=\u001b[39;49m\u001b[43merrors\u001b[49m\u001b[43m)\u001b[49m\n\u001b[0;32m   4831\u001b[0m     indexer \u001b[38;5;241m=\u001b[39m axis\u001b[38;5;241m.\u001b[39mget_indexer(new_axis)\n\u001b[0;32m   4833\u001b[0m \u001b[38;5;66;03m# Case for non-unique axis\u001b[39;00m\n\u001b[0;32m   4834\u001b[0m \u001b[38;5;28;01melse\u001b[39;00m:\n",
            "File \u001b[1;32mc:\\Python311\\Lib\\site-packages\\pandas\\core\\indexes\\base.py:7070\u001b[0m, in \u001b[0;36mIndex.drop\u001b[1;34m(self, labels, errors)\u001b[0m\n\u001b[0;32m   7068\u001b[0m \u001b[38;5;28;01mif\u001b[39;00m mask\u001b[38;5;241m.\u001b[39many():\n\u001b[0;32m   7069\u001b[0m     \u001b[38;5;28;01mif\u001b[39;00m errors \u001b[38;5;241m!=\u001b[39m \u001b[38;5;124m\"\u001b[39m\u001b[38;5;124mignore\u001b[39m\u001b[38;5;124m\"\u001b[39m:\n\u001b[1;32m-> 7070\u001b[0m         \u001b[38;5;28;01mraise\u001b[39;00m \u001b[38;5;167;01mKeyError\u001b[39;00m(\u001b[38;5;124mf\u001b[39m\u001b[38;5;124m\"\u001b[39m\u001b[38;5;132;01m{\u001b[39;00mlabels[mask]\u001b[38;5;241m.\u001b[39mtolist()\u001b[38;5;132;01m}\u001b[39;00m\u001b[38;5;124m not found in axis\u001b[39m\u001b[38;5;124m\"\u001b[39m)\n\u001b[0;32m   7071\u001b[0m     indexer \u001b[38;5;241m=\u001b[39m indexer[\u001b[38;5;241m~\u001b[39mmask]\n\u001b[0;32m   7072\u001b[0m \u001b[38;5;28;01mreturn\u001b[39;00m \u001b[38;5;28mself\u001b[39m\u001b[38;5;241m.\u001b[39mdelete(indexer)\n",
            "\u001b[1;31mKeyError\u001b[0m: \"['fraud'] not found in axis\""
          ]
        }
      ],
      "source": [
        "X_TEST = df2.drop('fraud', axis=1)\n",
        "y_TEST = df2['fraud']\n",
        "print(X_TEST.shape)\n",
        "print(y_TEST.shape)"
      ]
    },
    {
      "cell_type": "code",
      "execution_count": null,
      "metadata": {
        "id": "pEspezjLUhtP"
      },
      "outputs": [],
      "source": [
        "X_TEST = StandardScaler().fit_transform(X_TEST)\n",
        "y_TEST= y_TEST.to_numpy()"
      ]
    },
    {
      "cell_type": "markdown",
      "metadata": {
        "id": "JKjW1BJ6VeRM"
      },
      "source": [
        "### EVALUATE MODELS ON the provided X_TEST and y_TEST -- models have not been trained on this!"
      ]
    },
    {
      "cell_type": "code",
      "execution_count": null,
      "metadata": {
        "id": "6lMrDrafbJYk"
      },
      "outputs": [],
      "source": [
        "# prompt: Evaluate all models above on X_TEST and y_TEST. Report f1 scores in a neat table.\n",
        "\n",
        "# Create a list to store the model names and their corresponding f1 scores\n",
        "f1_scores_TEST = []\n",
        "\n",
        "# Evaluate each model on X_TEST and y_TEST and store the f1 scores\n",
        "models = [log_reg, lasso_log_reg, ridge_log_reg, CART, RF, knn]\n",
        "model_names = ['log_reg', 'lasso_log_reg', 'ridge_log_reg', 'CART', 'RandomForest', 'knn'] # Create a list of model names\n",
        "\n",
        "for model in models:\n",
        "    y_pred = model.predict(X_TEST)\n",
        "    f1 = f1_score(y_TEST, y_pred)\n",
        "    f1_scores_TEST.append(f1)"
      ]
    },
    {
      "cell_type": "code",
      "execution_count": null,
      "metadata": {
        "colab": {
          "base_uri": "https://localhost:8080/",
          "height": 238
        },
        "id": "GtBSJqarCtnw",
        "outputId": "74b0fb8d-25e0-491b-a623-17d3a1f0c679"
      },
      "outputs": [
        {
          "data": {
            "application/vnd.microsoft.datawrangler.viewer.v0+json": {
              "columns": [
                {
                  "name": "index",
                  "rawType": "int64",
                  "type": "integer"
                },
                {
                  "name": "Model",
                  "rawType": "object",
                  "type": "string"
                },
                {
                  "name": "F1 Score TEST DATA",
                  "rawType": "float64",
                  "type": "float"
                },
                {
                  "name": "f1_scores_InternalTesting",
                  "rawType": "float64",
                  "type": "float"
                }
              ],
              "conversionMethod": "pd.DataFrame",
              "ref": "e58032d7-86e3-4f9b-9db0-57b3c8bec8c7",
              "rows": [
                [
                  "0",
                  "log_reg",
                  "0.7029166666666666",
                  "0.7220015214267602"
                ],
                [
                  "1",
                  "lasso_log_reg",
                  "0.7031792308760239",
                  "0.7219874936623288"
                ],
                [
                  "2",
                  "ridge_log_reg",
                  "0.24936434692532253",
                  "0.26819656930922575"
                ],
                [
                  "3",
                  "CART",
                  "0.9468047957164475",
                  "0.9999291734542106"
                ],
                [
                  "4",
                  "RandomForest",
                  "0.9539616444783298",
                  "0.9998583368749114"
                ],
                [
                  "5",
                  "knn",
                  "0.9515920573375631",
                  "0.991829484902309"
                ]
              ],
              "shape": {
                "columns": 3,
                "rows": 6
              }
            },
            "text/html": [
              "<div>\n",
              "<style scoped>\n",
              "    .dataframe tbody tr th:only-of-type {\n",
              "        vertical-align: middle;\n",
              "    }\n",
              "\n",
              "    .dataframe tbody tr th {\n",
              "        vertical-align: top;\n",
              "    }\n",
              "\n",
              "    .dataframe thead th {\n",
              "        text-align: right;\n",
              "    }\n",
              "</style>\n",
              "<table border=\"1\" class=\"dataframe\">\n",
              "  <thead>\n",
              "    <tr style=\"text-align: right;\">\n",
              "      <th></th>\n",
              "      <th>Model</th>\n",
              "      <th>F1 Score TEST DATA</th>\n",
              "      <th>f1_scores_InternalTesting</th>\n",
              "    </tr>\n",
              "  </thead>\n",
              "  <tbody>\n",
              "    <tr>\n",
              "      <th>0</th>\n",
              "      <td>log_reg</td>\n",
              "      <td>0.702917</td>\n",
              "      <td>0.722002</td>\n",
              "    </tr>\n",
              "    <tr>\n",
              "      <th>1</th>\n",
              "      <td>lasso_log_reg</td>\n",
              "      <td>0.703179</td>\n",
              "      <td>0.721987</td>\n",
              "    </tr>\n",
              "    <tr>\n",
              "      <th>2</th>\n",
              "      <td>ridge_log_reg</td>\n",
              "      <td>0.249364</td>\n",
              "      <td>0.268197</td>\n",
              "    </tr>\n",
              "    <tr>\n",
              "      <th>3</th>\n",
              "      <td>CART</td>\n",
              "      <td>0.946805</td>\n",
              "      <td>0.999929</td>\n",
              "    </tr>\n",
              "    <tr>\n",
              "      <th>4</th>\n",
              "      <td>RandomForest</td>\n",
              "      <td>0.953962</td>\n",
              "      <td>0.999858</td>\n",
              "    </tr>\n",
              "    <tr>\n",
              "      <th>5</th>\n",
              "      <td>knn</td>\n",
              "      <td>0.951592</td>\n",
              "      <td>0.991829</td>\n",
              "    </tr>\n",
              "  </tbody>\n",
              "</table>\n",
              "</div>"
            ],
            "text/plain": [
              "           Model  F1 Score TEST DATA  f1_scores_InternalTesting\n",
              "0        log_reg            0.702917                   0.722002\n",
              "1  lasso_log_reg            0.703179                   0.721987\n",
              "2  ridge_log_reg            0.249364                   0.268197\n",
              "3           CART            0.946805                   0.999929\n",
              "4   RandomForest            0.953962                   0.999858\n",
              "5            knn            0.951592                   0.991829"
            ]
          },
          "execution_count": 23,
          "metadata": {},
          "output_type": "execute_result"
        }
      ],
      "source": [
        "# Create a DataFrame to display the results in a table\n",
        "results_df = pd.DataFrame({\"Model\": model_names, \"F1 Score TEST DATA\": f1_scores_TEST}) # Use model_names here\n",
        "\n",
        "results_df['f1_scores_InternalTesting'] = results_df['Model'].map(f1_scores_training) # Map using 'Model' column\n",
        "# Display the table\n",
        "results_df\n"
      ]
    },
    {
      "cell_type": "markdown",
      "metadata": {
        "id": "XBYbyxAMCwq4"
      },
      "source": [
        "## Choose \"Best Model\" and Fine-Tune if needed"
      ]
    },
    {
      "cell_type": "markdown",
      "metadata": {
        "id": "M9YUzDjDcJlP"
      },
      "source": [
        "Assume RandomForest Wins.\n",
        "We can fine-tune (play around hyperparameters to see if we can improve), or at least, train the model on full data"
      ]
    },
    {
      "cell_type": "code",
      "execution_count": null,
      "metadata": {
        "colab": {
          "base_uri": "https://localhost:8080/"
        },
        "id": "azQ5L_nsC2ew",
        "outputId": "ec83cdf1-5bee-4055-d630-419699f08ad9"
      },
      "outputs": [
        {
          "name": "stdout",
          "output_type": "stream",
          "text": [
            "(499999, 7)\n"
          ]
        },
        {
          "data": {
            "text/plain": [
              "(499999,)"
            ]
          },
          "execution_count": 24,
          "metadata": {},
          "output_type": "execute_result"
        }
      ],
      "source": [
        "# prompt: combine X and X_TEST\n",
        "\n",
        "# Combine X and X_TEST\n",
        "combined_X = np.concatenate((X, X_TEST), axis=0)\n",
        "combined_y = np.concatenate((y, y_TEST), axis=0)\n",
        "\n",
        "print(combined_X.shape)\n",
        "combined_y.shape\n"
      ]
    },
    {
      "cell_type": "code",
      "execution_count": null,
      "metadata": {
        "colab": {
          "base_uri": "https://localhost:8080/",
          "height": 81
        },
        "id": "q64lQt5Ac1_v",
        "outputId": "c5f96530-9091-4a54-9bcf-dc7c8a256257"
      },
      "outputs": [
        {
          "data": {
            "text/html": [
              "<style>#sk-container-id-1 {\n",
              "  /* Definition of color scheme common for light and dark mode */\n",
              "  --sklearn-color-text: #000;\n",
              "  --sklearn-color-text-muted: #666;\n",
              "  --sklearn-color-line: gray;\n",
              "  /* Definition of color scheme for unfitted estimators */\n",
              "  --sklearn-color-unfitted-level-0: #fff5e6;\n",
              "  --sklearn-color-unfitted-level-1: #f6e4d2;\n",
              "  --sklearn-color-unfitted-level-2: #ffe0b3;\n",
              "  --sklearn-color-unfitted-level-3: chocolate;\n",
              "  /* Definition of color scheme for fitted estimators */\n",
              "  --sklearn-color-fitted-level-0: #f0f8ff;\n",
              "  --sklearn-color-fitted-level-1: #d4ebff;\n",
              "  --sklearn-color-fitted-level-2: #b3dbfd;\n",
              "  --sklearn-color-fitted-level-3: cornflowerblue;\n",
              "\n",
              "  /* Specific color for light theme */\n",
              "  --sklearn-color-text-on-default-background: var(--sg-text-color, var(--theme-code-foreground, var(--jp-content-font-color1, black)));\n",
              "  --sklearn-color-background: var(--sg-background-color, var(--theme-background, var(--jp-layout-color0, white)));\n",
              "  --sklearn-color-border-box: var(--sg-text-color, var(--theme-code-foreground, var(--jp-content-font-color1, black)));\n",
              "  --sklearn-color-icon: #696969;\n",
              "\n",
              "  @media (prefers-color-scheme: dark) {\n",
              "    /* Redefinition of color scheme for dark theme */\n",
              "    --sklearn-color-text-on-default-background: var(--sg-text-color, var(--theme-code-foreground, var(--jp-content-font-color1, white)));\n",
              "    --sklearn-color-background: var(--sg-background-color, var(--theme-background, var(--jp-layout-color0, #111)));\n",
              "    --sklearn-color-border-box: var(--sg-text-color, var(--theme-code-foreground, var(--jp-content-font-color1, white)));\n",
              "    --sklearn-color-icon: #878787;\n",
              "  }\n",
              "}\n",
              "\n",
              "#sk-container-id-1 {\n",
              "  color: var(--sklearn-color-text);\n",
              "}\n",
              "\n",
              "#sk-container-id-1 pre {\n",
              "  padding: 0;\n",
              "}\n",
              "\n",
              "#sk-container-id-1 input.sk-hidden--visually {\n",
              "  border: 0;\n",
              "  clip: rect(1px 1px 1px 1px);\n",
              "  clip: rect(1px, 1px, 1px, 1px);\n",
              "  height: 1px;\n",
              "  margin: -1px;\n",
              "  overflow: hidden;\n",
              "  padding: 0;\n",
              "  position: absolute;\n",
              "  width: 1px;\n",
              "}\n",
              "\n",
              "#sk-container-id-1 div.sk-dashed-wrapped {\n",
              "  border: 1px dashed var(--sklearn-color-line);\n",
              "  margin: 0 0.4em 0.5em 0.4em;\n",
              "  box-sizing: border-box;\n",
              "  padding-bottom: 0.4em;\n",
              "  background-color: var(--sklearn-color-background);\n",
              "}\n",
              "\n",
              "#sk-container-id-1 div.sk-container {\n",
              "  /* jupyter's `normalize.less` sets `[hidden] { display: none; }`\n",
              "     but bootstrap.min.css set `[hidden] { display: none !important; }`\n",
              "     so we also need the `!important` here to be able to override the\n",
              "     default hidden behavior on the sphinx rendered scikit-learn.org.\n",
              "     See: https://github.com/scikit-learn/scikit-learn/issues/21755 */\n",
              "  display: inline-block !important;\n",
              "  position: relative;\n",
              "}\n",
              "\n",
              "#sk-container-id-1 div.sk-text-repr-fallback {\n",
              "  display: none;\n",
              "}\n",
              "\n",
              "div.sk-parallel-item,\n",
              "div.sk-serial,\n",
              "div.sk-item {\n",
              "  /* draw centered vertical line to link estimators */\n",
              "  background-image: linear-gradient(var(--sklearn-color-text-on-default-background), var(--sklearn-color-text-on-default-background));\n",
              "  background-size: 2px 100%;\n",
              "  background-repeat: no-repeat;\n",
              "  background-position: center center;\n",
              "}\n",
              "\n",
              "/* Parallel-specific style estimator block */\n",
              "\n",
              "#sk-container-id-1 div.sk-parallel-item::after {\n",
              "  content: \"\";\n",
              "  width: 100%;\n",
              "  border-bottom: 2px solid var(--sklearn-color-text-on-default-background);\n",
              "  flex-grow: 1;\n",
              "}\n",
              "\n",
              "#sk-container-id-1 div.sk-parallel {\n",
              "  display: flex;\n",
              "  align-items: stretch;\n",
              "  justify-content: center;\n",
              "  background-color: var(--sklearn-color-background);\n",
              "  position: relative;\n",
              "}\n",
              "\n",
              "#sk-container-id-1 div.sk-parallel-item {\n",
              "  display: flex;\n",
              "  flex-direction: column;\n",
              "}\n",
              "\n",
              "#sk-container-id-1 div.sk-parallel-item:first-child::after {\n",
              "  align-self: flex-end;\n",
              "  width: 50%;\n",
              "}\n",
              "\n",
              "#sk-container-id-1 div.sk-parallel-item:last-child::after {\n",
              "  align-self: flex-start;\n",
              "  width: 50%;\n",
              "}\n",
              "\n",
              "#sk-container-id-1 div.sk-parallel-item:only-child::after {\n",
              "  width: 0;\n",
              "}\n",
              "\n",
              "/* Serial-specific style estimator block */\n",
              "\n",
              "#sk-container-id-1 div.sk-serial {\n",
              "  display: flex;\n",
              "  flex-direction: column;\n",
              "  align-items: center;\n",
              "  background-color: var(--sklearn-color-background);\n",
              "  padding-right: 1em;\n",
              "  padding-left: 1em;\n",
              "}\n",
              "\n",
              "\n",
              "/* Toggleable style: style used for estimator/Pipeline/ColumnTransformer box that is\n",
              "clickable and can be expanded/collapsed.\n",
              "- Pipeline and ColumnTransformer use this feature and define the default style\n",
              "- Estimators will overwrite some part of the style using the `sk-estimator` class\n",
              "*/\n",
              "\n",
              "/* Pipeline and ColumnTransformer style (default) */\n",
              "\n",
              "#sk-container-id-1 div.sk-toggleable {\n",
              "  /* Default theme specific background. It is overwritten whether we have a\n",
              "  specific estimator or a Pipeline/ColumnTransformer */\n",
              "  background-color: var(--sklearn-color-background);\n",
              "}\n",
              "\n",
              "/* Toggleable label */\n",
              "#sk-container-id-1 label.sk-toggleable__label {\n",
              "  cursor: pointer;\n",
              "  display: flex;\n",
              "  width: 100%;\n",
              "  margin-bottom: 0;\n",
              "  padding: 0.5em;\n",
              "  box-sizing: border-box;\n",
              "  text-align: center;\n",
              "  align-items: start;\n",
              "  justify-content: space-between;\n",
              "  gap: 0.5em;\n",
              "}\n",
              "\n",
              "#sk-container-id-1 label.sk-toggleable__label .caption {\n",
              "  font-size: 0.6rem;\n",
              "  font-weight: lighter;\n",
              "  color: var(--sklearn-color-text-muted);\n",
              "}\n",
              "\n",
              "#sk-container-id-1 label.sk-toggleable__label-arrow:before {\n",
              "  /* Arrow on the left of the label */\n",
              "  content: \"▸\";\n",
              "  float: left;\n",
              "  margin-right: 0.25em;\n",
              "  color: var(--sklearn-color-icon);\n",
              "}\n",
              "\n",
              "#sk-container-id-1 label.sk-toggleable__label-arrow:hover:before {\n",
              "  color: var(--sklearn-color-text);\n",
              "}\n",
              "\n",
              "/* Toggleable content - dropdown */\n",
              "\n",
              "#sk-container-id-1 div.sk-toggleable__content {\n",
              "  max-height: 0;\n",
              "  max-width: 0;\n",
              "  overflow: hidden;\n",
              "  text-align: left;\n",
              "  /* unfitted */\n",
              "  background-color: var(--sklearn-color-unfitted-level-0);\n",
              "}\n",
              "\n",
              "#sk-container-id-1 div.sk-toggleable__content.fitted {\n",
              "  /* fitted */\n",
              "  background-color: var(--sklearn-color-fitted-level-0);\n",
              "}\n",
              "\n",
              "#sk-container-id-1 div.sk-toggleable__content pre {\n",
              "  margin: 0.2em;\n",
              "  border-radius: 0.25em;\n",
              "  color: var(--sklearn-color-text);\n",
              "  /* unfitted */\n",
              "  background-color: var(--sklearn-color-unfitted-level-0);\n",
              "}\n",
              "\n",
              "#sk-container-id-1 div.sk-toggleable__content.fitted pre {\n",
              "  /* unfitted */\n",
              "  background-color: var(--sklearn-color-fitted-level-0);\n",
              "}\n",
              "\n",
              "#sk-container-id-1 input.sk-toggleable__control:checked~div.sk-toggleable__content {\n",
              "  /* Expand drop-down */\n",
              "  max-height: 200px;\n",
              "  max-width: 100%;\n",
              "  overflow: auto;\n",
              "}\n",
              "\n",
              "#sk-container-id-1 input.sk-toggleable__control:checked~label.sk-toggleable__label-arrow:before {\n",
              "  content: \"▾\";\n",
              "}\n",
              "\n",
              "/* Pipeline/ColumnTransformer-specific style */\n",
              "\n",
              "#sk-container-id-1 div.sk-label input.sk-toggleable__control:checked~label.sk-toggleable__label {\n",
              "  color: var(--sklearn-color-text);\n",
              "  background-color: var(--sklearn-color-unfitted-level-2);\n",
              "}\n",
              "\n",
              "#sk-container-id-1 div.sk-label.fitted input.sk-toggleable__control:checked~label.sk-toggleable__label {\n",
              "  background-color: var(--sklearn-color-fitted-level-2);\n",
              "}\n",
              "\n",
              "/* Estimator-specific style */\n",
              "\n",
              "/* Colorize estimator box */\n",
              "#sk-container-id-1 div.sk-estimator input.sk-toggleable__control:checked~label.sk-toggleable__label {\n",
              "  /* unfitted */\n",
              "  background-color: var(--sklearn-color-unfitted-level-2);\n",
              "}\n",
              "\n",
              "#sk-container-id-1 div.sk-estimator.fitted input.sk-toggleable__control:checked~label.sk-toggleable__label {\n",
              "  /* fitted */\n",
              "  background-color: var(--sklearn-color-fitted-level-2);\n",
              "}\n",
              "\n",
              "#sk-container-id-1 div.sk-label label.sk-toggleable__label,\n",
              "#sk-container-id-1 div.sk-label label {\n",
              "  /* The background is the default theme color */\n",
              "  color: var(--sklearn-color-text-on-default-background);\n",
              "}\n",
              "\n",
              "/* On hover, darken the color of the background */\n",
              "#sk-container-id-1 div.sk-label:hover label.sk-toggleable__label {\n",
              "  color: var(--sklearn-color-text);\n",
              "  background-color: var(--sklearn-color-unfitted-level-2);\n",
              "}\n",
              "\n",
              "/* Label box, darken color on hover, fitted */\n",
              "#sk-container-id-1 div.sk-label.fitted:hover label.sk-toggleable__label.fitted {\n",
              "  color: var(--sklearn-color-text);\n",
              "  background-color: var(--sklearn-color-fitted-level-2);\n",
              "}\n",
              "\n",
              "/* Estimator label */\n",
              "\n",
              "#sk-container-id-1 div.sk-label label {\n",
              "  font-family: monospace;\n",
              "  font-weight: bold;\n",
              "  display: inline-block;\n",
              "  line-height: 1.2em;\n",
              "}\n",
              "\n",
              "#sk-container-id-1 div.sk-label-container {\n",
              "  text-align: center;\n",
              "}\n",
              "\n",
              "/* Estimator-specific */\n",
              "#sk-container-id-1 div.sk-estimator {\n",
              "  font-family: monospace;\n",
              "  border: 1px dotted var(--sklearn-color-border-box);\n",
              "  border-radius: 0.25em;\n",
              "  box-sizing: border-box;\n",
              "  margin-bottom: 0.5em;\n",
              "  /* unfitted */\n",
              "  background-color: var(--sklearn-color-unfitted-level-0);\n",
              "}\n",
              "\n",
              "#sk-container-id-1 div.sk-estimator.fitted {\n",
              "  /* fitted */\n",
              "  background-color: var(--sklearn-color-fitted-level-0);\n",
              "}\n",
              "\n",
              "/* on hover */\n",
              "#sk-container-id-1 div.sk-estimator:hover {\n",
              "  /* unfitted */\n",
              "  background-color: var(--sklearn-color-unfitted-level-2);\n",
              "}\n",
              "\n",
              "#sk-container-id-1 div.sk-estimator.fitted:hover {\n",
              "  /* fitted */\n",
              "  background-color: var(--sklearn-color-fitted-level-2);\n",
              "}\n",
              "\n",
              "/* Specification for estimator info (e.g. \"i\" and \"?\") */\n",
              "\n",
              "/* Common style for \"i\" and \"?\" */\n",
              "\n",
              ".sk-estimator-doc-link,\n",
              "a:link.sk-estimator-doc-link,\n",
              "a:visited.sk-estimator-doc-link {\n",
              "  float: right;\n",
              "  font-size: smaller;\n",
              "  line-height: 1em;\n",
              "  font-family: monospace;\n",
              "  background-color: var(--sklearn-color-background);\n",
              "  border-radius: 1em;\n",
              "  height: 1em;\n",
              "  width: 1em;\n",
              "  text-decoration: none !important;\n",
              "  margin-left: 0.5em;\n",
              "  text-align: center;\n",
              "  /* unfitted */\n",
              "  border: var(--sklearn-color-unfitted-level-1) 1pt solid;\n",
              "  color: var(--sklearn-color-unfitted-level-1);\n",
              "}\n",
              "\n",
              ".sk-estimator-doc-link.fitted,\n",
              "a:link.sk-estimator-doc-link.fitted,\n",
              "a:visited.sk-estimator-doc-link.fitted {\n",
              "  /* fitted */\n",
              "  border: var(--sklearn-color-fitted-level-1) 1pt solid;\n",
              "  color: var(--sklearn-color-fitted-level-1);\n",
              "}\n",
              "\n",
              "/* On hover */\n",
              "div.sk-estimator:hover .sk-estimator-doc-link:hover,\n",
              ".sk-estimator-doc-link:hover,\n",
              "div.sk-label-container:hover .sk-estimator-doc-link:hover,\n",
              ".sk-estimator-doc-link:hover {\n",
              "  /* unfitted */\n",
              "  background-color: var(--sklearn-color-unfitted-level-3);\n",
              "  color: var(--sklearn-color-background);\n",
              "  text-decoration: none;\n",
              "}\n",
              "\n",
              "div.sk-estimator.fitted:hover .sk-estimator-doc-link.fitted:hover,\n",
              ".sk-estimator-doc-link.fitted:hover,\n",
              "div.sk-label-container:hover .sk-estimator-doc-link.fitted:hover,\n",
              ".sk-estimator-doc-link.fitted:hover {\n",
              "  /* fitted */\n",
              "  background-color: var(--sklearn-color-fitted-level-3);\n",
              "  color: var(--sklearn-color-background);\n",
              "  text-decoration: none;\n",
              "}\n",
              "\n",
              "/* Span, style for the box shown on hovering the info icon */\n",
              ".sk-estimator-doc-link span {\n",
              "  display: none;\n",
              "  z-index: 9999;\n",
              "  position: relative;\n",
              "  font-weight: normal;\n",
              "  right: .2ex;\n",
              "  padding: .5ex;\n",
              "  margin: .5ex;\n",
              "  width: min-content;\n",
              "  min-width: 20ex;\n",
              "  max-width: 50ex;\n",
              "  color: var(--sklearn-color-text);\n",
              "  box-shadow: 2pt 2pt 4pt #999;\n",
              "  /* unfitted */\n",
              "  background: var(--sklearn-color-unfitted-level-0);\n",
              "  border: .5pt solid var(--sklearn-color-unfitted-level-3);\n",
              "}\n",
              "\n",
              ".sk-estimator-doc-link.fitted span {\n",
              "  /* fitted */\n",
              "  background: var(--sklearn-color-fitted-level-0);\n",
              "  border: var(--sklearn-color-fitted-level-3);\n",
              "}\n",
              "\n",
              ".sk-estimator-doc-link:hover span {\n",
              "  display: block;\n",
              "}\n",
              "\n",
              "/* \"?\"-specific style due to the `<a>` HTML tag */\n",
              "\n",
              "#sk-container-id-1 a.estimator_doc_link {\n",
              "  float: right;\n",
              "  font-size: 1rem;\n",
              "  line-height: 1em;\n",
              "  font-family: monospace;\n",
              "  background-color: var(--sklearn-color-background);\n",
              "  border-radius: 1rem;\n",
              "  height: 1rem;\n",
              "  width: 1rem;\n",
              "  text-decoration: none;\n",
              "  /* unfitted */\n",
              "  color: var(--sklearn-color-unfitted-level-1);\n",
              "  border: var(--sklearn-color-unfitted-level-1) 1pt solid;\n",
              "}\n",
              "\n",
              "#sk-container-id-1 a.estimator_doc_link.fitted {\n",
              "  /* fitted */\n",
              "  border: var(--sklearn-color-fitted-level-1) 1pt solid;\n",
              "  color: var(--sklearn-color-fitted-level-1);\n",
              "}\n",
              "\n",
              "/* On hover */\n",
              "#sk-container-id-1 a.estimator_doc_link:hover {\n",
              "  /* unfitted */\n",
              "  background-color: var(--sklearn-color-unfitted-level-3);\n",
              "  color: var(--sklearn-color-background);\n",
              "  text-decoration: none;\n",
              "}\n",
              "\n",
              "#sk-container-id-1 a.estimator_doc_link.fitted:hover {\n",
              "  /* fitted */\n",
              "  background-color: var(--sklearn-color-fitted-level-3);\n",
              "}\n",
              "</style><div id=\"sk-container-id-1\" class=\"sk-top-container\"><div class=\"sk-text-repr-fallback\"><pre>RandomForestClassifier(max_depth=10, random_state=42)</pre><b>In a Jupyter environment, please rerun this cell to show the HTML representation or trust the notebook. <br />On GitHub, the HTML representation is unable to render, please try loading this page with nbviewer.org.</b></div><div class=\"sk-container\" hidden><div class=\"sk-item\"><div class=\"sk-estimator fitted sk-toggleable\"><input class=\"sk-toggleable__control sk-hidden--visually\" id=\"sk-estimator-id-1\" type=\"checkbox\" checked><label for=\"sk-estimator-id-1\" class=\"sk-toggleable__label fitted sk-toggleable__label-arrow\"><div><div>RandomForestClassifier</div></div><div><a class=\"sk-estimator-doc-link fitted\" rel=\"noreferrer\" target=\"_blank\" href=\"https://scikit-learn.org/1.6/modules/generated/sklearn.ensemble.RandomForestClassifier.html\">?<span>Documentation for RandomForestClassifier</span></a><span class=\"sk-estimator-doc-link fitted\">i<span>Fitted</span></span></div></label><div class=\"sk-toggleable__content fitted\"><pre>RandomForestClassifier(max_depth=10, random_state=42)</pre></div> </div></div></div></div>"
            ],
            "text/plain": [
              "RandomForestClassifier(max_depth=10, random_state=42)"
            ]
          },
          "execution_count": 25,
          "metadata": {},
          "output_type": "execute_result"
        }
      ],
      "source": [
        "# Retrain the Random Forest model on the entire dataset\n",
        "RF_final = RandomForestClassifier(max_depth=10, random_state=42)\n",
        "RF_final.fit(X, y)\n"
      ]
    },
    {
      "cell_type": "markdown",
      "metadata": {
        "id": "eWy6IuoDC3tm"
      },
      "source": [
        "## Evaluate \"Best Model\" on provided Implementation/OOS DataSets"
      ]
    },
    {
      "cell_type": "code",
      "execution_count": null,
      "metadata": {
        "id": "i4r4GS1RC93i"
      },
      "outputs": [],
      "source": [
        "oos1_url = 'https://www.dropbox.com/scl/fi/25tjo6wvwszygrq6kd750/card_OOS1.csv?rlkey=s1yfcjckludqahjf4bzn2u5no&dl=1'\n",
        "oos2_url = 'https://www.dropbox.com/scl/fi/ntfp8rja3b2eofqk0g0ii/card_OOS2.csv?rlkey=0zqir93n37na2ac2o4zagfpd1&dl=1'\n",
        "oos3_url = 'https://www.dropbox.com/scl/fi/o3g5k9aoe5rj6yfovac54/card_OOS3.csv?rlkey=rqail2dcnnc6qv2mv7sbdsnjp&dl=1'"
      ]
    },
    {
      "cell_type": "code",
      "execution_count": null,
      "metadata": {
        "id": "8B6VBD2XdAKM"
      },
      "outputs": [],
      "source": [
        "oos1 = pd.read_csv(oos1_url)\n",
        "oos2 = pd.read_csv(oos2_url)\n",
        "oos3 = pd.read_csv(oos3_url)"
      ]
    },
    {
      "cell_type": "code",
      "execution_count": null,
      "metadata": {
        "colab": {
          "base_uri": "https://localhost:8080/"
        },
        "id": "bYG6RwpKdlRJ",
        "outputId": "323258da-5622-4388-8f58-f712a3a6d05c"
      },
      "outputs": [
        {
          "name": "stdout",
          "output_type": "stream",
          "text": [
            "(500, 8)\n",
            "(1000, 8)\n",
            "(499, 8)\n"
          ]
        }
      ],
      "source": [
        "print(oos1.shape)\n",
        "print(oos2.shape)\n",
        "print(oos3.shape)"
      ]
    },
    {
      "cell_type": "code",
      "execution_count": null,
      "metadata": {
        "id": "o7XphIw7dqyh"
      },
      "outputs": [],
      "source": [
        "#Apply scalar transforms to all OOS like before\n",
        "\n",
        "X_oos1 = oos1.drop('fraud', axis=1)\n",
        "y_oos1 = oos1['fraud']\n",
        "X_oos1 = StandardScaler().fit_transform(X_oos1)\n",
        "y_oos1 = y_oos1.to_numpy()\n",
        "\n",
        "X_oos2 = oos2.drop('fraud', axis=1)\n",
        "y_oos2 = oos2['fraud']\n",
        "X_oos2 = StandardScaler().fit_transform(X_oos2)\n",
        "y_oos2 = y_oos2.to_numpy()\n",
        "\n",
        "X_oos3 = oos3.drop('fraud', axis=1)\n",
        "y_oos3 = oos3['fraud']\n",
        "X_oos3 = StandardScaler().fit_transform(X_oos3)\n",
        "y_oos3 = y_oos3.to_numpy()"
      ]
    },
    {
      "cell_type": "markdown",
      "metadata": {
        "id": "C0E5m5qCeXP8"
      },
      "source": [
        "### EVALUATION TIME!"
      ]
    },
    {
      "cell_type": "code",
      "execution_count": null,
      "metadata": {
        "colab": {
          "base_uri": "https://localhost:8080/"
        },
        "id": "UdEODUAReISw",
        "outputId": "99d4de96-aebd-4e38-ece9-3363886289f6"
      },
      "outputs": [
        {
          "name": "stdout",
          "output_type": "stream",
          "text": [
            "[[235  15]\n",
            " [189  61]]\n",
            "F1 Score: 0.37423312883435583\n"
          ]
        }
      ],
      "source": [
        "# prompt: Run RF_final.fit on X_oos1 and y_oos1. Report confusion matrix and f1 score\n",
        "\n",
        "y_pred_oos1 = RF_final.predict(X_oos1)\n",
        "print(confusion_matrix(y_oos1, y_pred_oos1))\n",
        "print(\"F1 Score:\", f1_score(y_oos1, y_pred_oos1))\n"
      ]
    },
    {
      "cell_type": "code",
      "execution_count": null,
      "metadata": {
        "colab": {
          "base_uri": "https://localhost:8080/"
        },
        "id": "Gk_apovweafG",
        "outputId": "21850a7d-769f-45ab-a983-778a418d581d"
      },
      "outputs": [
        {
          "name": "stdout",
          "output_type": "stream",
          "text": [
            "[[440  60]\n",
            " [375 125]]\n",
            "F1 Score: 0.36496350364963503\n"
          ]
        }
      ],
      "source": [
        "y_pred_oos2 = RF_final.predict(X_oos2)\n",
        "print(confusion_matrix(y_oos2, y_pred_oos2))\n",
        "print(\"F1 Score:\", f1_score(y_oos2, y_pred_oos2))"
      ]
    },
    {
      "cell_type": "code",
      "execution_count": null,
      "metadata": {
        "colab": {
          "base_uri": "https://localhost:8080/"
        },
        "id": "yrda55n6ec72",
        "outputId": "71a7bd6d-7502-497d-c836-568e3f87d9bb"
      },
      "outputs": [
        {
          "name": "stdout",
          "output_type": "stream",
          "text": [
            "[[341   0]\n",
            " [150   8]]\n",
            "F1 Score: 0.0963855421686747\n"
          ]
        }
      ],
      "source": [
        "y_pred_oos3 = RF_final.predict(X_oos3)\n",
        "print(confusion_matrix(y_oos3, y_pred_oos3))\n",
        "print(\"F1 Score:\", f1_score(y_oos3, y_pred_oos3))\n"
      ]
    },
    {
      "cell_type": "markdown",
      "metadata": {
        "id": "fsMxSRAwejUz"
      },
      "source": [
        "WTH!"
      ]
    },
    {
      "cell_type": "markdown",
      "metadata": {
        "id": "drh07L4ZellE"
      },
      "source": [
        "\n",
        "\n",
        "---\n",
        "\n",
        "Maybe another model was right. Maybe the RF without re-training on all data\n",
        "\n",
        "\n",
        "---\n",
        "\n"
      ]
    },
    {
      "cell_type": "code",
      "execution_count": null,
      "metadata": {
        "colab": {
          "base_uri": "https://localhost:8080/"
        },
        "id": "Fn_Qhz1-ekY3",
        "outputId": "dd172a2a-c7c5-4249-83c0-b90452a49454"
      },
      "outputs": [
        {
          "name": "stdout",
          "output_type": "stream",
          "text": [
            "[[235  15]\n",
            " [189  61]]\n",
            "F1 Score: OOS1 0.37423312883435583\n",
            "[[440  60]\n",
            " [375 125]]\n",
            "F1 Score: OOS2 0.36496350364963503\n",
            "[[341   0]\n",
            " [150   8]]\n",
            "F1 Score: OOS3 0.0963855421686747\n"
          ]
        }
      ],
      "source": [
        "y_pred_oos1 = RF.predict(X_oos1)\n",
        "print(confusion_matrix(y_oos1, y_pred_oos1))\n",
        "print(\"F1 Score: OOS1\", f1_score(y_oos1, y_pred_oos1))\n",
        "y_pred_oos2 = RF.predict(X_oos2)\n",
        "print(confusion_matrix(y_oos2, y_pred_oos2))\n",
        "print(\"F1 Score: OOS2\", f1_score(y_oos2, y_pred_oos2))\n",
        "y_pred_oos3 = RF.predict(X_oos3)\n",
        "print(confusion_matrix(y_oos3, y_pred_oos3))\n",
        "print(\"F1 Score: OOS3\", f1_score(y_oos3, y_pred_oos3))"
      ]
    },
    {
      "cell_type": "code",
      "execution_count": null,
      "metadata": {
        "colab": {
          "base_uri": "https://localhost:8080/"
        },
        "id": "nJQHtozgfZtq",
        "outputId": "a2117f1e-3b44-4bfc-85d3-8735052991a1"
      },
      "outputs": [
        {
          "name": "stdout",
          "output_type": "stream",
          "text": [
            "[[235  15]\n",
            " [189  61]]\n",
            "F1 Score: OOS1 0.37423312883435583\n",
            "[[440  60]\n",
            " [375 125]]\n",
            "F1 Score: OOS2 0.36496350364963503\n",
            "[[341   0]\n",
            " [150   8]]\n",
            "F1 Score: OOS3 0.0963855421686747\n"
          ]
        }
      ],
      "source": [
        "y_pred_oos1 = CART.predict(X_oos1)\n",
        "print(confusion_matrix(y_oos1, y_pred_oos1))\n",
        "print(\"F1 Score: OOS1\", f1_score(y_oos1, y_pred_oos1))\n",
        "y_pred_oos2 = CART.predict(X_oos2)\n",
        "print(confusion_matrix(y_oos2, y_pred_oos2))\n",
        "print(\"F1 Score: OOS2\", f1_score(y_oos2, y_pred_oos2))\n",
        "y_pred_oos3 = CART.predict(X_oos3)\n",
        "print(confusion_matrix(y_oos3, y_pred_oos3))\n",
        "print(\"F1 Score: OOS3\", f1_score(y_oos3, y_pred_oos3))"
      ]
    },
    {
      "cell_type": "code",
      "execution_count": null,
      "metadata": {
        "colab": {
          "base_uri": "https://localhost:8080/"
        },
        "id": "JbB9Uvzdfg2b",
        "outputId": "340e56c7-82d4-4911-8d28-556170be57c0"
      },
      "outputs": [
        {
          "name": "stdout",
          "output_type": "stream",
          "text": [
            "[[235  15]\n",
            " [190  60]]\n",
            "F1 Score: OOS1 0.36923076923076925\n",
            "[[437  63]\n",
            " [377 123]]\n",
            "F1 Score: OOS2 0.358600583090379\n",
            "[[341   0]\n",
            " [149   9]]\n",
            "F1 Score: OOS3 0.10778443113772455\n"
          ]
        }
      ],
      "source": [
        "y_pred_oos1 = knn.predict(X_oos1)\n",
        "print(confusion_matrix(y_oos1, y_pred_oos1))\n",
        "print(\"F1 Score: OOS1\", f1_score(y_oos1, y_pred_oos1))\n",
        "y_pred_oos2 = knn.predict(X_oos2)\n",
        "print(confusion_matrix(y_oos2, y_pred_oos2))\n",
        "print(\"F1 Score: OOS2\", f1_score(y_oos2, y_pred_oos2))\n",
        "y_pred_oos3 = knn.predict(X_oos3)\n",
        "print(confusion_matrix(y_oos3, y_pred_oos3))\n",
        "print(\"F1 Score: OOS3\", f1_score(y_oos3, y_pred_oos3))"
      ]
    },
    {
      "cell_type": "code",
      "execution_count": null,
      "metadata": {
        "colab": {
          "base_uri": "https://localhost:8080/"
        },
        "id": "R0JPCe-6fsJK",
        "outputId": "c688e706-49f7-4257-e551-f080cac9e754"
      },
      "outputs": [
        {
          "name": "stdout",
          "output_type": "stream",
          "text": [
            "[[250   0]\n",
            " [238  12]]\n",
            "F1 Score: OOS1 0.0916030534351145\n",
            "[[495   5]\n",
            " [480  20]]\n",
            "F1 Score: OOS2 0.0761904761904762\n",
            "[[337   4]\n",
            " [150   8]]\n",
            "F1 Score: OOS3 0.09411764705882353\n"
          ]
        }
      ],
      "source": [
        "y_pred_oos1 = ridge_log_reg.predict(X_oos1)\n",
        "print(confusion_matrix(y_oos1, y_pred_oos1))\n",
        "print(\"F1 Score: OOS1\", f1_score(y_oos1, y_pred_oos1))\n",
        "y_pred_oos2 = ridge_log_reg.predict(X_oos2)\n",
        "print(confusion_matrix(y_oos2, y_pred_oos2))\n",
        "print(\"F1 Score: OOS2\", f1_score(y_oos2, y_pred_oos2))\n",
        "y_pred_oos3 = ridge_log_reg.predict(X_oos3)\n",
        "print(confusion_matrix(y_oos3, y_pred_oos3))\n",
        "print(\"F1 Score: OOS3\", f1_score(y_oos3, y_pred_oos3))"
      ]
    },
    {
      "cell_type": "code",
      "execution_count": null,
      "metadata": {
        "colab": {
          "base_uri": "https://localhost:8080/"
        },
        "id": "-0d97xWHf21D",
        "outputId": "a6c95a00-7ca3-46c4-f1ec-60a163410dfa"
      },
      "outputs": [
        {
          "name": "stdout",
          "output_type": "stream",
          "text": [
            "[[250   0]\n",
            " [189  61]]\n",
            "F1 Score: OOS1 0.39228295819935693\n",
            "[[496   4]\n",
            " [390 110]]\n",
            "F1 Score: OOS2 0.3583061889250814\n",
            "[[333   8]\n",
            " [150   8]]\n",
            "F1 Score: OOS3 0.09195402298850575\n"
          ]
        }
      ],
      "source": [
        "y_pred_oos1 = lasso_log_reg.predict(X_oos1)\n",
        "print(confusion_matrix(y_oos1, y_pred_oos1))\n",
        "print(\"F1 Score: OOS1\", f1_score(y_oos1, y_pred_oos1))\n",
        "y_pred_oos2 = lasso_log_reg.predict(X_oos2)\n",
        "print(confusion_matrix(y_oos2, y_pred_oos2))\n",
        "print(\"F1 Score: OOS2\", f1_score(y_oos2, y_pred_oos2))\n",
        "y_pred_oos3 = lasso_log_reg.predict(X_oos3)\n",
        "print(confusion_matrix(y_oos3, y_pred_oos3))\n",
        "print(\"F1 Score: OOS3\", f1_score(y_oos3, y_pred_oos3))"
      ]
    },
    {
      "cell_type": "code",
      "execution_count": null,
      "metadata": {
        "colab": {
          "base_uri": "https://localhost:8080/"
        },
        "id": "lnwaOV2Rf_GG",
        "outputId": "c987628b-3866-4604-98d8-1cb5cbb648c8"
      },
      "outputs": [
        {
          "name": "stdout",
          "output_type": "stream",
          "text": [
            "[[250   0]\n",
            " [189  61]]\n",
            "F1 Score: OOS1 0.39228295819935693\n",
            "[[496   4]\n",
            " [390 110]]\n",
            "F1 Score: OOS2 0.3583061889250814\n",
            "[[333   8]\n",
            " [150   8]]\n",
            "F1 Score: OOS3 0.09195402298850575\n"
          ]
        }
      ],
      "source": [
        "y_pred_oos1 = log_reg.predict(X_oos1)\n",
        "print(confusion_matrix(y_oos1, y_pred_oos1))\n",
        "print(\"F1 Score: OOS1\", f1_score(y_oos1, y_pred_oos1))\n",
        "y_pred_oos2 = log_reg.predict(X_oos2)\n",
        "print(confusion_matrix(y_oos2, y_pred_oos2))\n",
        "print(\"F1 Score: OOS2\", f1_score(y_oos2, y_pred_oos2))\n",
        "y_pred_oos3 = log_reg.predict(X_oos3)\n",
        "print(confusion_matrix(y_oos3, y_pred_oos3))\n",
        "print(\"F1 Score: OOS3\", f1_score(y_oos3, y_pred_oos3))"
      ]
    },
    {
      "cell_type": "markdown",
      "metadata": {
        "id": "HAInEPHCgKvJ"
      },
      "source": [
        "\n",
        "\n",
        "---\n",
        "\n",
        "***DO AT HOME: Now make a Neural Network on this data -- How does that perform and compare?***\n",
        "\n",
        "---\n",
        "\n"
      ]
    }
  ],
  "metadata": {
    "accelerator": "TPU",
    "colab": {
      "gpuType": "V5E1",
      "machine_shape": "hm",
      "provenance": []
    },
    "kernelspec": {
      "display_name": "Python 3",
      "name": "python3"
    },
    "language_info": {
      "codemirror_mode": {
        "name": "ipython",
        "version": 3
      },
      "file_extension": ".py",
      "mimetype": "text/x-python",
      "name": "python",
      "nbconvert_exporter": "python",
      "pygments_lexer": "ipython3",
      "version": "3.11.4"
    }
  },
  "nbformat": 4,
  "nbformat_minor": 0
}
